{
  "cells": [
    {
      "cell_type": "markdown",
      "metadata": {
        "id": "view-in-github",
        "colab_type": "text"
      },
      "source": [
        "<a href=\"https://colab.research.google.com/github/princecj65779/Final-Project-602/blob/main/Final_602_Project_Airbnb.ipynb\" target=\"_parent\"><img src=\"https://colab.research.google.com/assets/colab-badge.svg\" alt=\"Open In Colab\"/></a>"
      ]
    },
    {
      "cell_type": "markdown",
      "metadata": {
        "id": "9lUI4zGZbSoE"
      },
      "source": [
        "## **INTRODUCTION**\n",
        "In this notebook I'm going to perform a classification problem on AirBnb dataset.My motivation to choose airbnb as the performing dataset was because of the properties that are varied and interesting, there are large amount of observations, and the relevance to the subject. Each row in the \"Listings\" dataframe represents an Airbnb listing, which includes details about the property as well as statistics about the host.\n",
        "\n",
        "This Project's aim was to:\n",
        "* *Predict the type of host (superhosts/non-superhosts) and understanding what attributes contribute to the classification of a superhost*"
      ]
    },
    {
      "cell_type": "markdown",
      "metadata": {
        "id": "k3gRKsb6cNMC"
      },
      "source": [
        "### **DataSet** \n",
        "\n",
        "The data has been taken from 4 files as listed below. The datasets have been taken from [InsideAirbnb](http://insideairbnb.com/get-the-data.html)\n",
        "\n",
        "* Listings \n",
        "* Reviews \n",
        "* Calendar\n",
        "* Neighborhood\n",
        "\n"
      ]
    },
    {
      "cell_type": "code",
      "execution_count": null,
      "metadata": {
        "colab": {
          "base_uri": "https://localhost:8080/"
        },
        "id": "YtNIQ1BqiZ-6",
        "outputId": "5122e87f-a934-4005-8a45-00743026da5f"
      },
      "outputs": [
        {
          "output_type": "stream",
          "name": "stdout",
          "text": [
            "Drive already mounted at /content/drive; to attempt to forcibly remount, call drive.mount(\"/content/drive\", force_remount=True).\n"
          ]
        }
      ],
      "source": [
        "from google.colab import drive\n",
        "drive.mount('/content/drive')"
      ]
    },
    {
      "cell_type": "markdown",
      "metadata": {
        "id": "pl17jlYmFvZv"
      },
      "source": [
        "### **Loading Libraries**"
      ]
    },
    {
      "cell_type": "code",
      "execution_count": null,
      "metadata": {
        "colab": {
          "base_uri": "https://localhost:8080/"
        },
        "id": "0JwUmJxPD4sh",
        "outputId": "c14ff549-251c-4866-8951-c03f2f16f875"
      },
      "outputs": [
        {
          "output_type": "stream",
          "name": "stdout",
          "text": [
            "Requirement already satisfied: missingno in /usr/local/lib/python3.7/dist-packages (0.5.0)\n",
            "Requirement already satisfied: numpy in /usr/local/lib/python3.7/dist-packages (from missingno) (1.19.5)\n",
            "Requirement already satisfied: matplotlib in /usr/local/lib/python3.7/dist-packages (from missingno) (3.2.2)\n",
            "Requirement already satisfied: seaborn in /usr/local/lib/python3.7/dist-packages (from missingno) (0.11.2)\n",
            "Requirement already satisfied: scipy in /usr/local/lib/python3.7/dist-packages (from missingno) (1.4.1)\n",
            "Requirement already satisfied: python-dateutil>=2.1 in /usr/local/lib/python3.7/dist-packages (from matplotlib->missingno) (2.8.2)\n",
            "Requirement already satisfied: pyparsing!=2.0.4,!=2.1.2,!=2.1.6,>=2.0.1 in /usr/local/lib/python3.7/dist-packages (from matplotlib->missingno) (3.0.6)\n",
            "Requirement already satisfied: kiwisolver>=1.0.1 in /usr/local/lib/python3.7/dist-packages (from matplotlib->missingno) (1.3.2)\n",
            "Requirement already satisfied: cycler>=0.10 in /usr/local/lib/python3.7/dist-packages (from matplotlib->missingno) (0.11.0)\n",
            "Requirement already satisfied: six>=1.5 in /usr/local/lib/python3.7/dist-packages (from python-dateutil>=2.1->matplotlib->missingno) (1.15.0)\n",
            "Requirement already satisfied: pandas>=0.23 in /usr/local/lib/python3.7/dist-packages (from seaborn->missingno) (1.1.5)\n",
            "Requirement already satisfied: pytz>=2017.2 in /usr/local/lib/python3.7/dist-packages (from pandas>=0.23->seaborn->missingno) (2018.9)\n",
            "Requirement already satisfied: plotly in /usr/local/lib/python3.7/dist-packages (4.4.1)\n",
            "Requirement already satisfied: six in /usr/local/lib/python3.7/dist-packages (from plotly) (1.15.0)\n",
            "Requirement already satisfied: retrying>=1.3.3 in /usr/local/lib/python3.7/dist-packages (from plotly) (1.3.3)\n",
            "Requirement already satisfied: folium in /usr/local/lib/python3.7/dist-packages (0.8.3)\n",
            "Requirement already satisfied: branca>=0.3.0 in /usr/local/lib/python3.7/dist-packages (from folium) (0.4.2)\n",
            "Requirement already satisfied: jinja2 in /usr/local/lib/python3.7/dist-packages (from folium) (2.11.3)\n",
            "Requirement already satisfied: six in /usr/local/lib/python3.7/dist-packages (from folium) (1.15.0)\n",
            "Requirement already satisfied: numpy in /usr/local/lib/python3.7/dist-packages (from folium) (1.19.5)\n",
            "Requirement already satisfied: requests in /usr/local/lib/python3.7/dist-packages (from folium) (2.23.0)\n",
            "Requirement already satisfied: MarkupSafe>=0.23 in /usr/local/lib/python3.7/dist-packages (from jinja2->folium) (2.0.1)\n",
            "Requirement already satisfied: certifi>=2017.4.17 in /usr/local/lib/python3.7/dist-packages (from requests->folium) (2021.10.8)\n",
            "Requirement already satisfied: chardet<4,>=3.0.2 in /usr/local/lib/python3.7/dist-packages (from requests->folium) (3.0.4)\n",
            "Requirement already satisfied: idna<3,>=2.5 in /usr/local/lib/python3.7/dist-packages (from requests->folium) (2.10)\n",
            "Requirement already satisfied: urllib3!=1.25.0,!=1.25.1,<1.26,>=1.21.1 in /usr/local/lib/python3.7/dist-packages (from requests->folium) (1.24.3)\n"
          ]
        }
      ],
      "source": [
        "%matplotlib inline\n",
        "\n",
        "import numpy as np\n",
        "import pandas as pd\n",
        "import matplotlib.pyplot as plt\n",
        "import seaborn as sns\n",
        "! pip install missingno\n",
        "import missingno as msno\n",
        "import math\n",
        "from os import path\n",
        "\n",
        "# plotly imports\n",
        "! pip install plotly\n",
        "import plotly.graph_objects as go\n",
        "from plotly.subplots import make_subplots\n",
        "import plotly.express as px\n",
        "\n",
        "# folium imports\n",
        "! pip install folium\n",
        "import folium\n",
        "from folium import Choropleth, Circle, Marker\n",
        "from folium.plugins import HeatMap, MarkerCluster\n",
        "\n",
        "#importing models for preprocessing and splitting data\n",
        "from sklearn import preprocessing\n",
        "from sklearn.model_selection import train_test_split\n",
        "\n",
        "#importing packages for classification models\n",
        "from sklearn.neighbors import KNeighborsClassifier\n",
        "from sklearn.ensemble import RandomForestClassifier\n",
        "from sklearn.datasets import make_classification\n",
        "from sklearn.metrics import accuracy_score\n",
        "\n",
        "import sklearn\n",
        "from sklearn.linear_model import LinearRegression\n",
        "import statsmodels.api as sm\n",
        "from sklearn import metrics\n",
        "from sklearn.feature_selection import RFE\n",
        "from sklearn.model_selection import cross_val_score\n",
        "from sklearn.model_selection import RepeatedKFold\n",
        "from sklearn.tree import DecisionTreeRegressor\n",
        "from sklearn.pipeline import Pipeline\n",
        "from sklearn.preprocessing import StandardScaler\n",
        "from sklearn.preprocessing import LabelEncoder\n",
        "\n",
        "from IPython.display import Image"
      ]
    },
    {
      "cell_type": "markdown",
      "metadata": {
        "id": "LtIK-1oXUglR"
      },
      "source": [
        "### **Loading Dataset**"
      ]
    },
    {
      "cell_type": "code",
      "execution_count": null,
      "metadata": {
        "id": "sIXAoCNfEXzD"
      },
      "outputs": [],
      "source": [
        "listings = pd.read_csv(\"/content/drive/MyDrive/lol/listings.csv\")\n",
        "calendar = pd.read_csv(\"/content/drive/MyDrive/lol/calendar.csv\")\n",
        "reviews = pd.read_csv(\"/content/drive/MyDrive/lol/reviews.csv\", parse_dates=['date'])\n",
        "neighborhoods = pd.read_csv(\"/content/drive/MyDrive/lol/neighbourhoods (1).csv\")"
      ]
    },
    {
      "cell_type": "markdown",
      "metadata": {
        "id": "AXLVTI9P-0zf"
      },
      "source": [
        "### **Exploring Dataset**"
      ]
    },
    {
      "cell_type": "markdown",
      "metadata": {
        "id": "rT2Rj8uziLeF"
      },
      "source": [
        "We've three different dataframe here. Let's understand what they contain."
      ]
    },
    {
      "cell_type": "markdown",
      "metadata": {
        "id": "kBSHZb_CeugF"
      },
      "source": [
        "#### ***Listings DataFrame***\n"
      ]
    },
    {
      "cell_type": "code",
      "execution_count": null,
      "metadata": {
        "colab": {
          "base_uri": "https://localhost:8080/",
          "height": 222
        },
        "id": "LXvEzF77OopA",
        "outputId": "cf9c6dbc-9095-4b8e-e3ca-1a29c50533cc"
      },
      "outputs": [
        {
          "output_type": "execute_result",
          "data": {
            "text/html": [
              "<div>\n",
              "<style scoped>\n",
              "    .dataframe tbody tr th:only-of-type {\n",
              "        vertical-align: middle;\n",
              "    }\n",
              "\n",
              "    .dataframe tbody tr th {\n",
              "        vertical-align: top;\n",
              "    }\n",
              "\n",
              "    .dataframe thead th {\n",
              "        text-align: right;\n",
              "    }\n",
              "</style>\n",
              "<table border=\"1\" class=\"dataframe\">\n",
              "  <thead>\n",
              "    <tr style=\"text-align: right;\">\n",
              "      <th></th>\n",
              "      <th>id</th>\n",
              "      <th>listing_url</th>\n",
              "      <th>scrape_id</th>\n",
              "      <th>last_scraped</th>\n",
              "      <th>name</th>\n",
              "      <th>description</th>\n",
              "      <th>neighborhood_overview</th>\n",
              "      <th>picture_url</th>\n",
              "      <th>host_id</th>\n",
              "      <th>host_url</th>\n",
              "      <th>host_name</th>\n",
              "      <th>host_since</th>\n",
              "      <th>host_location</th>\n",
              "      <th>host_about</th>\n",
              "      <th>host_response_time</th>\n",
              "      <th>host_response_rate</th>\n",
              "      <th>host_acceptance_rate</th>\n",
              "      <th>host_is_superhost</th>\n",
              "      <th>host_thumbnail_url</th>\n",
              "      <th>host_picture_url</th>\n",
              "      <th>host_neighbourhood</th>\n",
              "      <th>host_listings_count</th>\n",
              "      <th>host_total_listings_count</th>\n",
              "      <th>host_verifications</th>\n",
              "      <th>host_has_profile_pic</th>\n",
              "      <th>host_identity_verified</th>\n",
              "      <th>neighbourhood</th>\n",
              "      <th>neighbourhood_cleansed</th>\n",
              "      <th>neighbourhood_group_cleansed</th>\n",
              "      <th>latitude</th>\n",
              "      <th>longitude</th>\n",
              "      <th>property_type</th>\n",
              "      <th>room_type</th>\n",
              "      <th>accommodates</th>\n",
              "      <th>bathrooms</th>\n",
              "      <th>bathrooms_text</th>\n",
              "      <th>bedrooms</th>\n",
              "      <th>beds</th>\n",
              "      <th>amenities</th>\n",
              "      <th>price</th>\n",
              "      <th>minimum_nights</th>\n",
              "      <th>maximum_nights</th>\n",
              "      <th>minimum_minimum_nights</th>\n",
              "      <th>maximum_minimum_nights</th>\n",
              "      <th>minimum_maximum_nights</th>\n",
              "      <th>maximum_maximum_nights</th>\n",
              "      <th>minimum_nights_avg_ntm</th>\n",
              "      <th>maximum_nights_avg_ntm</th>\n",
              "      <th>calendar_updated</th>\n",
              "      <th>has_availability</th>\n",
              "      <th>availability_30</th>\n",
              "      <th>availability_60</th>\n",
              "      <th>availability_90</th>\n",
              "      <th>availability_365</th>\n",
              "      <th>calendar_last_scraped</th>\n",
              "      <th>number_of_reviews</th>\n",
              "      <th>number_of_reviews_ltm</th>\n",
              "      <th>number_of_reviews_l30d</th>\n",
              "      <th>first_review</th>\n",
              "      <th>last_review</th>\n",
              "      <th>review_scores_rating</th>\n",
              "      <th>review_scores_accuracy</th>\n",
              "      <th>review_scores_cleanliness</th>\n",
              "      <th>review_scores_checkin</th>\n",
              "      <th>review_scores_communication</th>\n",
              "      <th>review_scores_location</th>\n",
              "      <th>review_scores_value</th>\n",
              "      <th>license</th>\n",
              "      <th>instant_bookable</th>\n",
              "      <th>calculated_host_listings_count</th>\n",
              "      <th>calculated_host_listings_count_entire_homes</th>\n",
              "      <th>calculated_host_listings_count_private_rooms</th>\n",
              "      <th>calculated_host_listings_count_shared_rooms</th>\n",
              "      <th>reviews_per_month</th>\n",
              "    </tr>\n",
              "  </thead>\n",
              "  <tbody>\n",
              "    <tr>\n",
              "      <th>0</th>\n",
              "      <td>11464</td>\n",
              "      <td>https://www.airbnb.com/rooms/11464</td>\n",
              "      <td>20211024155027</td>\n",
              "      <td>2021-10-24</td>\n",
              "      <td>Deluxe Studio 5 min.  to SC Kaiser &amp; Apple Park</td>\n",
              "      <td>Custom built Studio with exquisite design. Rea...</td>\n",
              "      <td>10 min. to Lucky's and Starbucks at El Camino ...</td>\n",
              "      <td>https://a0.muscache.com/pictures/121321/2c5a5a...</td>\n",
              "      <td>42458</td>\n",
              "      <td>https://www.airbnb.com/users/show/42458</td>\n",
              "      <td>Emey</td>\n",
              "      <td>2009-09-30</td>\n",
              "      <td>Mountain View, California, United States</td>\n",
              "      <td>I pride myself on attention to details and cus...</td>\n",
              "      <td>within an hour</td>\n",
              "      <td>100%</td>\n",
              "      <td>95%</td>\n",
              "      <td>f</td>\n",
              "      <td>https://a0.muscache.com/im/users/42458/profile...</td>\n",
              "      <td>https://a0.muscache.com/im/users/42458/profile...</td>\n",
              "      <td>Santa Clara</td>\n",
              "      <td>15</td>\n",
              "      <td>15</td>\n",
              "      <td>['email', 'phone', 'reviews']</td>\n",
              "      <td>t</td>\n",
              "      <td>f</td>\n",
              "      <td>Santa Clara, California, United States</td>\n",
              "      <td>Santa Clara</td>\n",
              "      <td>NaN</td>\n",
              "      <td>37.34415</td>\n",
              "      <td>-121.98701</td>\n",
              "      <td>Entire rental unit</td>\n",
              "      <td>Entire home/apt</td>\n",
              "      <td>2</td>\n",
              "      <td>NaN</td>\n",
              "      <td>1 bath</td>\n",
              "      <td>NaN</td>\n",
              "      <td>0.0</td>\n",
              "      <td>[\"Stove\", \"Cooking basics\", \"Dedicated workspa...</td>\n",
              "      <td>$85.00</td>\n",
              "      <td>4</td>\n",
              "      <td>365</td>\n",
              "      <td>4</td>\n",
              "      <td>4</td>\n",
              "      <td>1125</td>\n",
              "      <td>1125</td>\n",
              "      <td>4.0</td>\n",
              "      <td>1125.0</td>\n",
              "      <td>NaN</td>\n",
              "      <td>t</td>\n",
              "      <td>18</td>\n",
              "      <td>48</td>\n",
              "      <td>78</td>\n",
              "      <td>168</td>\n",
              "      <td>2021-10-24</td>\n",
              "      <td>11</td>\n",
              "      <td>5</td>\n",
              "      <td>1</td>\n",
              "      <td>2018-08-26</td>\n",
              "      <td>2021-10-13</td>\n",
              "      <td>4.55</td>\n",
              "      <td>5.0</td>\n",
              "      <td>4.82</td>\n",
              "      <td>4.91</td>\n",
              "      <td>4.82</td>\n",
              "      <td>4.82</td>\n",
              "      <td>4.73</td>\n",
              "      <td>NaN</td>\n",
              "      <td>t</td>\n",
              "      <td>14</td>\n",
              "      <td>14</td>\n",
              "      <td>0</td>\n",
              "      <td>0</td>\n",
              "      <td>0.29</td>\n",
              "    </tr>\n",
              "  </tbody>\n",
              "</table>\n",
              "</div>"
            ],
            "text/plain": [
              "      id  ... reviews_per_month\n",
              "0  11464  ...              0.29\n",
              "\n",
              "[1 rows x 74 columns]"
            ]
          },
          "metadata": {},
          "execution_count": 18
        }
      ],
      "source": [
        "listings.head(1)"
      ]
    },
    {
      "cell_type": "code",
      "execution_count": null,
      "metadata": {
        "colab": {
          "base_uri": "https://localhost:8080/"
        },
        "id": "GI7z3-MiVMPc",
        "outputId": "951d8de1-fc01-4b2c-ed57-c037d965b16e"
      },
      "outputs": [
        {
          "output_type": "stream",
          "name": "stdout",
          "text": [
            "(5092, 74)\n",
            "5092\n"
          ]
        }
      ],
      "source": [
        "print(listings.shape)\n",
        "print(len(listings.id.unique()))"
      ]
    },
    {
      "cell_type": "markdown",
      "metadata": {
        "id": "2V_9yFD9IpMz"
      },
      "source": [
        "***There are 5092 unique observations (listing ids) and 74 features.***"
      ]
    },
    {
      "cell_type": "code",
      "execution_count": null,
      "metadata": {
        "colab": {
          "base_uri": "https://localhost:8080/"
        },
        "id": "_sVuGMvZVPbv",
        "outputId": "e645f169-df62-4094-d107-6713315f206b"
      },
      "outputs": [
        {
          "output_type": "stream",
          "name": "stdout",
          "text": [
            "<class 'pandas.core.frame.DataFrame'>\n",
            "RangeIndex: 5092 entries, 0 to 5091\n",
            "Data columns (total 74 columns):\n",
            " #   Column                                        Non-Null Count  Dtype  \n",
            "---  ------                                        --------------  -----  \n",
            " 0   id                                            5092 non-null   int64  \n",
            " 1   listing_url                                   5092 non-null   object \n",
            " 2   scrape_id                                     5092 non-null   int64  \n",
            " 3   last_scraped                                  5092 non-null   object \n",
            " 4   name                                          5091 non-null   object \n",
            " 5   description                                   4923 non-null   object \n",
            " 6   neighborhood_overview                         3093 non-null   object \n",
            " 7   picture_url                                   5092 non-null   object \n",
            " 8   host_id                                       5092 non-null   int64  \n",
            " 9   host_url                                      5092 non-null   object \n",
            " 10  host_name                                     5092 non-null   object \n",
            " 11  host_since                                    5092 non-null   object \n",
            " 12  host_location                                 5084 non-null   object \n",
            " 13  host_about                                    3306 non-null   object \n",
            " 14  host_response_time                            4089 non-null   object \n",
            " 15  host_response_rate                            4089 non-null   object \n",
            " 16  host_acceptance_rate                          4156 non-null   object \n",
            " 17  host_is_superhost                             5092 non-null   object \n",
            " 18  host_thumbnail_url                            5092 non-null   object \n",
            " 19  host_picture_url                              5092 non-null   object \n",
            " 20  host_neighbourhood                            4274 non-null   object \n",
            " 21  host_listings_count                           5092 non-null   int64  \n",
            " 22  host_total_listings_count                     5092 non-null   int64  \n",
            " 23  host_verifications                            5092 non-null   object \n",
            " 24  host_has_profile_pic                          5092 non-null   object \n",
            " 25  host_identity_verified                        5092 non-null   object \n",
            " 26  neighbourhood                                 3093 non-null   object \n",
            " 27  neighbourhood_cleansed                        5092 non-null   object \n",
            " 28  neighbourhood_group_cleansed                  0 non-null      float64\n",
            " 29  latitude                                      5092 non-null   float64\n",
            " 30  longitude                                     5092 non-null   float64\n",
            " 31  property_type                                 5092 non-null   object \n",
            " 32  room_type                                     5092 non-null   object \n",
            " 33  accommodates                                  5092 non-null   int64  \n",
            " 34  bathrooms                                     0 non-null      float64\n",
            " 35  bathrooms_text                                5083 non-null   object \n",
            " 36  bedrooms                                      4748 non-null   float64\n",
            " 37  beds                                          4915 non-null   float64\n",
            " 38  amenities                                     5092 non-null   object \n",
            " 39  price                                         5092 non-null   object \n",
            " 40  minimum_nights                                5092 non-null   int64  \n",
            " 41  maximum_nights                                5092 non-null   int64  \n",
            " 42  minimum_minimum_nights                        5092 non-null   int64  \n",
            " 43  maximum_minimum_nights                        5092 non-null   int64  \n",
            " 44  minimum_maximum_nights                        5092 non-null   int64  \n",
            " 45  maximum_maximum_nights                        5092 non-null   int64  \n",
            " 46  minimum_nights_avg_ntm                        5092 non-null   float64\n",
            " 47  maximum_nights_avg_ntm                        5092 non-null   float64\n",
            " 48  calendar_updated                              0 non-null      float64\n",
            " 49  has_availability                              5092 non-null   object \n",
            " 50  availability_30                               5092 non-null   int64  \n",
            " 51  availability_60                               5092 non-null   int64  \n",
            " 52  availability_90                               5092 non-null   int64  \n",
            " 53  availability_365                              5092 non-null   int64  \n",
            " 54  calendar_last_scraped                         5092 non-null   object \n",
            " 55  number_of_reviews                             5092 non-null   int64  \n",
            " 56  number_of_reviews_ltm                         5092 non-null   int64  \n",
            " 57  number_of_reviews_l30d                        5092 non-null   int64  \n",
            " 58  first_review                                  3953 non-null   object \n",
            " 59  last_review                                   3953 non-null   object \n",
            " 60  review_scores_rating                          3953 non-null   float64\n",
            " 61  review_scores_accuracy                        3930 non-null   float64\n",
            " 62  review_scores_cleanliness                     3930 non-null   float64\n",
            " 63  review_scores_checkin                         3930 non-null   float64\n",
            " 64  review_scores_communication                   3930 non-null   float64\n",
            " 65  review_scores_location                        3930 non-null   float64\n",
            " 66  review_scores_value                           3930 non-null   float64\n",
            " 67  license                                       29 non-null     object \n",
            " 68  instant_bookable                              5092 non-null   object \n",
            " 69  calculated_host_listings_count                5092 non-null   int64  \n",
            " 70  calculated_host_listings_count_entire_homes   5092 non-null   int64  \n",
            " 71  calculated_host_listings_count_private_rooms  5092 non-null   int64  \n",
            " 72  calculated_host_listings_count_shared_rooms   5092 non-null   int64  \n",
            " 73  reviews_per_month                             3953 non-null   float64\n",
            "dtypes: float64(17), int64(23), object(34)\n",
            "memory usage: 2.9+ MB\n"
          ]
        }
      ],
      "source": [
        "listings.info()"
      ]
    },
    {
      "cell_type": "markdown",
      "metadata": {
        "id": "ZZKqXG3THHBQ"
      },
      "source": [
        "#### ***Calendar DataFrame***\n"
      ]
    },
    {
      "cell_type": "markdown",
      "metadata": {
        "id": "vYT7RTzlKjKm"
      },
      "source": [
        "**Here is a glimpse of the calendar dataframe.**"
      ]
    },
    {
      "cell_type": "code",
      "execution_count": null,
      "metadata": {
        "colab": {
          "base_uri": "https://localhost:8080/",
          "height": 112
        },
        "id": "hq3eCxN0HK_j",
        "outputId": "72b606f3-b37b-4a47-e9bf-252365ca12bf"
      },
      "outputs": [
        {
          "output_type": "execute_result",
          "data": {
            "text/html": [
              "<div>\n",
              "<style scoped>\n",
              "    .dataframe tbody tr th:only-of-type {\n",
              "        vertical-align: middle;\n",
              "    }\n",
              "\n",
              "    .dataframe tbody tr th {\n",
              "        vertical-align: top;\n",
              "    }\n",
              "\n",
              "    .dataframe thead th {\n",
              "        text-align: right;\n",
              "    }\n",
              "</style>\n",
              "<table border=\"1\" class=\"dataframe\">\n",
              "  <thead>\n",
              "    <tr style=\"text-align: right;\">\n",
              "      <th></th>\n",
              "      <th>listing_id</th>\n",
              "      <th>date</th>\n",
              "      <th>available</th>\n",
              "      <th>price</th>\n",
              "      <th>adjusted_price</th>\n",
              "      <th>minimum_nights</th>\n",
              "      <th>maximum_nights</th>\n",
              "    </tr>\n",
              "  </thead>\n",
              "  <tbody>\n",
              "    <tr>\n",
              "      <th>0</th>\n",
              "      <td>1148601</td>\n",
              "      <td>2021-10-24</td>\n",
              "      <td>f</td>\n",
              "      <td>$50.00</td>\n",
              "      <td>$50.00</td>\n",
              "      <td>30.0</td>\n",
              "      <td>1125.0</td>\n",
              "    </tr>\n",
              "    <tr>\n",
              "      <th>1</th>\n",
              "      <td>1148601</td>\n",
              "      <td>2021-10-25</td>\n",
              "      <td>f</td>\n",
              "      <td>$50.00</td>\n",
              "      <td>$50.00</td>\n",
              "      <td>30.0</td>\n",
              "      <td>1125.0</td>\n",
              "    </tr>\n",
              "  </tbody>\n",
              "</table>\n",
              "</div>"
            ],
            "text/plain": [
              "   listing_id        date  ... minimum_nights maximum_nights\n",
              "0     1148601  2021-10-24  ...           30.0         1125.0\n",
              "1     1148601  2021-10-25  ...           30.0         1125.0\n",
              "\n",
              "[2 rows x 7 columns]"
            ]
          },
          "metadata": {},
          "execution_count": 21
        }
      ],
      "source": [
        "calendar.head(2)"
      ]
    },
    {
      "cell_type": "code",
      "execution_count": null,
      "metadata": {
        "colab": {
          "base_uri": "https://localhost:8080/"
        },
        "id": "8TqQwcx-HSOW",
        "outputId": "387cf4f7-c309-4ecf-d3fe-736f7b83b257"
      },
      "outputs": [
        {
          "output_type": "execute_result",
          "data": {
            "text/plain": [
              "(1858593, 7)"
            ]
          },
          "metadata": {},
          "execution_count": 22
        }
      ],
      "source": [
        "calendar.shape"
      ]
    },
    {
      "cell_type": "markdown",
      "metadata": {
        "id": "BNq7nNfjKn5E"
      },
      "source": [
        "**There are 1858593 observations and 7 features**\n"
      ]
    },
    {
      "cell_type": "markdown",
      "metadata": {
        "id": "KgYqrJMtK0di"
      },
      "source": [
        "**Here is an overview of the dataframe.**"
      ]
    },
    {
      "cell_type": "code",
      "execution_count": null,
      "metadata": {
        "colab": {
          "base_uri": "https://localhost:8080/"
        },
        "id": "AoMJ_BV8HXU9",
        "outputId": "477eed48-cfeb-497b-872d-116aa6a2b619"
      },
      "outputs": [
        {
          "output_type": "stream",
          "name": "stdout",
          "text": [
            "<class 'pandas.core.frame.DataFrame'>\n",
            "RangeIndex: 1858593 entries, 0 to 1858592\n",
            "Data columns (total 7 columns):\n",
            " #   Column          Dtype  \n",
            "---  ------          -----  \n",
            " 0   listing_id      int64  \n",
            " 1   date            object \n",
            " 2   available       object \n",
            " 3   price           object \n",
            " 4   adjusted_price  object \n",
            " 5   minimum_nights  float64\n",
            " 6   maximum_nights  float64\n",
            "dtypes: float64(2), int64(1), object(4)\n",
            "memory usage: 99.3+ MB\n"
          ]
        }
      ],
      "source": [
        "calendar.info()"
      ]
    },
    {
      "cell_type": "markdown",
      "metadata": {
        "id": "2G51zWOrxBZ-"
      },
      "source": [
        "#### **Numeric columns information**"
      ]
    },
    {
      "cell_type": "code",
      "execution_count": null,
      "metadata": {
        "colab": {
          "base_uri": "https://localhost:8080/",
          "height": 300
        },
        "id": "nQInxORZHnQ0",
        "outputId": "4ed46c25-7138-459f-bbc1-775396df9779"
      },
      "outputs": [
        {
          "output_type": "execute_result",
          "data": {
            "text/html": [
              "<div>\n",
              "<style scoped>\n",
              "    .dataframe tbody tr th:only-of-type {\n",
              "        vertical-align: middle;\n",
              "    }\n",
              "\n",
              "    .dataframe tbody tr th {\n",
              "        vertical-align: top;\n",
              "    }\n",
              "\n",
              "    .dataframe thead th {\n",
              "        text-align: right;\n",
              "    }\n",
              "</style>\n",
              "<table border=\"1\" class=\"dataframe\">\n",
              "  <thead>\n",
              "    <tr style=\"text-align: right;\">\n",
              "      <th></th>\n",
              "      <th>minimum_nights</th>\n",
              "      <th>maximum_nights</th>\n",
              "    </tr>\n",
              "  </thead>\n",
              "  <tbody>\n",
              "    <tr>\n",
              "      <th>count</th>\n",
              "      <td>1.858592e+06</td>\n",
              "      <td>1.858592e+06</td>\n",
              "    </tr>\n",
              "    <tr>\n",
              "      <th>mean</th>\n",
              "      <td>3.803295e+01</td>\n",
              "      <td>7.575885e+06</td>\n",
              "    </tr>\n",
              "    <tr>\n",
              "      <th>std</th>\n",
              "      <td>1.374690e+02</td>\n",
              "      <td>1.273180e+08</td>\n",
              "    </tr>\n",
              "    <tr>\n",
              "      <th>min</th>\n",
              "      <td>1.000000e+00</td>\n",
              "      <td>1.000000e+00</td>\n",
              "    </tr>\n",
              "    <tr>\n",
              "      <th>25%</th>\n",
              "      <td>1.000000e+00</td>\n",
              "      <td>3.650000e+02</td>\n",
              "    </tr>\n",
              "    <tr>\n",
              "      <th>50%</th>\n",
              "      <td>3.000000e+00</td>\n",
              "      <td>1.125000e+03</td>\n",
              "    </tr>\n",
              "    <tr>\n",
              "      <th>75%</th>\n",
              "      <td>2.800000e+01</td>\n",
              "      <td>1.125000e+03</td>\n",
              "    </tr>\n",
              "    <tr>\n",
              "      <th>max</th>\n",
              "      <td>7.300000e+02</td>\n",
              "      <td>2.147484e+09</td>\n",
              "    </tr>\n",
              "  </tbody>\n",
              "</table>\n",
              "</div>"
            ],
            "text/plain": [
              "       minimum_nights  maximum_nights\n",
              "count    1.858592e+06    1.858592e+06\n",
              "mean     3.803295e+01    7.575885e+06\n",
              "std      1.374690e+02    1.273180e+08\n",
              "min      1.000000e+00    1.000000e+00\n",
              "25%      1.000000e+00    3.650000e+02\n",
              "50%      3.000000e+00    1.125000e+03\n",
              "75%      2.800000e+01    1.125000e+03\n",
              "max      7.300000e+02    2.147484e+09"
            ]
          },
          "metadata": {},
          "execution_count": 24
        }
      ],
      "source": [
        "calendar[['minimum_nights','maximum_nights']].describe()\n",
        "#Price would be converted into numeric later in the EDA"
      ]
    },
    {
      "cell_type": "markdown",
      "metadata": {
        "id": "xiQy70X8IWVI"
      },
      "source": [
        "#### ***Reviews DataFrame***\n"
      ]
    },
    {
      "cell_type": "code",
      "execution_count": null,
      "metadata": {
        "colab": {
          "base_uri": "https://localhost:8080/",
          "height": 112
        },
        "id": "Kv31Y_kxIYGJ",
        "outputId": "474cb6e3-aa51-4596-b2be-a82d61f86bc2"
      },
      "outputs": [
        {
          "output_type": "execute_result",
          "data": {
            "text/html": [
              "<div>\n",
              "<style scoped>\n",
              "    .dataframe tbody tr th:only-of-type {\n",
              "        vertical-align: middle;\n",
              "    }\n",
              "\n",
              "    .dataframe tbody tr th {\n",
              "        vertical-align: top;\n",
              "    }\n",
              "\n",
              "    .dataframe thead th {\n",
              "        text-align: right;\n",
              "    }\n",
              "</style>\n",
              "<table border=\"1\" class=\"dataframe\">\n",
              "  <thead>\n",
              "    <tr style=\"text-align: right;\">\n",
              "      <th></th>\n",
              "      <th>listing_id</th>\n",
              "      <th>id</th>\n",
              "      <th>date</th>\n",
              "      <th>reviewer_id</th>\n",
              "      <th>reviewer_name</th>\n",
              "      <th>comments</th>\n",
              "    </tr>\n",
              "  </thead>\n",
              "  <tbody>\n",
              "    <tr>\n",
              "      <th>0</th>\n",
              "      <td>11464</td>\n",
              "      <td>14231760</td>\n",
              "      <td>2014-06-15</td>\n",
              "      <td>12818243</td>\n",
              "      <td>Robert</td>\n",
              "      <td>Emey was very attentive and went above and bey...</td>\n",
              "    </tr>\n",
              "    <tr>\n",
              "      <th>1</th>\n",
              "      <td>11464</td>\n",
              "      <td>23860917</td>\n",
              "      <td>2014-12-13</td>\n",
              "      <td>20961228</td>\n",
              "      <td>Karen</td>\n",
              "      <td>Check-in was easy and the room was generally a...</td>\n",
              "    </tr>\n",
              "  </tbody>\n",
              "</table>\n",
              "</div>"
            ],
            "text/plain": [
              "   listing_id  ...                                           comments\n",
              "0       11464  ...  Emey was very attentive and went above and bey...\n",
              "1       11464  ...  Check-in was easy and the room was generally a...\n",
              "\n",
              "[2 rows x 6 columns]"
            ]
          },
          "metadata": {},
          "execution_count": 25
        }
      ],
      "source": [
        "reviews.head(2)"
      ]
    },
    {
      "cell_type": "code",
      "execution_count": null,
      "metadata": {
        "colab": {
          "base_uri": "https://localhost:8080/"
        },
        "id": "_agaRRyrIaEE",
        "outputId": "c4dc142c-c16e-4f81-9ac5-3dfda6569533"
      },
      "outputs": [
        {
          "output_type": "stream",
          "name": "stdout",
          "text": [
            "(163354, 6)\n",
            "163354\n"
          ]
        }
      ],
      "source": [
        "print(reviews.shape)\n",
        "print(len(reviews.id.unique()))"
      ]
    },
    {
      "cell_type": "markdown",
      "metadata": {
        "id": "DlppuZ_rLJHa"
      },
      "source": [
        "**There are 163354 unique observations (comments) and 6 features**"
      ]
    },
    {
      "cell_type": "code",
      "execution_count": null,
      "metadata": {
        "colab": {
          "base_uri": "https://localhost:8080/"
        },
        "id": "h60Am9ZKIhcW",
        "outputId": "104351dc-e3c1-4051-c425-7c45ec7c16e6"
      },
      "outputs": [
        {
          "output_type": "stream",
          "name": "stdout",
          "text": [
            "<class 'pandas.core.frame.DataFrame'>\n",
            "RangeIndex: 163354 entries, 0 to 163353\n",
            "Data columns (total 6 columns):\n",
            " #   Column         Non-Null Count   Dtype         \n",
            "---  ------         --------------   -----         \n",
            " 0   listing_id     163354 non-null  int64         \n",
            " 1   id             163354 non-null  int64         \n",
            " 2   date           163354 non-null  datetime64[ns]\n",
            " 3   reviewer_id    163354 non-null  int64         \n",
            " 4   reviewer_name  163353 non-null  object        \n",
            " 5   comments       163182 non-null  object        \n",
            "dtypes: datetime64[ns](1), int64(3), object(2)\n",
            "memory usage: 7.5+ MB\n"
          ]
        }
      ],
      "source": [
        "reviews.info()"
      ]
    },
    {
      "cell_type": "markdown",
      "metadata": {
        "id": "ptlxmrQ7I6Wb"
      },
      "source": [
        "#### ***Neighborhoods DataFrame***\n"
      ]
    },
    {
      "cell_type": "code",
      "execution_count": null,
      "metadata": {
        "colab": {
          "base_uri": "https://localhost:8080/",
          "height": 206
        },
        "id": "rd5g91elJBwN",
        "outputId": "398c6b2d-b326-4f1c-9ca6-f92dedb397ad"
      },
      "outputs": [
        {
          "output_type": "execute_result",
          "data": {
            "text/html": [
              "<div>\n",
              "<style scoped>\n",
              "    .dataframe tbody tr th:only-of-type {\n",
              "        vertical-align: middle;\n",
              "    }\n",
              "\n",
              "    .dataframe tbody tr th {\n",
              "        vertical-align: top;\n",
              "    }\n",
              "\n",
              "    .dataframe thead th {\n",
              "        text-align: right;\n",
              "    }\n",
              "</style>\n",
              "<table border=\"1\" class=\"dataframe\">\n",
              "  <thead>\n",
              "    <tr style=\"text-align: right;\">\n",
              "      <th></th>\n",
              "      <th>neighbourhood_group</th>\n",
              "      <th>neighbourhood</th>\n",
              "    </tr>\n",
              "  </thead>\n",
              "  <tbody>\n",
              "    <tr>\n",
              "      <th>0</th>\n",
              "      <td>NaN</td>\n",
              "      <td>Campbell</td>\n",
              "    </tr>\n",
              "    <tr>\n",
              "      <th>1</th>\n",
              "      <td>NaN</td>\n",
              "      <td>Cupertino</td>\n",
              "    </tr>\n",
              "    <tr>\n",
              "      <th>2</th>\n",
              "      <td>NaN</td>\n",
              "      <td>Gilroy</td>\n",
              "    </tr>\n",
              "    <tr>\n",
              "      <th>3</th>\n",
              "      <td>NaN</td>\n",
              "      <td>Los Altos</td>\n",
              "    </tr>\n",
              "    <tr>\n",
              "      <th>4</th>\n",
              "      <td>NaN</td>\n",
              "      <td>Los Altos Hills</td>\n",
              "    </tr>\n",
              "  </tbody>\n",
              "</table>\n",
              "</div>"
            ],
            "text/plain": [
              "   neighbourhood_group    neighbourhood\n",
              "0                  NaN         Campbell\n",
              "1                  NaN        Cupertino\n",
              "2                  NaN           Gilroy\n",
              "3                  NaN        Los Altos\n",
              "4                  NaN  Los Altos Hills"
            ]
          },
          "metadata": {},
          "execution_count": 28
        }
      ],
      "source": [
        "neighborhoods.head()"
      ]
    },
    {
      "cell_type": "code",
      "execution_count": null,
      "metadata": {
        "colab": {
          "base_uri": "https://localhost:8080/"
        },
        "id": "1Q1C26zdJJFI",
        "outputId": "6b7b7010-3770-4bca-d2eb-7956c5dbf69d"
      },
      "outputs": [
        {
          "output_type": "stream",
          "name": "stdout",
          "text": [
            "(16, 2)\n",
            "16\n"
          ]
        }
      ],
      "source": [
        "print(neighborhoods.shape)\n",
        "print(len(neighborhoods.neighbourhood.unique()))"
      ]
    },
    {
      "cell_type": "markdown",
      "metadata": {
        "id": "lKSqU5cwLzgG"
      },
      "source": [
        "**There are 16 unique observations (neighborhoods) and 2 features.**"
      ]
    },
    {
      "cell_type": "code",
      "execution_count": null,
      "metadata": {
        "colab": {
          "base_uri": "https://localhost:8080/"
        },
        "id": "wQMh5tM-I93J",
        "outputId": "074e70c0-c9c7-4e02-a852-5599323aa540"
      },
      "outputs": [
        {
          "output_type": "stream",
          "name": "stdout",
          "text": [
            "<class 'pandas.core.frame.DataFrame'>\n",
            "RangeIndex: 16 entries, 0 to 15\n",
            "Data columns (total 2 columns):\n",
            " #   Column               Non-Null Count  Dtype  \n",
            "---  ------               --------------  -----  \n",
            " 0   neighbourhood_group  0 non-null      float64\n",
            " 1   neighbourhood        16 non-null     object \n",
            "dtypes: float64(1), object(1)\n",
            "memory usage: 384.0+ bytes\n"
          ]
        }
      ],
      "source": [
        "neighborhoods.info()"
      ]
    },
    {
      "cell_type": "markdown",
      "metadata": {
        "id": "uroqgvMOMdeI"
      },
      "source": [
        "**Summary statistics for the Neighborhoods dataframe:**"
      ]
    },
    {
      "cell_type": "code",
      "execution_count": null,
      "metadata": {
        "colab": {
          "base_uri": "https://localhost:8080/",
          "height": 300
        },
        "id": "CMHKlbccJOgt",
        "outputId": "0fc11753-67ba-44a9-9d9f-137cc510420f"
      },
      "outputs": [
        {
          "output_type": "execute_result",
          "data": {
            "text/html": [
              "<div>\n",
              "<style scoped>\n",
              "    .dataframe tbody tr th:only-of-type {\n",
              "        vertical-align: middle;\n",
              "    }\n",
              "\n",
              "    .dataframe tbody tr th {\n",
              "        vertical-align: top;\n",
              "    }\n",
              "\n",
              "    .dataframe thead th {\n",
              "        text-align: right;\n",
              "    }\n",
              "</style>\n",
              "<table border=\"1\" class=\"dataframe\">\n",
              "  <thead>\n",
              "    <tr style=\"text-align: right;\">\n",
              "      <th></th>\n",
              "      <th>neighbourhood_group</th>\n",
              "    </tr>\n",
              "  </thead>\n",
              "  <tbody>\n",
              "    <tr>\n",
              "      <th>count</th>\n",
              "      <td>0.0</td>\n",
              "    </tr>\n",
              "    <tr>\n",
              "      <th>mean</th>\n",
              "      <td>NaN</td>\n",
              "    </tr>\n",
              "    <tr>\n",
              "      <th>std</th>\n",
              "      <td>NaN</td>\n",
              "    </tr>\n",
              "    <tr>\n",
              "      <th>min</th>\n",
              "      <td>NaN</td>\n",
              "    </tr>\n",
              "    <tr>\n",
              "      <th>25%</th>\n",
              "      <td>NaN</td>\n",
              "    </tr>\n",
              "    <tr>\n",
              "      <th>50%</th>\n",
              "      <td>NaN</td>\n",
              "    </tr>\n",
              "    <tr>\n",
              "      <th>75%</th>\n",
              "      <td>NaN</td>\n",
              "    </tr>\n",
              "    <tr>\n",
              "      <th>max</th>\n",
              "      <td>NaN</td>\n",
              "    </tr>\n",
              "  </tbody>\n",
              "</table>\n",
              "</div>"
            ],
            "text/plain": [
              "       neighbourhood_group\n",
              "count                  0.0\n",
              "mean                   NaN\n",
              "std                    NaN\n",
              "min                    NaN\n",
              "25%                    NaN\n",
              "50%                    NaN\n",
              "75%                    NaN\n",
              "max                    NaN"
            ]
          },
          "metadata": {},
          "execution_count": 32
        }
      ],
      "source": [
        "neighborhoods.describe()"
      ]
    },
    {
      "cell_type": "markdown",
      "metadata": {
        "id": "q5Ik8HPRBr6n"
      },
      "source": [
        "### **Cleaning the Dataset**"
      ]
    },
    {
      "cell_type": "markdown",
      "metadata": {
        "id": "maoWhe8HVniS"
      },
      "source": [
        "**Listings Dataset**\n",
        "\n",
        "After evaluating the Listings dataframe, we'll look for probable missing values and outliers. We'll also double-check that each column's data is of the correct datatype and format, and that it's ready to use in the rest of the EDA phase."
      ]
    },
    {
      "cell_type": "code",
      "execution_count": null,
      "metadata": {
        "colab": {
          "base_uri": "https://localhost:8080/"
        },
        "id": "9GP0E_WeV5I8",
        "outputId": "15868520-1c47-49fc-a107-aebc52db0c6f"
      },
      "outputs": [
        {
          "output_type": "execute_result",
          "data": {
            "text/plain": [
              "neighbourhood_group_cleansed    5092\n",
              "bathrooms                       5092\n",
              "calendar_updated                5092\n",
              "license                         5063\n",
              "neighbourhood                   1999\n",
              "neighborhood_overview           1999\n",
              "host_about                      1786\n",
              "review_scores_value             1162\n",
              "review_scores_location          1162\n",
              "review_scores_communication     1162\n",
              "review_scores_checkin           1162\n",
              "review_scores_cleanliness       1162\n",
              "review_scores_accuracy          1162\n",
              "reviews_per_month               1139\n",
              "first_review                    1139\n",
              "last_review                     1139\n",
              "review_scores_rating            1139\n",
              "host_response_time              1003\n",
              "host_response_rate              1003\n",
              "host_acceptance_rate             936\n",
              "host_neighbourhood               818\n",
              "bedrooms                         344\n",
              "beds                             177\n",
              "description                      169\n",
              "bathrooms_text                     9\n",
              "host_location                      8\n",
              "name                               1\n",
              "dtype: int64"
            ]
          },
          "metadata": {},
          "execution_count": 33
        }
      ],
      "source": [
        "nullval = listings.isnull().sum()\n",
        "nullval[nullval > 0].sort_values(ascending=False)"
      ]
    },
    {
      "cell_type": "markdown",
      "metadata": {
        "id": "ht9CyT3GNe1R"
      },
      "source": [
        "**How many missing values are there in each column?**\n",
        "\n",
        "There are three empty columns -- \"bathrooms\", \"calendar_updated\", and \"license\"."
      ]
    },
    {
      "cell_type": "markdown",
      "metadata": {
        "id": "1cz_qQL0N2wl"
      },
      "source": [
        "**Changing the data type of price column**"
      ]
    },
    {
      "cell_type": "code",
      "execution_count": null,
      "metadata": {
        "colab": {
          "base_uri": "https://localhost:8080/"
        },
        "id": "lXmC-ujCWFqg",
        "outputId": "81f6c45d-53c9-44ad-9112-6d9ac51f51ff"
      },
      "outputs": [
        {
          "output_type": "execute_result",
          "data": {
            "text/plain": [
              "0        85.0\n",
              "1        80.0\n",
              "2        48.0\n",
              "3       120.0\n",
              "4        50.0\n",
              "        ...  \n",
              "5087     30.0\n",
              "5088     30.0\n",
              "5089     30.0\n",
              "5090     31.0\n",
              "5091    102.0\n",
              "Name: price, Length: 5092, dtype: float64"
            ]
          },
          "metadata": {},
          "execution_count": 34
        }
      ],
      "source": [
        "listings['price'] = listings['price'].astype('string') #converting to string\n",
        "listings['price'] = listings['price'].str.replace('$','') #removing $\n",
        "listings['price'] = listings['price'].str.replace(',','') #removing ,\n",
        "listings['price'] = listings['price'].astype('float') #changing the dtype to float\n",
        "listings['price']"
      ]
    },
    {
      "cell_type": "markdown",
      "metadata": {
        "id": "tZSFww0jOLDY"
      },
      "source": [
        "\n",
        "**There is 1 observation (listings) where the price is $0.**"
      ]
    },
    {
      "cell_type": "code",
      "execution_count": null,
      "metadata": {
        "colab": {
          "base_uri": "https://localhost:8080/"
        },
        "id": "HyZ540-aYE14",
        "outputId": "e07acd4d-3be3-4a96-8174-d5d9e4fc4f05"
      },
      "outputs": [
        {
          "output_type": "execute_result",
          "data": {
            "text/plain": [
              "1"
            ]
          },
          "metadata": {},
          "execution_count": 35
        }
      ],
      "source": [
        "# Identifying rows with price of the listing as $0\n",
        "listings[listings['price'] == 0]['price'].count()"
      ]
    },
    {
      "cell_type": "code",
      "execution_count": null,
      "metadata": {
        "id": "im1O_z5SDWpC"
      },
      "outputs": [],
      "source": [
        "drop_df = listings[(listings['beds'] == 0) | (listings['price'] == 0) | (listings['accommodates'] == 0)].index\n",
        "listings.drop(drop_df, inplace=True)"
      ]
    },
    {
      "cell_type": "markdown",
      "metadata": {
        "id": "xsafX7FUNDDz"
      },
      "source": [
        "After finding that the median number of beds and bedrooms is 1, we have filled the missing values for both these columns with 1."
      ]
    },
    {
      "cell_type": "code",
      "execution_count": null,
      "metadata": {
        "colab": {
          "base_uri": "https://localhost:8080/"
        },
        "id": "nHHkNK6hNDD0",
        "outputId": "1e37a9c3-a6aa-4a12-e435-3bae005b2981"
      },
      "outputs": [
        {
          "output_type": "execute_result",
          "data": {
            "text/plain": [
              "1.0"
            ]
          },
          "metadata": {},
          "execution_count": 37
        }
      ],
      "source": [
        "listings['beds'].median()"
      ]
    },
    {
      "cell_type": "code",
      "execution_count": null,
      "metadata": {
        "colab": {
          "base_uri": "https://localhost:8080/"
        },
        "id": "Nb-0HXvNNDD0",
        "outputId": "16950bc9-89b2-4058-d649-3a988407ec10"
      },
      "outputs": [
        {
          "output_type": "execute_result",
          "data": {
            "text/plain": [
              "1.0"
            ]
          },
          "metadata": {},
          "execution_count": 38
        }
      ],
      "source": [
        "listings['bedrooms'].median()"
      ]
    },
    {
      "cell_type": "code",
      "execution_count": null,
      "metadata": {
        "id": "MMq5ZUiQNDD1"
      },
      "outputs": [],
      "source": [
        "listings.beds = listings.beds.fillna(1)"
      ]
    },
    {
      "cell_type": "code",
      "execution_count": null,
      "metadata": {
        "id": "2JP7HThhNDD1"
      },
      "outputs": [],
      "source": [
        "listings.bedrooms = listings.bedrooms.fillna(1)"
      ]
    },
    {
      "cell_type": "markdown",
      "metadata": {
        "id": "IYrxZrjtPtu4"
      },
      "source": [
        "We will also remove observations with missing values in any of these columns."
      ]
    },
    {
      "cell_type": "code",
      "execution_count": null,
      "metadata": {
        "id": "TRKwIBSjJk-v"
      },
      "outputs": [],
      "source": [
        "listings.dropna(subset=['first_review', 'last_review', 'review_scores_rating', 'review_scores_accuracy', 'review_scores_cleanliness', 'review_scores_checkin', 'review_scores_communication', 'review_scores_location', 'review_scores_value', 'reviews_per_month'], thresh=10, inplace=True)"
      ]
    },
    {
      "cell_type": "markdown",
      "metadata": {
        "id": "5SfXh6DhQZ2A"
      },
      "source": [
        "Lastly, we decide to drop the columns that are not significant to EDA and furthur analysis."
      ]
    },
    {
      "cell_type": "code",
      "execution_count": null,
      "metadata": {
        "id": "nB1d0R74XEHD"
      },
      "outputs": [],
      "source": [
        "listings.drop(['scrape_id', 'minimum_nights', 'maximum_nights', 'minimum_minimum_nights',\n",
        "       'maximum_minimum_nights', 'minimum_maximum_nights',\n",
        "       'maximum_maximum_nights', 'minimum_nights_avg_ntm',\n",
        "       'maximum_nights_avg_ntm', 'bathrooms','calendar_updated','license', 'host_total_listings_count', 'calendar_last_scraped'], axis=1, inplace=True)"
      ]
    },
    {
      "cell_type": "code",
      "execution_count": null,
      "metadata": {
        "colab": {
          "base_uri": "https://localhost:8080/"
        },
        "id": "1omUKvAVL3Yd",
        "outputId": "12f486c3-1f68-4fb3-9c48-24db923b17ec"
      },
      "outputs": [
        {
          "output_type": "execute_result",
          "data": {
            "text/plain": [
              "(3825, 60)"
            ]
          },
          "metadata": {},
          "execution_count": 43
        }
      ],
      "source": [
        "listings.shape"
      ]
    },
    {
      "cell_type": "markdown",
      "metadata": {
        "id": "7qxrROCcP-zt"
      },
      "source": [
        "After cleaning the Listings dataframe, we now have 3825 unique observations (listings) and 62 features."
      ]
    },
    {
      "cell_type": "markdown",
      "metadata": {
        "id": "fKLRN7MpQnpj"
      },
      "source": [
        "### Looking into Host-Related Data"
      ]
    },
    {
      "cell_type": "markdown",
      "metadata": {
        "id": "om_IoNHgQ8k1"
      },
      "source": [
        "**Are there any missing values within host-related data?**"
      ]
    },
    {
      "cell_type": "code",
      "execution_count": null,
      "metadata": {
        "colab": {
          "base_uri": "https://localhost:8080/",
          "height": 635
        },
        "id": "_3sCiZP0aDZI",
        "outputId": "9c92c131-42ce-43b9-ae8b-dfb4a2e53d87"
      },
      "outputs": [
        {
          "output_type": "execute_result",
          "data": {
            "text/plain": [
              "<matplotlib.axes._subplots.AxesSubplot at 0x7f17c9915910>"
            ]
          },
          "metadata": {},
          "execution_count": 44
        },
        {
          "output_type": "display_data",
          "data": {
            "image/png": "[encoded data removed]",
            "text/plain": [
              "<Figure size 1800x720 with 2 Axes>"
            ]
          },
          "metadata": {
            "needs_background": "light"
          }
        }
      ],
      "source": [
        "msno.matrix(listings[['host_id', 'host_url', 'host_name', 'host_since', 'host_location', 'host_about', 'host_response_time', 'host_response_rate', 'host_acceptance_rate', 'host_is_superhost', 'host_thumbnail_url', 'host_picture_url', 'host_neighbourhood', 'host_listings_count', 'host_verifications', 'host_has_profile_pic', 'host_identity_verified', \n",
        "       'calculated_host_listings_count',\n",
        "       'calculated_host_listings_count_entire_homes',\n",
        "       'calculated_host_listings_count_private_rooms',\n",
        "       'calculated_host_listings_count_shared_rooms']])"
      ]
    },
    {
      "cell_type": "markdown",
      "metadata": {
        "id": "b0JONS8oRAmX"
      },
      "source": [
        "**Converting columns to the correct data type.**"
      ]
    },
    {
      "cell_type": "code",
      "execution_count": null,
      "metadata": {
        "id": "ju8XkVxRbLI9"
      },
      "outputs": [],
      "source": [
        "listings.calculated_host_listings_count_shared_rooms = listings.calculated_host_listings_count_shared_rooms.astype('float')\n",
        "listings.calculated_host_listings_count_private_rooms = listings.calculated_host_listings_count_private_rooms.astype('float')\n",
        "listings.calculated_host_listings_count_entire_homes = listings.calculated_host_listings_count_entire_homes.astype('float')\n",
        "listings.calculated_host_listings_count = listings.calculated_host_listings_count.astype('float')"
      ]
    },
    {
      "cell_type": "markdown",
      "metadata": {
        "id": "_VgJifGrSYm2"
      },
      "source": [
        "After adding up the count of all room types, the total does not exceed the calculated_host_listings_count."
      ]
    },
    {
      "cell_type": "code",
      "execution_count": null,
      "metadata": {
        "colab": {
          "base_uri": "https://localhost:8080/",
          "height": 70
        },
        "id": "0sL0QoCEeQy_",
        "outputId": "86a9261d-709c-4f79-db9a-478d48d4400a"
      },
      "outputs": [
        {
          "output_type": "execute_result",
          "data": {
            "text/html": [
              "<div>\n",
              "<style scoped>\n",
              "    .dataframe tbody tr th:only-of-type {\n",
              "        vertical-align: middle;\n",
              "    }\n",
              "\n",
              "    .dataframe tbody tr th {\n",
              "        vertical-align: top;\n",
              "    }\n",
              "\n",
              "    .dataframe thead th {\n",
              "        text-align: right;\n",
              "    }\n",
              "</style>\n",
              "<table border=\"1\" class=\"dataframe\">\n",
              "  <thead>\n",
              "    <tr style=\"text-align: right;\">\n",
              "      <th></th>\n",
              "      <th>id</th>\n",
              "      <th>listing_url</th>\n",
              "      <th>last_scraped</th>\n",
              "      <th>name</th>\n",
              "      <th>description</th>\n",
              "      <th>neighborhood_overview</th>\n",
              "      <th>picture_url</th>\n",
              "      <th>host_id</th>\n",
              "      <th>host_url</th>\n",
              "      <th>host_name</th>\n",
              "      <th>host_since</th>\n",
              "      <th>host_location</th>\n",
              "      <th>host_about</th>\n",
              "      <th>host_response_time</th>\n",
              "      <th>host_response_rate</th>\n",
              "      <th>host_acceptance_rate</th>\n",
              "      <th>host_is_superhost</th>\n",
              "      <th>host_thumbnail_url</th>\n",
              "      <th>host_picture_url</th>\n",
              "      <th>host_neighbourhood</th>\n",
              "      <th>host_listings_count</th>\n",
              "      <th>host_verifications</th>\n",
              "      <th>host_has_profile_pic</th>\n",
              "      <th>host_identity_verified</th>\n",
              "      <th>neighbourhood</th>\n",
              "      <th>neighbourhood_cleansed</th>\n",
              "      <th>neighbourhood_group_cleansed</th>\n",
              "      <th>latitude</th>\n",
              "      <th>longitude</th>\n",
              "      <th>property_type</th>\n",
              "      <th>room_type</th>\n",
              "      <th>accommodates</th>\n",
              "      <th>bathrooms_text</th>\n",
              "      <th>bedrooms</th>\n",
              "      <th>beds</th>\n",
              "      <th>amenities</th>\n",
              "      <th>price</th>\n",
              "      <th>has_availability</th>\n",
              "      <th>availability_30</th>\n",
              "      <th>availability_60</th>\n",
              "      <th>availability_90</th>\n",
              "      <th>availability_365</th>\n",
              "      <th>number_of_reviews</th>\n",
              "      <th>number_of_reviews_ltm</th>\n",
              "      <th>number_of_reviews_l30d</th>\n",
              "      <th>first_review</th>\n",
              "      <th>last_review</th>\n",
              "      <th>review_scores_rating</th>\n",
              "      <th>review_scores_accuracy</th>\n",
              "      <th>review_scores_cleanliness</th>\n",
              "      <th>review_scores_checkin</th>\n",
              "      <th>review_scores_communication</th>\n",
              "      <th>review_scores_location</th>\n",
              "      <th>review_scores_value</th>\n",
              "      <th>instant_bookable</th>\n",
              "      <th>calculated_host_listings_count</th>\n",
              "      <th>calculated_host_listings_count_entire_homes</th>\n",
              "      <th>calculated_host_listings_count_private_rooms</th>\n",
              "      <th>calculated_host_listings_count_shared_rooms</th>\n",
              "      <th>reviews_per_month</th>\n",
              "    </tr>\n",
              "  </thead>\n",
              "  <tbody>\n",
              "  </tbody>\n",
              "</table>\n",
              "</div>"
            ],
            "text/plain": [
              "Empty DataFrame\n",
              "Columns: [id, listing_url, last_scraped, name, description, neighborhood_overview, picture_url, host_id, host_url, host_name, host_since, host_location, host_about, host_response_time, host_response_rate, host_acceptance_rate, host_is_superhost, host_thumbnail_url, host_picture_url, host_neighbourhood, host_listings_count, host_verifications, host_has_profile_pic, host_identity_verified, neighbourhood, neighbourhood_cleansed, neighbourhood_group_cleansed, latitude, longitude, property_type, room_type, accommodates, bathrooms_text, bedrooms, beds, amenities, price, has_availability, availability_30, availability_60, availability_90, availability_365, number_of_reviews, number_of_reviews_ltm, number_of_reviews_l30d, first_review, last_review, review_scores_rating, review_scores_accuracy, review_scores_cleanliness, review_scores_checkin, review_scores_communication, review_scores_location, review_scores_value, instant_bookable, calculated_host_listings_count, calculated_host_listings_count_entire_homes, calculated_host_listings_count_private_rooms, calculated_host_listings_count_shared_rooms, reviews_per_month]\n",
              "Index: []"
            ]
          },
          "metadata": {},
          "execution_count": 46
        }
      ],
      "source": [
        "check_condition = (listings['calculated_host_listings_count_private_rooms'] + listings['calculated_host_listings_count_entire_homes'] + listings['calculated_host_listings_count_shared_rooms']) > listings['calculated_host_listings_count']\n",
        "listings[check_condition]"
      ]
    },
    {
      "cell_type": "markdown",
      "metadata": {
        "id": "LE1XiEQsTens"
      },
      "source": [
        "**Examine the distribution of the host acceptance rate.**"
      ]
    },
    {
      "cell_type": "code",
      "execution_count": null,
      "metadata": {
        "colab": {
          "base_uri": "https://localhost:8080/"
        },
        "id": "SCwoStPY7JKa",
        "outputId": "ff02d4fe-d775-4c6f-85b1-d6e43ca8ef2e"
      },
      "outputs": [
        {
          "output_type": "execute_result",
          "data": {
            "text/plain": [
              "100%    914\n",
              "97%     318\n",
              "99%     246\n",
              "98%     234\n",
              "96%     177\n",
              "Name: host_acceptance_rate, dtype: int64"
            ]
          },
          "metadata": {},
          "execution_count": 47
        }
      ],
      "source": [
        "listings['host_acceptance_rate'].value_counts().head()"
      ]
    },
    {
      "cell_type": "markdown",
      "metadata": {
        "id": "SoqC9bXhT-gi"
      },
      "source": [
        "**Converting columns to the correct format and data type.**"
      ]
    },
    {
      "cell_type": "code",
      "execution_count": null,
      "metadata": {
        "id": "RpDmVrWE7WcT"
      },
      "outputs": [],
      "source": [
        "listings['host_acceptance_rate'] = listings['host_acceptance_rate'].astype(\"string\")\n",
        "listings['host_acceptance_rate'] = listings['host_acceptance_rate'].str.replace('%','')\n",
        "listings['host_acceptance_rate'] = pd.to_numeric(listings['host_acceptance_rate'], errors='coerce')\n",
        "listings['host_acceptance_rate'] = listings['host_acceptance_rate'].apply(lambda x: x/100 if isinstance(x, float) else None)"
      ]
    },
    {
      "cell_type": "markdown",
      "metadata": {
        "id": "AVM8wT2IUWmR"
      },
      "source": [
        "**How many null values are there?**\n",
        "\n",
        "There are 591 null values in host_acceptance_rate because Airbnb did not report this for sellers with less reviews and data. We're not imputing the null values at this point because we won't be using this feature for our models."
      ]
    },
    {
      "cell_type": "code",
      "execution_count": null,
      "metadata": {
        "colab": {
          "base_uri": "https://localhost:8080/"
        },
        "id": "3-zNIU9v7QuD",
        "outputId": "ae70dc2b-4d2c-4340-e092-5bc34daaa315"
      },
      "outputs": [
        {
          "output_type": "execute_result",
          "data": {
            "text/plain": [
              "591"
            ]
          },
          "metadata": {},
          "execution_count": 49
        }
      ],
      "source": [
        "listings['host_acceptance_rate'].isnull().sum()"
      ]
    },
    {
      "cell_type": "markdown",
      "metadata": {
        "id": "fkcXzaZeSjO_"
      },
      "source": [
        "**Examine the distribution of the host reponse rate.**"
      ]
    },
    {
      "cell_type": "code",
      "execution_count": null,
      "metadata": {
        "colab": {
          "base_uri": "https://localhost:8080/"
        },
        "id": "ESN3MXiazCEd",
        "outputId": "6ef7a1f5-3742-4202-f6b1-194719f2147a"
      },
      "outputs": [
        {
          "output_type": "execute_result",
          "data": {
            "text/plain": [
              "100%    2498\n",
              "90%       73\n",
              "97%       72\n",
              "98%       72\n",
              "99%       66\n",
              "Name: host_response_rate, dtype: int64"
            ]
          },
          "metadata": {},
          "execution_count": 50
        }
      ],
      "source": [
        "listings['host_response_rate'].value_counts().head()"
      ]
    },
    {
      "cell_type": "markdown",
      "metadata": {
        "id": "7dA3H3sqSuKR"
      },
      "source": [
        "**Converting the columns to the correct format and data types.**"
      ]
    },
    {
      "cell_type": "code",
      "execution_count": null,
      "metadata": {
        "id": "XXqoXUFSgNZZ"
      },
      "outputs": [],
      "source": [
        "listings['host_response_rate'] = listings['host_response_rate'].astype(\"string\")\n",
        "listings['host_response_rate'] = listings['host_response_rate'].str.replace('%','')\n",
        "listings['host_response_rate'] = pd.to_numeric(listings['host_response_rate'], errors='coerce')\n",
        "listings['host_response_rate'] = listings['host_response_rate'].apply(lambda x: x/100 if isinstance(x, float) else None)\n",
        "listings['host_response_time'] = listings['host_response_time'].astype('string')\n",
        "listings['host_is_superhost'] = listings['host_is_superhost'].astype('string')"
      ]
    },
    {
      "cell_type": "markdown",
      "metadata": {
        "id": "cZy_Xd7QWmDQ"
      },
      "source": [
        "**Examine the distribution of host_response_time.**"
      ]
    },
    {
      "cell_type": "code",
      "execution_count": null,
      "metadata": {
        "colab": {
          "base_uri": "https://localhost:8080/",
          "height": 174
        },
        "id": "-wMQSlPA6gNA",
        "outputId": "b6771540-bae4-4097-d3c3-eacec5c24bec"
      },
      "outputs": [
        {
          "output_type": "execute_result",
          "data": {
            "text/html": [
              "<div>\n",
              "<style scoped>\n",
              "    .dataframe tbody tr th:only-of-type {\n",
              "        vertical-align: middle;\n",
              "    }\n",
              "\n",
              "    .dataframe tbody tr th {\n",
              "        vertical-align: top;\n",
              "    }\n",
              "\n",
              "    .dataframe thead th {\n",
              "        text-align: right;\n",
              "    }\n",
              "</style>\n",
              "<table border=\"1\" class=\"dataframe\">\n",
              "  <thead>\n",
              "    <tr style=\"text-align: right;\">\n",
              "      <th></th>\n",
              "      <th>index</th>\n",
              "      <th>host_response_time</th>\n",
              "    </tr>\n",
              "  </thead>\n",
              "  <tbody>\n",
              "    <tr>\n",
              "      <th>0</th>\n",
              "      <td>within an hour</td>\n",
              "      <td>2433</td>\n",
              "    </tr>\n",
              "    <tr>\n",
              "      <th>1</th>\n",
              "      <td>within a few hours</td>\n",
              "      <td>396</td>\n",
              "    </tr>\n",
              "    <tr>\n",
              "      <th>2</th>\n",
              "      <td>within a day</td>\n",
              "      <td>234</td>\n",
              "    </tr>\n",
              "    <tr>\n",
              "      <th>3</th>\n",
              "      <td>a few days or more</td>\n",
              "      <td>82</td>\n",
              "    </tr>\n",
              "  </tbody>\n",
              "</table>\n",
              "</div>"
            ],
            "text/plain": [
              "                index  host_response_time\n",
              "0      within an hour                2433\n",
              "1  within a few hours                 396\n",
              "2        within a day                 234\n",
              "3  a few days or more                  82"
            ]
          },
          "metadata": {},
          "execution_count": 52
        }
      ],
      "source": [
        "listings['host_response_time'].value_counts().reset_index()"
      ]
    },
    {
      "cell_type": "markdown",
      "metadata": {
        "id": "BfAwbgytWvgg"
      },
      "source": [
        "**What is the average response rate for each response time category?**\n",
        "\n",
        "Hosts who response within an hour have a 99.18% response rate on average."
      ]
    },
    {
      "cell_type": "code",
      "execution_count": null,
      "metadata": {
        "colab": {
          "base_uri": "https://localhost:8080/"
        },
        "id": "N4gXvAG4UMBm",
        "outputId": "2f191bca-d88a-4cf8-efb8-4dd361af2aba"
      },
      "outputs": [
        {
          "output_type": "execute_result",
          "data": {
            "text/plain": [
              "host_response_time\n",
              "a few days or more    0.070854\n",
              "within a day          0.835256\n",
              "within a few hours    0.969470\n",
              "within an hour        0.991866\n",
              "Name: host_response_rate, dtype: float64"
            ]
          },
          "metadata": {},
          "execution_count": 53
        }
      ],
      "source": [
        "listings.groupby('host_response_time')['host_response_rate'].mean()"
      ]
    },
    {
      "cell_type": "markdown",
      "metadata": {
        "id": "qXjzMcroW8dC"
      },
      "source": [
        "**What is the relationship between response rate and response time?**\n",
        "\n",
        "Below is a visualization of the relationship between them. We found that hosts who usually reponse within an hour have the highest response rate on average, while hosts who tend to response after a few days or more have the lowest response rate."
      ]
    },
    {
      "cell_type": "code",
      "execution_count": null,
      "metadata": {
        "colab": {
          "base_uri": "https://localhost:8080/",
          "height": 434
        },
        "id": "ASt3qTBxTBzb",
        "outputId": "129fda8d-56ee-4c6a-a429-9a704e5599c2"
      },
      "outputs": [
        {
          "output_type": "display_data",
          "data": {
            "image/png": "[encoded data removed]",
            "text/plain": [
              "<Figure size 360x360 with 1 Axes>"
            ]
          },
          "metadata": {
            "needs_background": "light"
          }
        }
      ],
      "source": [
        "sns.catplot(x='host_response_time', y='host_response_rate', data=listings, kind='bar', order=['within an hour', 'within a few hours', 'within a day', 'a few days or more'])\n",
        "plt.xticks(rotation =45)\n",
        "plt.show();"
      ]
    },
    {
      "cell_type": "markdown",
      "metadata": {
        "id": "WWblb6udVp2S"
      },
      "source": [
        "**Is there is a relationship between acceptance rate and response rate?**\n",
        "\n",
        "Below is a visualization of host acceptance rate and response rate and there doesn't seem to be an obvious relationship. It is possible that a popular host only respond to messages sent by the few guests he/she accepts and not responding to those he/she does not want to accept, or that a host is constantly declining requests via messages."
      ]
    },
    {
      "cell_type": "code",
      "execution_count": null,
      "metadata": {
        "colab": {
          "base_uri": "https://localhost:8080/",
          "height": 370
        },
        "id": "AfIFn4leVRyT",
        "outputId": "8a822ce9-7d0b-41b8-a788-1a7e7693e652"
      },
      "outputs": [
        {
          "output_type": "display_data",
          "data": {
            "image/png": "[encoded data removed]",
            "text/plain": [
              "<Figure size 360x360 with 1 Axes>"
            ]
          },
          "metadata": {
            "needs_background": "light"
          }
        }
      ],
      "source": [
        "sns.relplot(x='host_response_rate', y='host_acceptance_rate', data=listings, kind='scatter')\n",
        "plt.show();"
      ]
    },
    {
      "cell_type": "markdown",
      "metadata": {
        "id": "GwHmy8wYUln-"
      },
      "source": [
        "**Encoding \"host_is_superhost\" and \"host_identity_verified\" values \"T\" and \"F\" to 1 and 0 respectively and creating separate column for binary variables.**"
      ]
    },
    {
      "cell_type": "code",
      "execution_count": null,
      "metadata": {
        "colab": {
          "base_uri": "https://localhost:8080/"
        },
        "id": "hS1kHUAzNDEA",
        "outputId": "ad90655f-bc35-412e-bc22-b7a5c13d0aaf"
      },
      "outputs": [
        {
          "output_type": "stream",
          "name": "stdout",
          "text": [
            "<class 'pandas.core.frame.DataFrame'>\n",
            "Int64Index: 3825 entries, 1 to 5032\n",
            "Data columns (total 60 columns):\n",
            " #   Column                                        Non-Null Count  Dtype  \n",
            "---  ------                                        --------------  -----  \n",
            " 0   id                                            3825 non-null   int64  \n",
            " 1   listing_url                                   3825 non-null   object \n",
            " 2   last_scraped                                  3825 non-null   object \n",
            " 3   name                                          3825 non-null   object \n",
            " 4   description                                   3752 non-null   object \n",
            " 5   neighborhood_overview                         2557 non-null   object \n",
            " 6   picture_url                                   3825 non-null   object \n",
            " 7   host_id                                       3825 non-null   int64  \n",
            " 8   host_url                                      3825 non-null   object \n",
            " 9   host_name                                     3825 non-null   object \n",
            " 10  host_since                                    3825 non-null   object \n",
            " 11  host_location                                 3821 non-null   object \n",
            " 12  host_about                                    2622 non-null   object \n",
            " 13  host_response_time                            3145 non-null   string \n",
            " 14  host_response_rate                            3145 non-null   float64\n",
            " 15  host_acceptance_rate                          3234 non-null   float64\n",
            " 16  host_is_superhost                             3825 non-null   string \n",
            " 17  host_thumbnail_url                            3825 non-null   object \n",
            " 18  host_picture_url                              3825 non-null   object \n",
            " 19  host_neighbourhood                            3203 non-null   object \n",
            " 20  host_listings_count                           3825 non-null   int64  \n",
            " 21  host_verifications                            3825 non-null   object \n",
            " 22  host_has_profile_pic                          3825 non-null   object \n",
            " 23  host_identity_verified                        3825 non-null   object \n",
            " 24  neighbourhood                                 2557 non-null   object \n",
            " 25  neighbourhood_cleansed                        3825 non-null   object \n",
            " 26  neighbourhood_group_cleansed                  0 non-null      float64\n",
            " 27  latitude                                      3825 non-null   float64\n",
            " 28  longitude                                     3825 non-null   float64\n",
            " 29  property_type                                 3825 non-null   object \n",
            " 30  room_type                                     3825 non-null   object \n",
            " 31  accommodates                                  3825 non-null   int64  \n",
            " 32  bathrooms_text                                3824 non-null   object \n",
            " 33  bedrooms                                      3825 non-null   float64\n",
            " 34  beds                                          3825 non-null   float64\n",
            " 35  amenities                                     3825 non-null   object \n",
            " 36  price                                         3825 non-null   float64\n",
            " 37  has_availability                              3825 non-null   object \n",
            " 38  availability_30                               3825 non-null   int64  \n",
            " 39  availability_60                               3825 non-null   int64  \n",
            " 40  availability_90                               3825 non-null   int64  \n",
            " 41  availability_365                              3825 non-null   int64  \n",
            " 42  number_of_reviews                             3825 non-null   int64  \n",
            " 43  number_of_reviews_ltm                         3825 non-null   int64  \n",
            " 44  number_of_reviews_l30d                        3825 non-null   int64  \n",
            " 45  first_review                                  3825 non-null   object \n",
            " 46  last_review                                   3825 non-null   object \n",
            " 47  review_scores_rating                          3825 non-null   float64\n",
            " 48  review_scores_accuracy                        3825 non-null   float64\n",
            " 49  review_scores_cleanliness                     3825 non-null   float64\n",
            " 50  review_scores_checkin                         3825 non-null   float64\n",
            " 51  review_scores_communication                   3825 non-null   float64\n",
            " 52  review_scores_location                        3825 non-null   float64\n",
            " 53  review_scores_value                           3825 non-null   float64\n",
            " 54  instant_bookable                              3825 non-null   object \n",
            " 55  calculated_host_listings_count                3825 non-null   float64\n",
            " 56  calculated_host_listings_count_entire_homes   3825 non-null   float64\n",
            " 57  calculated_host_listings_count_private_rooms  3825 non-null   float64\n",
            " 58  calculated_host_listings_count_shared_rooms   3825 non-null   float64\n",
            " 59  reviews_per_month                             3825 non-null   float64\n",
            "dtypes: float64(20), int64(11), object(27), string(2)\n",
            "memory usage: 1.9+ MB\n"
          ]
        }
      ],
      "source": [
        "listings.info()"
      ]
    },
    {
      "cell_type": "code",
      "execution_count": null,
      "metadata": {
        "id": "7-9fd3OyiZ86"
      },
      "outputs": [],
      "source": [
        "index = {'t' : 1, 'f' : 0} \n",
        "listings['is_superhost_numeric'] = listings['host_is_superhost']\n",
        "listings = listings.replace({\"is_superhost_numeric\": index})\n",
        "\n",
        "listings['host_identity_verified'] = listings['host_identity_verified'].astype('string')\n",
        "listings['host_identity_verified_numeric'] = listings['host_identity_verified']\n",
        "listings = listings.replace({\"host_identity_verified_numeric\": index}) "
      ]
    },
    {
      "cell_type": "markdown",
      "metadata": {
        "id": "zDJzKc_EZvo8"
      },
      "source": [
        "**Converting host_since, first_review, last_review and last_scraped to datetime.**"
      ]
    },
    {
      "cell_type": "code",
      "execution_count": null,
      "metadata": {
        "id": "wwEXNZRe7ysH"
      },
      "outputs": [],
      "source": [
        "listings['host_since'] = pd.to_datetime(listings['host_since'])\n",
        "listings['first_review'] = pd.to_datetime(listings['first_review'])\n",
        "listings['last_review'] = pd.to_datetime(listings['last_review'])\n",
        "listings['last_scraped'] = pd.to_datetime(listings['last_scraped'])"
      ]
    },
    {
      "cell_type": "markdown",
      "metadata": {
        "id": "r_2jQyGYYa0m"
      },
      "source": [
        "We examined the listings dataframe and found that the listing_id is unique (each row represents a unique listing), but host_id is repeated when one host has multiple listings. In order to specifically analyze host data and avoid repeated datapoints, we will remove duplicate host id's."
      ]
    },
    {
      "cell_type": "code",
      "execution_count": null,
      "metadata": {
        "colab": {
          "base_uri": "https://localhost:8080/",
          "height": 70
        },
        "id": "xAC5GxMlYHek",
        "outputId": "339dc35f-02c4-4113-d62f-41d67ec7b593"
      },
      "outputs": [
        {
          "output_type": "execute_result",
          "data": {
            "text/html": [
              "<div>\n",
              "<style scoped>\n",
              "    .dataframe tbody tr th:only-of-type {\n",
              "        vertical-align: middle;\n",
              "    }\n",
              "\n",
              "    .dataframe tbody tr th {\n",
              "        vertical-align: top;\n",
              "    }\n",
              "\n",
              "    .dataframe thead th {\n",
              "        text-align: right;\n",
              "    }\n",
              "</style>\n",
              "<table border=\"1\" class=\"dataframe\">\n",
              "  <thead>\n",
              "    <tr style=\"text-align: right;\">\n",
              "      <th></th>\n",
              "      <th>id</th>\n",
              "      <th>listing_url</th>\n",
              "      <th>last_scraped</th>\n",
              "      <th>name</th>\n",
              "      <th>description</th>\n",
              "      <th>neighborhood_overview</th>\n",
              "      <th>picture_url</th>\n",
              "      <th>host_id</th>\n",
              "      <th>host_url</th>\n",
              "      <th>host_name</th>\n",
              "      <th>host_since</th>\n",
              "      <th>host_location</th>\n",
              "      <th>host_about</th>\n",
              "      <th>host_response_time</th>\n",
              "      <th>host_response_rate</th>\n",
              "      <th>host_acceptance_rate</th>\n",
              "      <th>host_is_superhost</th>\n",
              "      <th>host_thumbnail_url</th>\n",
              "      <th>host_picture_url</th>\n",
              "      <th>host_neighbourhood</th>\n",
              "      <th>host_listings_count</th>\n",
              "      <th>host_verifications</th>\n",
              "      <th>host_has_profile_pic</th>\n",
              "      <th>host_identity_verified</th>\n",
              "      <th>neighbourhood</th>\n",
              "      <th>neighbourhood_cleansed</th>\n",
              "      <th>neighbourhood_group_cleansed</th>\n",
              "      <th>latitude</th>\n",
              "      <th>longitude</th>\n",
              "      <th>property_type</th>\n",
              "      <th>room_type</th>\n",
              "      <th>accommodates</th>\n",
              "      <th>bathrooms_text</th>\n",
              "      <th>bedrooms</th>\n",
              "      <th>beds</th>\n",
              "      <th>amenities</th>\n",
              "      <th>price</th>\n",
              "      <th>has_availability</th>\n",
              "      <th>availability_30</th>\n",
              "      <th>availability_60</th>\n",
              "      <th>availability_90</th>\n",
              "      <th>availability_365</th>\n",
              "      <th>number_of_reviews</th>\n",
              "      <th>number_of_reviews_ltm</th>\n",
              "      <th>number_of_reviews_l30d</th>\n",
              "      <th>first_review</th>\n",
              "      <th>last_review</th>\n",
              "      <th>review_scores_rating</th>\n",
              "      <th>review_scores_accuracy</th>\n",
              "      <th>review_scores_cleanliness</th>\n",
              "      <th>review_scores_checkin</th>\n",
              "      <th>review_scores_communication</th>\n",
              "      <th>review_scores_location</th>\n",
              "      <th>review_scores_value</th>\n",
              "      <th>instant_bookable</th>\n",
              "      <th>calculated_host_listings_count</th>\n",
              "      <th>calculated_host_listings_count_entire_homes</th>\n",
              "      <th>calculated_host_listings_count_private_rooms</th>\n",
              "      <th>calculated_host_listings_count_shared_rooms</th>\n",
              "      <th>reviews_per_month</th>\n",
              "      <th>is_superhost_numeric</th>\n",
              "      <th>host_identity_verified_numeric</th>\n",
              "    </tr>\n",
              "  </thead>\n",
              "  <tbody>\n",
              "  </tbody>\n",
              "</table>\n",
              "</div>"
            ],
            "text/plain": [
              "Empty DataFrame\n",
              "Columns: [id, listing_url, last_scraped, name, description, neighborhood_overview, picture_url, host_id, host_url, host_name, host_since, host_location, host_about, host_response_time, host_response_rate, host_acceptance_rate, host_is_superhost, host_thumbnail_url, host_picture_url, host_neighbourhood, host_listings_count, host_verifications, host_has_profile_pic, host_identity_verified, neighbourhood, neighbourhood_cleansed, neighbourhood_group_cleansed, latitude, longitude, property_type, room_type, accommodates, bathrooms_text, bedrooms, beds, amenities, price, has_availability, availability_30, availability_60, availability_90, availability_365, number_of_reviews, number_of_reviews_ltm, number_of_reviews_l30d, first_review, last_review, review_scores_rating, review_scores_accuracy, review_scores_cleanliness, review_scores_checkin, review_scores_communication, review_scores_location, review_scores_value, instant_bookable, calculated_host_listings_count, calculated_host_listings_count_entire_homes, calculated_host_listings_count_private_rooms, calculated_host_listings_count_shared_rooms, reviews_per_month, is_superhost_numeric, host_identity_verified_numeric]\n",
              "Index: []"
            ]
          },
          "metadata": {},
          "execution_count": 59
        }
      ],
      "source": [
        "listings[listings['host_id'] == 2787]"
      ]
    },
    {
      "cell_type": "markdown",
      "metadata": {
        "id": "LGoz-q6hbK0m"
      },
      "source": [
        "**Creating a new dataframe called \"hosts\" to store host information.**"
      ]
    },
    {
      "cell_type": "code",
      "execution_count": null,
      "metadata": {
        "id": "I9L6kQ_Zg7MF"
      },
      "outputs": [],
      "source": [
        "col_name = ['host_id']\n",
        "hosts = listings.sort_values('host_id').drop_duplicates(subset=col_name)"
      ]
    },
    {
      "cell_type": "markdown",
      "metadata": {
        "id": "oQH_HdyrcFMt"
      },
      "source": [
        "We now create a new calculated column so that we can determine the average price of properties per host."
      ]
    },
    {
      "cell_type": "code",
      "execution_count": null,
      "metadata": {
        "colab": {
          "base_uri": "https://localhost:8080/",
          "height": 206
        },
        "id": "Lk-1JM9LgpRc",
        "outputId": "3cb1a0d2-19fa-44bb-cebc-618efd3ded0a"
      },
      "outputs": [
        {
          "output_type": "execute_result",
          "data": {
            "text/html": [
              "<div>\n",
              "<style scoped>\n",
              "    .dataframe tbody tr th:only-of-type {\n",
              "        vertical-align: middle;\n",
              "    }\n",
              "\n",
              "    .dataframe tbody tr th {\n",
              "        vertical-align: top;\n",
              "    }\n",
              "\n",
              "    .dataframe thead th {\n",
              "        text-align: right;\n",
              "    }\n",
              "</style>\n",
              "<table border=\"1\" class=\"dataframe\">\n",
              "  <thead>\n",
              "    <tr style=\"text-align: right;\">\n",
              "      <th></th>\n",
              "      <th>host_id</th>\n",
              "      <th>average_host_price</th>\n",
              "    </tr>\n",
              "  </thead>\n",
              "  <tbody>\n",
              "    <tr>\n",
              "      <th>0</th>\n",
              "      <td>7054</td>\n",
              "      <td>90.0</td>\n",
              "    </tr>\n",
              "    <tr>\n",
              "      <th>1</th>\n",
              "      <td>19109</td>\n",
              "      <td>175.0</td>\n",
              "    </tr>\n",
              "    <tr>\n",
              "      <th>2</th>\n",
              "      <td>19333</td>\n",
              "      <td>150.0</td>\n",
              "    </tr>\n",
              "    <tr>\n",
              "      <th>3</th>\n",
              "      <td>39547</td>\n",
              "      <td>38.0</td>\n",
              "    </tr>\n",
              "    <tr>\n",
              "      <th>4</th>\n",
              "      <td>42458</td>\n",
              "      <td>131.0</td>\n",
              "    </tr>\n",
              "  </tbody>\n",
              "</table>\n",
              "</div>"
            ],
            "text/plain": [
              "   host_id  average_host_price\n",
              "0     7054                90.0\n",
              "1    19109               175.0\n",
              "2    19333               150.0\n",
              "3    39547                38.0\n",
              "4    42458               131.0"
            ]
          },
          "metadata": {},
          "execution_count": 61
        }
      ],
      "source": [
        "average_price_per_host = listings.groupby('host_id')['price'].mean()\n",
        "average_price_per_host_df = pd.DataFrame(average_price_per_host)\n",
        "average_price_per_host_df = average_price_per_host_df.reset_index()\n",
        "average_price_per_host_df = average_price_per_host_df.rename(columns={\"price\": \"average_host_price\"})\n",
        "average_price_per_host_df.head()"
      ]
    },
    {
      "cell_type": "markdown",
      "metadata": {
        "id": "fo0SfiGccRE2"
      },
      "source": [
        "And join this dataframe with \"hosts\" on host_id so that there are averages for each host in the \"hosts\" dataframe. We now have 25038 unique observations (hosts) in the \"hosts\" dataframe."
      ]
    },
    {
      "cell_type": "code",
      "execution_count": null,
      "metadata": {
        "colab": {
          "base_uri": "https://localhost:8080/"
        },
        "id": "1FXIJH9s-Sdt",
        "outputId": "6595369c-e467-4419-e397-08760574f7b7"
      },
      "outputs": [
        {
          "output_type": "execute_result",
          "data": {
            "text/plain": [
              "1891"
            ]
          },
          "metadata": {},
          "execution_count": 62
        }
      ],
      "source": [
        "hosts = hosts.merge(average_price_per_host_df, on='host_id')\n",
        "len(hosts.id.unique())"
      ]
    },
    {
      "cell_type": "markdown",
      "metadata": {
        "id": "pI2YMHWTaHIa"
      },
      "source": [
        "**What is a superhost?**\n",
        "\n",
        "A superhost is someone who provides exceptional service. "
      ]
    },
    {
      "cell_type": "markdown",
      "metadata": {
        "id": "4S_07LDKVG_K"
      },
      "source": [
        "**How many superhosts are there?**\n",
        "\n",
        "There are 901 superhosts and 900 non-superhosts."
      ]
    },
    {
      "cell_type": "code",
      "execution_count": null,
      "metadata": {
        "colab": {
          "base_uri": "https://localhost:8080/"
        },
        "id": "w1UVEG_C4o55",
        "outputId": "c269b1f1-cb78-4822-d77d-26c6066ee62e"
      },
      "outputs": [
        {
          "output_type": "execute_result",
          "data": {
            "text/plain": [
              "0    990\n",
              "1    901\n",
              "Name: is_superhost_numeric, dtype: int64"
            ]
          },
          "metadata": {},
          "execution_count": 63
        }
      ],
      "source": [
        "hosts['is_superhost_numeric'].value_counts()"
      ]
    },
    {
      "cell_type": "code",
      "execution_count": null,
      "metadata": {
        "colab": {
          "base_uri": "https://localhost:8080/"
        },
        "id": "4xHjyIB_QQ84",
        "outputId": "4e8f1830-2634-48cb-c995-edc1a0040c38"
      },
      "outputs": [
        {
          "output_type": "execute_result",
          "data": {
            "text/plain": [
              "0.476467477525119"
            ]
          },
          "metadata": {},
          "execution_count": 64
        }
      ],
      "source": [
        "901/1891"
      ]
    },
    {
      "cell_type": "markdown",
      "metadata": {
        "id": "tpWIwIK6gR-i"
      },
      "source": [
        "About 47.64% of all the hosts are superhosts."
      ]
    },
    {
      "cell_type": "markdown",
      "metadata": {
        "id": "cYk7LQxtaVkJ"
      },
      "source": [
        "**How many hosts completed identity verification?**\n",
        "\n",
        "1516 hosts have verified their identification and 375 hosts have not."
      ]
    },
    {
      "cell_type": "code",
      "execution_count": null,
      "metadata": {
        "colab": {
          "base_uri": "https://localhost:8080/"
        },
        "id": "j94w2wJq89HI",
        "outputId": "424e96ff-08c9-49f1-cba0-3353862fd8bd"
      },
      "outputs": [
        {
          "output_type": "execute_result",
          "data": {
            "text/plain": [
              "1    1516\n",
              "0     375\n",
              "Name: host_identity_verified_numeric, dtype: int64"
            ]
          },
          "metadata": {},
          "execution_count": 65
        }
      ],
      "source": [
        "hosts['host_identity_verified_numeric'].value_counts()"
      ]
    },
    {
      "cell_type": "markdown",
      "metadata": {
        "id": "PUXJ7cE5gfsy"
      },
      "source": [
        "**Creating two new dataframes, segmenting superhosts and non-superhosts.**"
      ]
    },
    {
      "cell_type": "code",
      "execution_count": null,
      "metadata": {
        "id": "GVZ4jx7UQVTi"
      },
      "outputs": [],
      "source": [
        "is_super_df = hosts[hosts.is_superhost_numeric == 1.0]\n",
        "not_super_df = hosts[hosts.is_superhost_numeric == 0.0]"
      ]
    },
    {
      "cell_type": "markdown",
      "metadata": {
        "id": "wCwB6FJviO0u"
      },
      "source": [
        "## Reviews DataFrame"
      ]
    },
    {
      "cell_type": "code",
      "execution_count": null,
      "metadata": {
        "id": "3_CvAy1QiH1Z"
      },
      "outputs": [],
      "source": [
        "# Drop any missing comment or any comment that has less than 3 characters\n",
        "reviews.dropna(subset=['comments'], inplace=True)\n",
        "reviews = reviews.loc[reviews['comments'].str.len()>3]"
      ]
    },
    {
      "cell_type": "code",
      "execution_count": null,
      "metadata": {
        "colab": {
          "base_uri": "https://localhost:8080/"
        },
        "id": "mSkFYreQ2SVW",
        "outputId": "71e9b5f4-0f13-4107-90f1-faa27d85a984"
      },
      "outputs": [
        {
          "output_type": "execute_result",
          "data": {
            "text/plain": [
              "3949"
            ]
          },
          "metadata": {},
          "execution_count": 68
        }
      ],
      "source": [
        "len(reviews['listing_id'].unique())"
      ]
    },
    {
      "cell_type": "code",
      "execution_count": null,
      "metadata": {
        "colab": {
          "base_uri": "https://localhost:8080/",
          "height": 358
        },
        "id": "hhJAN1CMiX99",
        "outputId": "ef51f6eb-0efb-4e53-915b-1a5c300a3bb8"
      },
      "outputs": [
        {
          "output_type": "stream",
          "name": "stderr",
          "text": [
            "/usr/local/lib/python3.7/dist-packages/ipykernel_launcher.py:2: SettingWithCopyWarning:\n",
            "\n",
            "\n",
            "A value is trying to be set on a copy of a slice from a DataFrame.\n",
            "Try using .loc[row_indexer,col_indexer] = value instead\n",
            "\n",
            "See the caveats in the documentation: https://pandas.pydata.org/pandas-docs/stable/user_guide/indexing.html#returning-a-view-versus-a-copy\n",
            "\n",
            "/usr/local/lib/python3.7/dist-packages/ipykernel_launcher.py:3: SettingWithCopyWarning:\n",
            "\n",
            "\n",
            "A value is trying to be set on a copy of a slice from a DataFrame.\n",
            "Try using .loc[row_indexer,col_indexer] = value instead\n",
            "\n",
            "See the caveats in the documentation: https://pandas.pydata.org/pandas-docs/stable/user_guide/indexing.html#returning-a-view-versus-a-copy\n",
            "\n"
          ]
        },
        {
          "output_type": "execute_result",
          "data": {
            "text/html": [
              "<div>\n",
              "<style scoped>\n",
              "    .dataframe tbody tr th:only-of-type {\n",
              "        vertical-align: middle;\n",
              "    }\n",
              "\n",
              "    .dataframe tbody tr th {\n",
              "        vertical-align: top;\n",
              "    }\n",
              "\n",
              "    .dataframe thead th {\n",
              "        text-align: right;\n",
              "    }\n",
              "</style>\n",
              "<table border=\"1\" class=\"dataframe\">\n",
              "  <thead>\n",
              "    <tr style=\"text-align: right;\">\n",
              "      <th></th>\n",
              "      <th>listing_id</th>\n",
              "      <th>id</th>\n",
              "      <th>date</th>\n",
              "      <th>reviewer_id</th>\n",
              "      <th>reviewer_name</th>\n",
              "      <th>comments</th>\n",
              "      <th>year</th>\n",
              "      <th>month</th>\n",
              "    </tr>\n",
              "  </thead>\n",
              "  <tbody>\n",
              "    <tr>\n",
              "      <th>0</th>\n",
              "      <td>11464</td>\n",
              "      <td>14231760</td>\n",
              "      <td>2014-06-15</td>\n",
              "      <td>12818243</td>\n",
              "      <td>Robert</td>\n",
              "      <td>Emey was very attentive and went above and bey...</td>\n",
              "      <td>2014</td>\n",
              "      <td>6</td>\n",
              "    </tr>\n",
              "  </tbody>\n",
              "</table>\n",
              "</div>"
            ],
            "text/plain": [
              "   listing_id        id  ...  year  month\n",
              "0       11464  14231760  ...  2014      6\n",
              "\n",
              "[1 rows x 8 columns]"
            ]
          },
          "metadata": {},
          "execution_count": 69
        }
      ],
      "source": [
        "# Create two columns that indicate the year and month where a comment was posted\n",
        "reviews['year'] = reviews['date'].dt.year\n",
        "reviews['month'] = reviews['date'].dt.month\n",
        "reviews.head(1)"
      ]
    },
    {
      "cell_type": "markdown",
      "metadata": {
        "id": "8B-REDtqjjMs"
      },
      "source": [
        "# Exploratoy Data Analysis"
      ]
    },
    {
      "cell_type": "markdown",
      "metadata": {
        "id": "k7FGhA_zjoEH"
      },
      "source": [
        "### Listings DataFrame"
      ]
    },
    {
      "cell_type": "markdown",
      "metadata": {
        "id": "F4FiJxJi2XFA"
      },
      "source": [
        "Visualizing the distribution of features in the listings dataframe. The latitude is normally distributed while the others appear to be skewed."
      ]
    },
    {
      "cell_type": "code",
      "execution_count": null,
      "metadata": {
        "id": "IyqE9NVe2NtN"
      },
      "outputs": [],
      "source": [
        "# Visualizing the distribution for every \"feature\"\n",
        "df_new = listings[[\n",
        "       'host_response_time', 'host_response_rate', 'host_acceptance_rate',\n",
        "       'host_is_superhost', 'host_thumbnail_url', 'host_picture_url',\n",
        "       'host_neighbourhood', 'host_listings_count', 'host_verifications',\n",
        "       'host_has_profile_pic', 'host_identity_verified', 'neighbourhood',\n",
        "       'neighbourhood_cleansed', 'neighbourhood_group_cleansed', 'latitude',\n",
        "       'longitude', 'property_type', 'room_type', 'accommodates',\n",
        "       'bathrooms_text', 'bedrooms', 'beds', 'amenities', 'price',\n",
        "       'has_availability', 'availability_30', 'availability_60',\n",
        "       'availability_90', 'availability_365', 'number_of_reviews',\n",
        "       'number_of_reviews_ltm', 'number_of_reviews_l30d', 'first_review',\n",
        "       'last_review', 'review_scores_rating', 'review_scores_accuracy',\n",
        "       'review_scores_cleanliness', 'review_scores_checkin',\n",
        "       'review_scores_communication', 'review_scores_location',\n",
        "       'review_scores_value', 'instant_bookable']]"
      ]
    },
    {
      "cell_type": "code",
      "execution_count": null,
      "metadata": {
        "colab": {
          "base_uri": "https://localhost:8080/",
          "height": 571
        },
        "id": "sE2CI3tR1fWz",
        "outputId": "b373c63e-35e8-4ce8-e9e5-3b5a4b2256b1"
      },
      "outputs": [
        {
          "output_type": "display_data",
          "data": {
            "image/png": "[encoded data removed]",
            "text/plain": [
              "<Figure size 2880x1440 with 25 Axes>"
            ]
          },
          "metadata": {
            "needs_background": "light"
          }
        }
      ],
      "source": [
        "df_new.hist( linewidth=1, figsize=(40, 20));"
      ]
    },
    {
      "cell_type": "code",
      "execution_count": null,
      "metadata": {
        "id": "miLIDFvam3Tm"
      },
      "outputs": [],
      "source": [
        "# Create two dataframes that break down the listing data by super host\n",
        "superhost_listings = listings[listings.host_is_superhost == 't']\n",
        "not_superhost_listings = listings[listings.host_is_superhost == 'f']"
      ]
    },
    {
      "cell_type": "markdown",
      "metadata": {
        "id": "fPLFJn5_rjjx"
      },
      "source": [
        " **What is the distribution of prices for hosts and superhosts?**\n",
        "\n",
        "On average, prices are lower for superhosts. However, I can see that there are a number of outliers, including some listings that are asking $10,000.\n",
        "\n",
        "For these reasons, I'll look at listings that are less than $1000 so that the visualizations are not highly skewed."
      ]
    },
    {
      "cell_type": "code",
      "execution_count": null,
      "metadata": {
        "colab": {
          "base_uri": "https://localhost:8080/"
        },
        "id": "1p3AUiZfrvmS",
        "outputId": "8db8a628-c02b-4424-d2cf-0e873aead54b"
      },
      "outputs": [
        {
          "output_type": "execute_result",
          "data": {
            "text/plain": [
              "0.006535947712418301"
            ]
          },
          "metadata": {},
          "execution_count": 73
        }
      ],
      "source": [
        "len(listings[listings.price > 1000]) / len(listings)"
      ]
    },
    {
      "cell_type": "code",
      "execution_count": null,
      "metadata": {
        "colab": {
          "base_uri": "https://localhost:8080/",
          "height": 542
        },
        "id": "3Ng5fJNSjvu3",
        "outputId": "75cbda2d-9855-4488-ed87-5bd69bfb816d"
      },
      "outputs": [
        {
          "output_type": "display_data",
          "data": {
            "text/html": [
              "<html>\n",
              "<head><meta charset=\"utf-8\" /></head>\n",
              "<body>\n",
              "    <div>\n",
              "            <script src=\"https://cdnjs.cloudflare.com/ajax/libs/mathjax/2.7.5/MathJax.js?config=TeX-AMS-MML_SVG\"></script><script type=\"text/javascript\">if (window.MathJax) {MathJax.Hub.Config({SVG: {font: \"STIX-Web\"}});}</script>\n",
              "                <script type=\"text/javascript\">window.PlotlyConfig = {MathJaxConfig: 'local'};</script>\n",
              "        <script src=\"https://cdn.plot.ly/plotly-latest.min.js\"></script>    \n",
              "            <div id=\"0873de36-4b91-4fe9-a9b4-427562885f60\" class=\"plotly-graph-div\" style=\"height:525px; width:100%;\"></div>\n",
              "            <script type=\"text/javascript\">\n",
              "                \n",
              "                    window.PLOTLYENV=window.PLOTLYENV || {};\n",
              "                    \n",
              "                if (document.getElementById(\"0873de36-4b91-4fe9-a9b4-427562885f60\")) {\n",
              "                    Plotly.newPlot(\n",
              "                        '0873de36-4b91-4fe9-a9b4-427562885f60',\n",
              "                        [{\"alignmentgroup\": \"True\", \"boxpoints\": \"all\", \"fillcolor\": \"rgba(255,255,255,0)\", \"hoverlabel\": {\"namelength\": 0}, \"hoveron\": \"points\", \"hovertemplate\": \"is_superhost_numeric=%{x}<br>price=%{y}\", \"legendgroup\": \"\", \"line\": {\"color\": \"rgba(255,255,255,0)\"}, \"marker\": {\"color\": \"#636efa\"}, \"name\": \"\", \"offsetgroup\": \"\", \"orientation\": \"v\", \"pointpos\": 0, \"showlegend\": false, \"type\": \"box\", \"x\": [1, 1, 1, 1, 1, 1, 1, 0, 0, 1, 0, 1, 0, 1, 0, 1, 0, 1, 1, 1, 0, 0, 1, 0, 1, 1, 0, 0, 1, 0, 1, 0, 0, 1, 1, 1, 1, 1, 1, 1, 1, 1, 0, 0, 1, 1, 0, 0, 0, 0, 0, 0, 0, 0, 0, 0, 1, 1, 0, 1, 0, 1, 1, 0, 1, 0, 0, 0, 1, 1, 0, 0, 0, 0, 0, 0, 0, 1, 0, 0, 1, 0, 0, 1, 0, 1, 0, 0, 1, 0, 1, 0, 0, 0, 0, 0, 1, 0, 1, 1, 1, 0, 1, 0, 0, 0, 0, 0, 0, 1, 0, 0, 1, 1, 0, 0, 1, 0, 0, 1, 0, 0, 0, 0, 1, 1, 1, 0, 1, 1, 0, 0, 1, 0, 1, 1, 1, 1, 0, 1, 1, 1, 0, 0, 0, 0, 1, 1, 0, 1, 1, 1, 1, 1, 1, 0, 1, 1, 0, 0, 0, 0, 1, 1, 0, 0, 0, 0, 1, 1, 0, 0, 1, 0, 0, 0, 1, 1, 0, 1, 0, 0, 0, 0, 1, 1, 1, 0, 0, 0, 1, 1, 0, 1, 1, 1, 0, 0, 0, 0, 1, 1, 0, 0, 1, 1, 1, 1, 1, 1, 0, 0, 0, 1, 1, 0, 1, 0, 0, 0, 1, 0, 0, 0, 0, 0, 1, 1, 1, 0, 1, 1, 1, 1, 1, 0, 1, 1, 1, 1, 0, 0, 0, 0, 0, 0, 1, 1, 0, 1, 1, 1, 1, 0, 1, 0, 1, 0, 1, 1, 1, 1, 1, 1, 1, 1, 0, 0, 1, 1, 1, 0, 0, 1, 0, 0, 0, 0, 1, 0, 0, 1, 1, 0, 1, 0, 0, 0, 0, 0, 0, 0, 1, 1, 1, 1, 0, 0, 1, 1, 0, 1, 0, 0, 1, 1, 1, 0, 0, 0, 1, 0, 0, 1, 1, 1, 1, 1, 1, 1, 1, 0, 0, 0, 1, 0, 0, 0, 0, 0, 0, 1, 0, 0, 1, 0, 1, 0, 0, 0, 1, 0, 1, 0, 0, 1, 0, 0, 1, 1, 0, 1, 1, 0, 0, 0, 0, 1, 0, 1, 1, 0, 1, 0, 0, 0, 1, 1, 0, 1, 1, 1, 0, 0, 0, 0, 0, 1, 0, 1, 0, 1, 1, 1, 1, 1, 0, 1, 1, 0, 0, 0, 0, 1, 1, 1, 1, 0, 0, 0, 0, 1, 0, 0, 1, 0, 1, 0, 1, 0, 0, 0, 0, 1, 0, 1, 1, 1, 1, 0, 1, 0, 0, 0, 0, 1, 1, 0, 1, 0, 0, 1, 0, 0, 0, 1, 0, 0, 1, 1, 1, 1, 1, 0, 1, 1, 1, 1, 1, 1, 1, 0, 0, 1, 0, 0, 1, 1, 0, 0, 0, 1, 1, 1, 0, 1, 1, 0, 0, 0, 1, 0, 1, 0, 1, 1, 0, 0, 1, 1, 1, 0, 1, 0, 0, 1, 0, 1, 1, 0, 1, 1, 1, 0, 1, 0, 0, 1, 1, 1, 0, 1, 0, 1, 0, 1, 0, 0, 1, 1, 0, 0, 0, 1, 0, 1, 1, 1, 1, 1, 0, 1, 0, 1, 1, 1, 0, 1, 0, 0, 0, 0, 0, 0, 0, 1, 0, 0, 0, 1, 0, 0, 1, 1, 1, 0, 0, 1, 1, 1, 1, 0, 0, 0, 1, 0, 0, 1, 1, 0, 1, 1, 1, 0, 0, 0, 1, 1, 0, 0, 0, 0, 0, 1, 1, 1, 1, 0, 0, 1, 0, 1, 1, 1, 0, 0, 0, 0, 1, 0, 0, 1, 0, 0, 1, 1, 0, 1, 1, 1, 1, 1, 1, 1, 1, 1, 0, 1, 1, 0, 0, 1, 1, 1, 1, 0, 0, 0, 1, 1, 1, 1, 1, 1, 1, 1, 0, 1, 1, 0, 0, 0, 1, 1, 0, 1, 1, 1, 0, 0, 0, 1, 0, 0, 0, 1, 0, 0, 0, 0, 0, 0, 0, 1, 1, 1, 0, 0, 0, 0, 1, 0, 0, 0, 1, 1, 0, 0, 0, 0, 0, 0, 0, 0, 0, 0, 0, 0, 1, 0, 0, 0, 0, 0, 0, 0, 0, 0, 0, 1, 0, 0, 1, 1, 1, 1, 0, 1, 1, 0, 1, 0, 0, 1, 0, 1, 1, 0, 1, 0, 0, 0, 1, 1, 1, 0, 1, 1, 1, 0, 0, 0, 0, 0, 0, 0, 1, 0, 1, 1, 1, 1, 1, 1, 1, 1, 1, 1, 1, 1, 1, 0, 1, 0, 0, 1, 1, 1, 1, 0, 0, 0, 0, 1, 1, 0, 1, 1, 0, 1, 0, 1, 0, 0, 0, 0, 0, 0, 1, 1, 1, 1, 0, 1, 0, 1, 0, 0, 0, 1, 0, 0, 1, 0, 0, 1, 0, 0, 1, 1, 0, 0, 1, 1, 1, 0, 1, 1, 0, 0, 0, 0, 1, 1, 1, 0, 0, 1, 0, 1, 0, 0, 1, 1, 0, 1, 0, 1, 1, 1, 0, 0, 1, 1, 0, 1, 0, 1, 1, 1, 1, 0, 0, 1, 1, 1, 0, 0, 0, 0, 1, 0, 1, 1, 1, 0, 1, 1, 0, 0, 0, 0, 1, 0, 0, 1, 1, 0, 0, 1, 1, 1, 0, 0, 0, 1, 1, 1, 0, 1, 1, 1, 0, 1, 1, 1, 1, 1, 0, 0, 1, 1, 1, 1, 0, 1, 1, 1, 1, 1, 0, 1, 0, 0, 1, 0, 1, 1, 1, 1, 0, 1, 0, 0, 1, 0, 0, 1, 1, 1, 0, 0, 0, 0, 1, 0, 1, 1, 0, 0, 0, 1, 1, 1, 1, 1, 0, 0, 0, 1, 0, 1, 0, 0, 0, 0, 0, 0, 1, 0, 1, 0, 1, 1, 0, 0, 0, 1, 1, 0, 0, 0, 0, 1, 1, 0, 1, 0, 0, 0, 1, 0, 1, 1, 1, 1, 0, 0, 1, 1, 1, 0, 1, 0, 0, 0, 0, 0, 1, 0, 1, 0, 0, 1, 1, 1, 0, 1, 0, 1, 1, 1, 1, 1, 0, 0, 1, 0, 0, 1, 0, 0, 0, 0, 1, 0, 0, 1, 0, 1, 1, 0, 0, 1, 1, 1, 1, 1, 0, 0, 1, 1, 1, 1, 1, 0, 1, 0, 0, 1, 0, 0, 1, 0, 0, 1, 0, 1, 1, 0, 1, 0, 0, 1, 1, 0, 0, 0, 1, 1, 0, 1, 0, 0, 1, 0, 0, 1, 1, 1, 1, 1, 0, 0, 0, 1, 1, 1, 0, 1, 1, 0, 0, 0, 1, 0, 0, 1, 0, 1, 0, 0, 0, 0, 1, 1, 0, 1, 0, 1, 1, 0, 0, 1, 1, 1, 1, 1, 1, 1, 0, 1, 1, 0, 1, 1, 1, 1, 1, 1, 1, 0, 0, 1, 0, 1, 0, 1, 0, 0, 1, 0, 1, 1, 0, 0, 1, 0, 0, 1, 1, 1, 0, 0, 0, 0, 1, 0, 0, 1, 1, 1, 1, 1, 0, 0, 0, 0, 0, 1, 0, 1, 0, 0, 1, 0, 0, 1, 1, 0, 0, 0, 1, 0, 1, 1, 0, 0, 1, 1, 1, 0, 1, 1, 1, 0, 1, 0, 0, 0, 1, 0, 0, 1, 1, 1, 0, 0, 0, 0, 0, 1, 0, 0, 1, 1, 0, 1, 0, 1, 0, 1, 0, 1, 1, 0, 0, 1, 0, 0, 0, 1, 0, 0, 1, 0, 1, 0, 0, 1, 1, 1, 1, 1, 0, 0, 1, 1, 0, 1, 0, 0, 1, 1, 0, 0, 1, 1, 0, 1, 0, 1, 1, 1, 0, 1, 1, 1, 1, 1, 1, 0, 0, 1, 1, 1, 0, 1, 0, 0, 0, 0, 1, 1, 0, 1, 1, 1, 1, 0, 1, 0, 0, 0, 1, 0, 0, 1, 1, 1, 0, 1, 1, 1, 1, 0, 0, 0, 1, 0, 0, 0, 0, 0, 0, 0, 1, 0, 0, 1, 1, 1, 0, 1, 1, 1, 1, 0, 0, 0, 1, 1, 0, 0, 1, 0, 1, 1, 0, 0, 0, 0, 0, 0, 1, 0, 1, 0, 0, 1, 1, 1, 1, 1, 1, 0, 0, 0, 0, 0, 0, 1, 1, 1, 1, 1, 1, 1, 1, 1, 1, 1, 0, 1, 0, 1, 1, 1, 0, 1, 1, 1, 1, 1, 0, 0, 0, 1, 0, 1, 1, 1, 0, 1, 1, 1, 0, 1, 0, 1, 1, 1, 0, 0, 0, 0, 0, 0, 1, 1, 0, 1, 0, 1, 1, 0, 0, 1, 1, 1, 0, 1, 1, 1, 0, 0, 1, 1, 0, 0, 1, 1, 0, 0, 0, 1, 1, 1, 0, 1, 1, 1, 0, 0, 1, 1, 1, 0, 0, 0, 0, 1, 0, 0, 1, 0, 0, 0, 1, 0, 0, 1, 1, 1, 0, 1, 1, 0, 0, 1, 0, 0, 0, 0, 0, 1, 1, 1, 0, 1, 1, 0, 0, 0, 1, 1, 0, 0, 0, 1, 1, 0, 0, 0, 1, 0, 0, 1, 0, 0, 1, 1, 0, 0, 0, 1, 1, 1, 1, 1, 1, 1, 1, 1, 1, 0, 0, 1, 0, 1, 0, 1, 1, 0, 0, 0, 1, 0, 0, 1, 1, 0, 1, 0, 1, 0, 0, 0, 1, 1, 1, 1, 1, 0, 0, 0, 0, 0, 0, 0, 0, 0, 1, 0, 0, 0, 1, 1, 0, 0, 1, 1, 1, 0, 0, 0, 0, 0, 0, 1, 0, 0, 1, 0, 0, 0, 0, 0, 1, 0, 0, 0, 0, 0, 1, 1, 1, 1, 1, 0, 0, 1, 0, 1, 1, 1, 0, 1, 1, 0, 0, 1, 1, 0, 0, 1, 0, 1, 0, 1, 0, 0, 1, 0, 1, 1, 0, 0, 0, 0, 1, 0, 1, 0, 1, 1, 0, 0, 0, 0, 0, 0, 1, 1, 0, 1, 0, 1, 0, 1, 0, 1, 0, 1, 1, 1, 1, 0, 1, 0, 0, 1, 0, 1, 0, 1, 1, 1, 1, 1, 0, 1, 1, 1, 0, 1, 1, 0, 1, 1, 0, 0, 0, 1, 0, 0, 1, 1, 0, 1, 1, 0, 0, 0, 1, 0, 0, 0, 0, 1, 0, 1, 1, 0, 1, 0, 0, 0, 0, 0, 0, 0, 1, 0, 0, 0, 1, 1, 1, 0, 0, 0, 1, 1, 0, 1, 1, 0, 1, 1, 1, 0, 0, 0, 0, 0, 1, 0, 1, 0, 1, 1, 1, 1, 0, 0, 1, 1, 0, 1, 0, 1, 1, 1, 1, 1, 0, 1, 1, 1, 1, 1, 1, 0, 0, 1, 0, 0, 1, 0, 0, 0, 0, 0, 1, 0, 1, 0, 0, 0, 0, 0, 1, 1, 1, 1, 1, 1, 0, 1, 1, 1, 1, 1, 1, 0, 0, 0, 0, 1, 0, 0, 1, 0, 1, 0, 1, 0, 1, 1, 0, 1, 0, 1, 1, 0, 0, 0, 0, 0, 1, 1, 1, 0, 0, 0, 1, 0, 0, 1, 0, 0, 0, 0, 1, 0, 0, 1, 0, 1, 0, 1, 0, 0, 0, 0, 1, 1, 1, 1, 0, 1, 0, 0, 0, 0, 0, 1, 0, 0, 0, 0, 0, 0, 0, 1, 1, 0, 0, 1, 1, 1, 0, 0, 0, 0, 0, 0, 0, 0, 0, 0, 0, 1, 1, 1, 0, 1, 0, 0, 1, 0, 1, 0, 0, 0, 1, 1, 0, 0, 0, 0, 0, 0, 1, 1, 0, 1, 1, 0, 0, 1, 0, 0, 1, 1, 0, 1, 1, 0, 1, 0, 0, 0, 0, 0, 1, 1, 1, 1, 1, 0, 1, 0, 0, 1, 0, 0, 1, 1, 1, 0, 1, 0, 1, 0, 1, 1, 0, 0, 1, 0, 0, 0, 1, 0, 0, 0, 1, 0, 0, 0, 0, 0, 0, 0, 1, 0, 1, 1, 0, 0, 0, 1, 0, 1, 1, 0, 0, 0, 0, 0, 0, 0, 0, 0, 0, 0, 1, 0, 1, 1, 1, 0, 0, 1, 0, 0, 0, 0, 0, 1, 1, 0, 0, 0, 0, 1, 0, 0, 0, 1, 1, 0, 0, 0, 0, 0, 1, 0, 0, 0, 1, 0, 1, 0, 0, 1, 0, 1, 0, 0, 1, 1, 1, 0, 0, 0, 0, 0, 0, 0, 1, 0, 0, 0, 0, 0, 0, 0, 0, 1, 0, 1, 0, 0, 1, 1, 1, 0, 1, 1, 0, 0, 1, 1, 1, 1, 0, 1, 0, 1, 0, 1, 0, 0, 0, 0, 0, 1, 0, 1, 0, 0, 0, 0, 0, 1, 0, 1, 0, 1, 1, 1, 1, 0, 1, 0, 1, 1, 1, 0, 1, 1, 1, 1, 1, 0, 0, 0, 1, 0, 1, 1, 1, 0, 0, 0, 1, 0, 0, 1, 0, 0, 0, 0, 0, 1, 1, 1, 1, 0, 0, 1, 1, 1, 1, 0, 1, 1, 1, 0, 1, 0, 0, 0, 0, 0, 1, 1, 0, 0, 0, 1, 1, 0, 0, 0, 1, 1, 1, 0, 0, 0, 0, 0, 0, 0, 0, 1, 0, 0, 1, 0, 1, 1, 0, 0, 0, 0, 1, 1, 0, 1, 0, 0, 0, 0, 0, 1, 1, 1, 0, 1, 1, 1, 1, 1, 0, 0, 1, 0, 1, 1, 0, 1, 0, 0, 1, 1, 1, 0, 1, 0, 1, 0, 1, 0, 1, 1, 1, 0, 1, 0, 0, 0, 0, 1, 1, 0, 0, 1, 0, 1, 1, 1, 0, 0, 1, 0, 1, 1, 0, 0, 0, 1, 1, 0, 0, 1, 1, 1, 0, 1, 0, 1, 0, 0, 0, 0, 0, 1, 1, 1, 1, 1, 1, 0, 0, 0, 0, 0, 0, 0, 0, 1, 1, 0, 0, 0, 0, 0, 0, 1, 1, 0, 0, 0, 0, 0, 1, 1, 1, 0, 1, 0, 1, 1, 1, 1, 1, 0, 0, 0, 0, 0, 1, 1, 0, 0, 0, 0, 1, 0, 1, 0, 1, 0, 1, 1, 1, 0, 0, 1, 0, 0, 0, 0, 0, 1, 0, 1, 1, 0, 0, 0, 0, 0, 1, 0, 0, 0, 1, 0, 0, 0, 1, 1, 0, 0, 0, 0, 1, 0, 0, 0, 1, 1, 1, 0, 0, 1, 1, 0, 1, 1, 0, 1, 0, 1, 0, 0, 0, 0, 0, 0, 0, 0, 0, 1, 0, 0, 0, 0, 0, 0, 0, 0, 0, 0, 0, 1, 1, 1, 1, 0, 1, 1, 1, 1, 1, 0, 0, 1, 0, 1, 0, 0, 0, 0, 0, 0, 0, 1, 1, 1, 0, 1, 1, 0, 1, 0, 1, 1, 1, 1, 1, 0, 1, 0, 0, 1, 0, 1, 0, 1, 1, 1, 1, 0, 0, 0, 0, 0, 1, 1, 0, 0, 0, 0, 0, 0, 0, 0, 1, 0, 0, 0, 0, 0, 0, 0, 0, 0, 0, 0, 0, 1, 0, 1, 1, 0, 0, 1, 1, 1, 1, 1, 0, 0, 0, 0, 0, 0, 0, 0, 0, 0, 1, 0, 0, 0, 1, 0, 1, 1, 1, 1, 1, 1, 0, 0, 0, 0, 0, 1, 1, 0, 0, 0, 0, 0, 1, 0, 0, 0, 0, 0, 0, 0, 0, 1, 1, 0, 0, 1, 0, 1, 0, 0, 0, 1, 1, 1, 0, 0, 0, 0, 0, 0, 0, 0, 0, 1, 0, 0, 0, 1, 1, 0, 0, 1, 0, 0, 0, 1, 1, 1, 0, 0, 0, 1, 0, 0, 0, 1, 1, 0, 0, 1, 0, 0, 0, 0, 0, 0, 0, 1, 0, 0, 0, 0, 0, 0, 1, 1, 0, 1, 0, 1, 1, 1, 0, 0, 1, 1, 1, 0, 0, 1, 0, 0, 0, 1, 0, 0, 0, 0, 0, 1, 0, 1, 1, 0, 0, 1, 1, 0, 0, 1, 0, 0, 0, 1, 1, 1, 1, 1, 1, 0, 0, 1, 1, 0, 0, 0, 0, 1, 1, 1, 0, 0, 0, 0, 0, 0, 1, 0, 0, 1, 0, 0, 0, 0, 0, 0, 0, 0, 0, 0, 0, 0, 1, 0, 0, 0, 0, 0, 0, 0, 0, 0, 0, 0, 1, 0, 1, 1, 1, 0, 0, 0, 1, 0, 1, 0, 0, 0, 0, 1, 0, 0, 0, 0, 0, 0, 1, 0, 0, 0, 0, 1, 1, 1, 1, 0, 0, 1, 1, 1, 0, 0, 0, 0, 1, 0, 1, 0, 0, 0, 0, 0, 1, 0, 1, 1, 0, 1, 0, 1, 1, 1, 1, 1, 1, 1, 0, 1, 1, 1, 1, 0, 0, 0, 0, 0, 1, 1, 0, 0, 1, 1, 1, 1, 1, 0, 0, 0, 0, 1, 0, 1, 0, 1, 0, 0, 1, 1, 1, 0, 0, 0, 0, 1, 0, 0, 0, 0, 0, 0, 0, 0, 1, 0, 0, 1, 0, 1, 0, 0, 1, 1, 0, 1, 1, 0, 0, 0, 1, 1, 1, 1, 1, 1, 1, 1, 0, 1, 0, 0, 0, 0, 0, 0, 0, 1, 0, 0, 0, 1, 0, 0, 0, 1, 0, 1, 0, 0, 1, 1, 0, 0, 0, 0, 0, 0, 0, 0, 0, 0, 0, 0, 1, 0, 0, 0, 1, 1, 0, 0, 1, 0, 1, 0, 0, 0, 0, 1, 1, 0, 0, 0, 0, 0, 0, 0, 1, 0, 0, 0, 0, 1, 1, 0, 0, 0, 1, 0, 0, 0, 1, 1, 1, 1, 0, 0, 1, 1, 1, 0, 0, 0, 1, 1, 1, 1, 0, 1, 1, 1, 0, 0, 1, 0, 0, 1, 0, 0, 0, 1, 1, 0, 0, 1, 0, 0, 1, 1, 1, 1, 0, 1, 1, 0, 1, 1, 0, 0, 0, 1, 0, 1, 0, 0, 0, 0, 0, 0, 1, 1, 0, 0, 0, 0, 0, 0, 0, 0, 0, 1, 0, 1, 1, 0, 0, 1, 0, 0, 0, 1, 0, 0, 1, 0, 0, 0, 0, 0, 0, 0, 1, 1, 1, 0, 1, 0, 0, 0, 1, 0, 1, 1, 0, 1, 0, 0, 1, 1, 0, 0, 1, 1, 1, 0, 1, 0, 0, 0, 0, 0, 0, 0, 0, 0, 1, 0, 0, 0, 0, 0, 1, 1, 1, 1, 1, 0, 1, 0, 0, 1, 1, 0, 0, 1, 1, 0, 0, 1, 1, 1, 1, 0, 0, 0, 0, 0, 1, 0, 0, 0, 1, 0, 0, 1, 0, 0, 0, 1, 0, 1, 0, 1, 0, 0, 0, 1, 1, 1, 1, 1, 0, 0, 0, 0, 0, 0, 0, 1, 0, 0, 0, 0, 0, 0, 0, 0, 0, 0, 1, 1, 0, 1, 1, 0, 1, 0, 1, 0, 0, 0, 0, 1, 1, 1, 0, 0, 1, 0, 1, 0, 0, 0, 0, 1, 1, 1, 0, 0, 0, 0, 1, 1, 0, 0, 1, 0, 0, 0, 0, 0, 0, 0, 1, 1, 0, 0, 1, 1, 0, 0, 0, 0, 0, 1, 1, 0, 1, 1, 1, 1, 0, 0, 0, 1, 0, 0, 1, 1, 1, 0, 0, 0, 1, 0, 1, 1, 0, 1, 0, 1, 0, 1, 0, 1, 0, 1, 1, 0, 1, 1, 1, 1, 1, 1, 1, 1, 1, 0, 1, 1, 0, 0, 0, 1, 1, 0, 1, 0, 0, 1, 0, 1, 0, 0, 0, 0, 1, 1, 0, 0, 0, 1, 1, 0, 0, 0, 0, 0, 1, 0, 0, 0, 0, 0, 1, 1, 0, 0, 0, 0, 1, 0, 0, 1, 1, 0, 0, 0, 1, 1, 0, 0, 1, 1, 0, 0, 0, 0, 0, 1, 0, 0, 0, 0, 1, 0, 0, 0, 1, 1, 0, 0, 0, 0, 0, 0, 0, 0, 0, 1, 1, 0, 0, 0, 0, 0, 0, 1, 0, 0, 0, 0, 1, 1, 0, 0, 0, 0, 0, 0, 0, 0, 0, 0, 1, 1, 1, 0, 1, 0, 1, 0, 0, 0, 0, 1, 1, 0, 1, 0, 1, 0, 0, 0, 0, 0, 0, 0, 0, 1, 0, 0, 0, 0, 1, 0, 0, 1, 0, 0, 0, 0, 0, 0, 0, 0, 0, 0, 0, 1, 1, 0, 1, 1, 1, 0, 1, 1, 1, 1, 0, 0, 0, 1, 0, 0, 0, 0, 1, 0, 0, 0, 0, 0, 1, 0, 1, 1, 1, 0, 0, 0, 0, 0, 1, 1, 1, 0, 0, 0, 0, 0, 0, 0, 1, 0, 0, 0, 0, 0, 0, 0, 0, 0, 0, 1, 0, 0, 1, 0, 0, 0, 0, 0, 0, 0, 1, 0, 0, 1, 0, 0, 1, 0, 1, 0, 0, 0, 0, 0, 1, 0, 1, 1, 1, 0, 1, 1, 0, 1, 0, 1, 0, 1, 0, 0, 1, 1, 1, 0, 1, 0, 0, 0, 1, 1, 0, 0, 1, 1, 1, 1, 1, 1, 0, 0, 0, 1, 0, 1, 1, 0, 0, 1, 0, 1, 1, 0, 1, 0, 0, 1, 1, 0, 0, 1, 1, 0, 0, 1, 0, 0, 1, 1, 0, 1, 0, 1, 0, 0, 0, 0, 0, 0, 1, 0, 0, 1, 1, 0, 0, 0, 1, 0, 0, 0, 0, 0, 0, 1, 1, 0, 0, 1, 1, 0, 0, 1, 0, 0, 0, 0, 0, 0, 0, 0, 0, 0, 1, 0, 0, 0, 1, 0, 0, 0, 0, 0, 0, 1, 0, 1, 0, 1, 0, 0, 0, 0, 0, 0, 0, 0, 0, 0, 0, 0, 0, 0, 0, 0, 0, 0, 1, 0, 0, 0, 0, 1, 0, 0, 0, 0, 1, 1, 0, 0, 0, 1, 0, 0, 1, 0, 1, 0, 0, 0, 0, 0, 0, 0, 0, 0, 0, 0, 1, 0, 0, 0, 1, 0, 0, 0, 0, 0, 0, 0, 0, 0, 0, 0, 1, 0, 0, 0, 0, 1, 1, 1, 0, 1, 0, 1, 0, 0, 1, 0, 0, 0, 0, 0, 0, 0, 1, 1, 0, 0, 0, 1, 1, 0, 0, 0, 0, 1, 0, 0, 0, 1, 1, 0, 1, 1, 0, 0, 0, 0, 0, 1, 1, 0, 0, 1, 0, 0, 0, 0, 0, 0, 0, 1, 0, 1, 0, 0, 0, 0, 0, 1, 0, 0, 0, 1, 0, 0, 1, 1, 1, 0, 0, 0, 1, 1, 1, 0, 0, 1, 0, 0, 1, 1, 1, 1, 1, 1, 1, 0, 1, 0, 0, 0, 1, 0, 0, 1, 0, 0, 1, 0, 0, 1, 1, 0, 0, 0, 0, 0, 1, 1, 0, 0, 0, 0, 0, 0, 0, 0, 0, 0, 0, 0, 1, 1, 1, 1, 0, 0, 0, 0, 0, 0, 0, 0, 0, 1, 0, 1, 0, 1, 0, 0, 0, 1, 0, 0, 0, 0, 0, 1, 0, 0, 0, 0, 0, 0, 0, 0, 1, 0, 1, 0, 0, 0, 1, 1, 0, 0, 0, 0, 0, 0, 0, 0, 0, 0, 1, 1, 1, 0, 0, 0, 0, 0, 0, 0, 0, 0, 0, 0, 1, 1, 0, 1, 0, 0, 0, 0, 0, 0, 1, 0, 0, 0, 0, 0, 0, 1, 0, 0, 1, 1, 0, 0, 0, 0, 0, 0, 0, 0, 0, 0, 0, 0, 1, 0, 0, 0, 0, 0, 0, 0, 1, 0, 1, 0, 0, 0, 0, 0, 0, 0, 1, 0, 0, 0, 0], \"x0\": \" \", \"xaxis\": \"x\", \"y\": [80.0, 48.0, 120.0, 50.0, 100.0, 85.0, 150.0, 79.0, 70.0, 150.0, 65.0, 125.0, 89.0, 186.0, 650.0, 165.0, 125.0, 50.0, 91.0, 90.0, 147.0, 325.0, 49.0, 112.0, 59.0, 49.0, 60.0, 50.0, 85.0, 50.0, 68.0, 70.0, 1000.0, 138.0, 113.0, 89.0, 80.0, 258.0, 72.0, 108.0, 95.0, 795.0, 101.0, 200.0, 195.0, 150.0, 118.0, 150.0, 99.0, 55.0, 68.0, 85.0, 45.0, 55.0, 50.0, 485.0, 106.0, 48.0, 220.0, 275.0, 55.0, 40.0, 209.0, 105.0, 199.0, 129.0, 88.0, 90.0, 139.0, 99.0, 40.0, 40.0, 50.0, 70.0, 55.0, 160.0, 50.0, 265.0, 36.0, 50.0, 39.0, 45.0, 350.0, 189.0, 379.0, 275.0, 40.0, 95.0, 125.0, 279.0, 111.0, 170.0, 65.0, 75.0, 37.0, 33.0, 79.0, 49.0, 135.0, 325.0, 400.0, 400.0, 200.0, 42.0, 45.0, 50.0, 45.0, 102.0, 145.0, 266.0, 129.0, 80.0, 124.0, 92.0, 452.0, 100.0, 30.0, 120.0, 45.0, 127.0, 66.0, 150.0, 208.0, 74.0, 97.0, 150.0, 462.0, 45.0, 32.0, 30.0, 40.0, 45.0, 389.0, 45.0, 148.0, 97.0, 195.0, 199.0, 119.0, 39.0, 30.0, 30.0, 193.0, 120.0, 78.0, 110.0, 43.0, 182.0, 33.0, 104.0, 80.0, 95.0, 209.0, 340.0, 85.0, 79.0, 225.0, 420.0, 100.0, 160.0, 110.0, 55.0, 97.0, 90.0, 65.0, 86.0, 129.0, 119.0, 60.0, 244.0, 55.0, 55.0, 88.0, 125.0, 45.0, 45.0, 72.0, 80.0, 78.0, 180.0, 89.0, 129.0, 119.0, 289.0, 150.0, 115.0, 38.0, 135.0, 299.0, 79.0, 114.0, 272.0, 45.0, 269.0, 102.0, 40.0, 89.0, 122.0, 112.0, 60.0, 145.0, 115.0, 48.0, 55.0, 129.0, 80.0, 69.0, 66.0, 140.0, 425.0, 175.0, 189.0, 79.0, 115.0, 95.0, 96.0, 350.0, 126.0, 450.0, 84.0, 158.0, 45.0, 45.0, 105.0, 450.0, 39.0, 55.0, 55.0, 35.0, 120.0, 45.0, 120.0, 79.0, 125.0, 115.0, 120.0, 100.0, 200.0, 149.0, 100.0, 45.0, 43.0, 90.0, 110.0, 65.0, 84.0, 250.0, 149.0, 90.0, 135.0, 67.0, 61.0, 44.0, 130.0, 93.0, 523.0, 75.0, 54.0, 536.0, 80.0, 64.0, 824.0, 425.0, 75.0, 65.0, 90.0, 60.0, 92.0, 100.0, 62.0, 193.0, 71.0, 128.0, 75.0, 55.0, 63.0, 120.0, 62.0, 180.0, 395.0, 189.0, 110.0, 68.0, 41.0, 320.0, 168.0, 102.0, 450.0, 98.0, 74.0, 629.0, 40.0, 62.0, 89.0, 184.0, 169.0, 113.0, 514.0, 74.0, 187.0, 225.0, 60.0, 150.0, 79.0, 92.0, 98.0, 273.0, 275.0, 220.0, 199.0, 43.0, 250.0, 57.0, 188.0, 49.0, 47.0, 149.0, 55.0, 102.0, 59.0, 450.0, 50.0, 45.0, 120.0, 110.0, 100.0, 160.0, 55.0, 50.0, 35.0, 77.0, 97.0, 50.0, 350.0, 252.0, 80.0, 175.0, 50.0, 50.0, 120.0, 179.0, 105.0, 99.0, 115.0, 100.0, 280.0, 199.0, 200.0, 110.0, 70.0, 78.0, 176.0, 60.0, 48.0, 94.0, 108.0, 215.0, 53.0, 150.0, 59.0, 101.0, 90.0, 87.0, 595.0, 99.0, 250.0, 130.0, 82.0, 107.0, 115.0, 79.0, 99.0, 369.0, 85.0, 52.0, 49.0, 79.0, 181.0, 175.0, 163.0, 190.0, 55.0, 375.0, 154.0, 59.0, 60.0, 80.0, 290.0, 99.0, 250.0, 305.0, 59.0, 44.0, 800.0, 99.0, 38.0, 950.0, 100.0, 90.0, 349.0, 90.0, 140.0, 1400.0, 145.0, 89.0, 82.0, 375.0, 219.0, 101.0, 200.0, 55.0, 50.0, 179.0, 90.0, 77.0, 69.0, 115.0, 60.0, 893.0, 400.0, 95.0, 35.0, 85.0, 85.0, 85.0, 80.0, 255.0, 167.0, 70.0, 88.0, 79.0, 100.0, 99.0, 90.0, 189.0, 41.0, 160.0, 74.0, 113.0, 110.0, 97.0, 89.0, 68.0, 135.0, 355.0, 116.0, 119.0, 160.0, 68.0, 100.0, 1050.0, 57.0, 90.0, 122.0, 129.0, 56.0, 30.0, 65.0, 250.0, 69.0, 510.0, 375.0, 70.0, 100.0, 115.0, 285.0, 250.0, 249.0, 39.0, 250.0, 55.0, 115.0, 199.0, 100.0, 263.0, 98.0, 52.0, 200.0, 285.0, 105.0, 229.0, 300.0, 85.0, 600.0, 692.0, 400.0, 245.0, 185.0, 58.0, 149.0, 145.0, 33.0, 240.0, 80.0, 250.0, 259.0, 99.0, 125.0, 60.0, 50.0, 350.0, 206.0, 45.0, 29.0, 109.0, 86.0, 75.0, 79.0, 131.0, 89.0, 89.0, 65.0, 199.0, 91.0, 163.0, 110.0, 499.0, 130.0, 59.0, 99.0, 120.0, 105.0, 96.0, 249.0, 595.0, 195.0, 499.0, 99.0, 87.0, 48.0, 79.0, 101.0, 40.0, 105.0, 170.0, 108.0, 85.0, 175.0, 168.0, 135.0, 285.0, 105.0, 151.0, 118.0, 60.0, 50.0, 89.0, 49.0, 120.0, 30.0, 300.0, 149.0, 150.0, 186.0, 180.0, 77.0, 357.0, 214.0, 97.0, 65.0, 65.0, 220.0, 99.0, 45.0, 89.0, 79.0, 300.0, 195.0, 55.0, 70.0, 80.0, 105.0, 75.0, 99.0, 77.0, 80.0, 129.0, 45.0, 168.0, 134.0, 54.0, 244.0, 325.0, 122.0, 232.0, 240.0, 120.0, 49.0, 141.0, 119.0, 100.0, 38.0, 100.0, 100.0, 166.0, 68.0, 360.0, 135.0, 99.0, 60.0, 142.0, 1413.0, 95.0, 128.0, 75.0, 175.0, 75.0, 55.0, 50.0, 350.0, 78.0, 49.0, 83.0, 128.0, 64.0, 99.0, 79.0, 82.0, 79.0, 70.0, 60.0, 70.0, 88.0, 130.0, 89.0, 299.0, 385.0, 125.0, 143.0, 80.0, 91.0, 299.0, 65.0, 90.0, 75.0, 135.0, 399.0, 50.0, 199.0, 50.0, 95.0, 88.0, 55.0, 35.0, 123.0, 165.0, 77.0, 49.0, 57.0, 55.0, 59.0, 119.0, 750.0, 184.0, 257.0, 171.0, 109.0, 65.0, 64.0, 51.0, 74.0, 190.0, 38.0, 52.0, 85.0, 235.0, 59.0, 68.0, 200.0, 108.0, 122.0, 100.0, 250.0, 70.0, 30.0, 61.0, 261.0, 200.0, 104.0, 255.0, 50.0, 90.0, 95.0, 110.0, 125.0, 120.0, 135.0, 159.0, 169.0, 130.0, 89.0, 300.0, 290.0, 100.0, 90.0, 75.0, 150.0, 39.0, 129.0, 225.0, 290.0, 129.0, 99.0, 118.0, 99.0, 87.0, 149.0, 371.0, 80.0, 183.0, 290.0, 155.0, 89.0, 65.0, 169.0, 140.0, 169.0, 141.0, 79.0, 388.0, 62.0, 228.0, 185.0, 45.0, 89.0, 349.0, 30.0, 40.0, 58.0, 35.0, 30.0, 35.0, 30.0, 35.0, 40.0, 40.0, 40.0, 40.0, 40.0, 83.0, 156.0, 70.0, 50.0, 170.0, 105.0, 175.0, 139.0, 48.0, 95.0, 55.0, 200.0, 59.0, 54.0, 187.0, 105.0, 160.0, 90.0, 182.0, 59.0, 95.0, 119.0, 75.0, 269.0, 62.0, 99.0, 62.0, 160.0, 69.0, 105.0, 181.0, 77.0, 99.0, 104.0, 65.0, 75.0, 119.0, 49.0, 85.0, 275.0, 74.0, 100.0, 172.0, 98.0, 85.0, 65.0, 119.0, 66.0, 75.0, 84.0, 71.0, 249.0, 55.0, 382.0, 120.0, 170.0, 119.0, 63.0, 74.0, 69.0, 51.0, 43.0, 98.0, 95.0, 135.0, 115.0, 150.0, 90.0, 88.0, 192.0, 118.0, 39.0, 304.0, 190.0, 125.0, 74.0, 85.0, 172.0, 220.0, 80.0, 129.0, 129.0, 110.0, 130.0, 109.0, 71.0, 63.0, 129.0, 100.0, 220.0, 164.0, 104.0, 88.0, 128.0, 42.0, 102.0, 99.0, 40.0, 110.0, 90.0, 561.0, 140.0, 400.0, 235.0, 56.0, 80.0, 60.0, 245.0, 75.0, 495.0, 163.0, 439.0, 149.0, 99.0, 850.0, 30.0, 319.0, 98.0, 60.0, 249.0, 50.0, 156.0, 60.0, 100.0, 76.0, 99.0, 45.0, 119.0, 82.0, 250.0, 125.0, 128.0, 175.0, 300.0, 119.0, 1286.0, 130.0, 56.0, 333.0, 75.0, 115.0, 71.0, 185.0, 99.0, 100.0, 549.0, 65.0, 72.0, 100.0, 425.0, 189.0, 69.0, 141.0, 289.0, 120.0, 140.0, 90.0, 125.0, 105.0, 375.0, 286.0, 40.0, 265.0, 161.0, 250.0, 113.0, 57.0, 65.0, 58.0, 58.0, 95.0, 60.0, 217.0, 60.0, 118.0, 95.0, 70.0, 252.0, 145.0, 150.0, 268.0, 299.0, 65.0, 72.0, 143.0, 63.0, 140.0, 160.0, 79.0, 120.0, 70.0, 211.0, 69.0, 91.0, 45.0, 45.0, 268.0, 299.0, 49.0, 88.0, 349.0, 88.0, 90.0, 64.0, 99.0, 65.0, 107.0, 150.0, 550.0, 91.0, 90.0, 135.0, 170.0, 99.0, 89.0, 129.0, 63.0, 150.0, 159.0, 169.0, 78.0, 85.0, 79.0, 113.0, 79.0, 110.0, 95.0, 179.0, 50.0, 70.0, 229.0, 180.0, 225.0, 90.0, 95.0, 55.0, 135.0, 84.0, 238.0, 80.0, 215.0, 575.0, 68.0, 55.0, 525.0, 175.0, 77.0, 1500.0, 53.0, 166.0, 225.0, 61.0, 153.0, 130.0, 154.0, 172.0, 55.0, 150.0, 172.0, 248.0, 60.0, 212.0, 339.0, 339.0, 300.0, 274.0, 175.0, 196.0, 389.0, 54.0, 495.0, 99.0, 45.0, 289.0, 77.0, 75.0, 48.0, 130.0, 190.0, 95.0, 150.0, 182.0, 44.0, 50.0, 48.0, 44.0, 181.0, 245.0, 110.0, 8500.0, 53.0, 75.0, 67.0, 845.0, 134.0, 152.0, 58.0, 70.0, 50.0, 115.0, 100.0, 198.0, 168.0, 179.0, 85.0, 175.0, 345.0, 87.0, 50.0, 202.0, 175.0, 79.0, 205.0, 65.0, 200.0, 96.0, 70.0, 64.0, 73.0, 510.0, 45.0, 72.0, 50.0, 89.0, 36.0, 69.0, 109.0, 120.0, 154.0, 46.0, 89.0, 79.0, 101.0, 77.0, 65.0, 101.0, 85.0, 155.0, 350.0, 74.0, 350.0, 152.0, 152.0, 169.0, 99.0, 68.0, 113.0, 365.0, 38.0, 65.0, 480.0, 108.0, 131.0, 111.0, 45.0, 107.0, 100.0, 550.0, 186.0, 100.0, 125.0, 30.0, 132.0, 60.0, 125.0, 300.0, 700.0, 55.0, 40.0, 335.0, 90.0, 138.0, 84.0, 47.0, 178.0, 100.0, 94.0, 65.0, 99.0, 57.0, 79.0, 269.0, 429.0, 250.0, 115.0, 99.0, 154.0, 160.0, 175.0, 180.0, 124.0, 45.0, 290.0, 80.0, 220.0, 800.0, 220.0, 249.0, 67.0, 48.0, 125.0, 59.0, 100.0, 226.0, 390.0, 84.0, 78.0, 38.0, 30.0, 45.0, 482.0, 129.0, 72.0, 48.0, 150.0, 155.0, 45.0, 53.0, 90.0, 48.0, 55.0, 46.0, 122.0, 61.0, 53.0, 269.0, 299.0, 220.0, 175.0, 54.0, 69.0, 502.0, 45.0, 120.0, 85.0, 156.0, 50.0, 130.0, 150.0, 100.0, 100.0, 189.0, 135.0, 100.0, 42.0, 45.0, 65.0, 300.0, 55.0, 59.0, 59.0, 59.0, 70.0, 75.0, 71.0, 190.0, 154.0, 62.0, 599.0, 125.0, 599.0, 45.0, 350.0, 150.0, 495.0, 68.0, 105.0, 211.0, 230.0, 50.0, 60.0, 255.0, 73.0, 40.0, 129.0, 55.0, 300.0, 731.0, 130.0, 275.0, 45.0, 69.0, 120.0, 58.0, 145.0, 70.0, 136.0, 65.0, 76.0, 120.0, 108.0, 650.0, 220.0, 193.0, 68.0, 74.0, 90.0, 700.0, 60.0, 123.0, 141.0, 269.0, 135.0, 158.0, 193.0, 63.0, 342.0, 139.0, 300.0, 149.0, 85.0, 490.0, 119.0, 279.0, 125.0, 650.0, 65.0, 81.0, 56.0, 99.0, 89.0, 249.0, 379.0, 125.0, 199.0, 75.0, 219.0, 350.0, 80.0, 214.0, 40.0, 43.0, 99.0, 136.0, 145.0, 180.0, 155.0, 120.0, 43.0, 165.0, 199.0, 475.0, 49.0, 51.0, 132.0, 120.0, 84.0, 93.0, 225.0, 1782.0, 59.0, 85.0, 339.0, 849.0, 212.0, 339.0, 212.0, 200.0, 339.0, 339.0, 145.0, 68.0, 55.0, 55.0, 61.0, 61.0, 52.0, 52.0, 42.0, 49.0, 42.0, 125.0, 113.0, 112.0, 239.0, 50.0, 149.0, 393.0, 43.0, 58.0, 185.0, 168.0, 89.0, 75.0, 41.0, 49.0, 119.0, 145.0, 30.0, 200.0, 236.0, 334.0, 45.0, 95.0, 80.0, 95.0, 40.0, 133.0, 41.0, 35.0, 140.0, 39.0, 139.0, 138.0, 139.0, 50.0, 40.0, 40.0, 36.0, 55.0, 175.0, 60.0, 76.0, 65.0, 60.0, 65.0, 107.0, 179.0, 135.0, 37.0, 127.0, 55.0, 79.0, 200.0, 59.0, 45.0, 124.0, 168.0, 180.0, 63.0, 140.0, 99.0, 40.0, 160.0, 120.0, 160.0, 152.0, 150.0, 110.0, 259.0, 188.0, 59.0, 357.0, 299.0, 120.0, 167.0, 56.0, 32.0, 170.0, 256.0, 300.0, 210.0, 59.0, 90.0, 47.0, 112.0, 139.0, 500.0, 90.0, 250.0, 125.0, 289.0, 195.0, 99.0, 81.0, 45.0, 59.0, 248.0, 249.0, 62.0, 56.0, 59.0, 96.0, 399.0, 45.0, 45.0, 168.0, 209.0, 120.0, 62.0, 60.0, 60.0, 774.0, 78.0, 53.0, 212.0, 208.0, 40.0, 92.0, 121.0, 125.0, 49.0, 215.0, 42.0, 167.0, 95.0, 78.0, 119.0, 96.0, 124.0, 245.0, 107.0, 59.0, 139.0, 89.0, 123.0, 135.0, 45.0, 290.0, 50.0, 97.0, 78.0, 149.0, 69.0, 69.0, 119.0, 179.0, 85.0, 225.0, 99.0, 60.0, 135.0, 99.0, 136.0, 80.0, 82.0, 89.0, 100.0, 198.0, 90.0, 129.0, 193.0, 140.0, 154.0, 45.0, 72.0, 249.0, 498.0, 43.0, 105.0, 58.0, 193.0, 80.0, 119.0, 200.0, 49.0, 369.0, 70.0, 55.0, 175.0, 109.0, 45.0, 115.0, 65.0, 75.0, 51.0, 151.0, 176.0, 128.0, 53.0, 125.0, 135.0, 89.0, 100.0, 98.0, 150.0, 50.0, 31.0, 53.0, 58.0, 149.0, 150.0, 155.0, 245.0, 120.0, 80.0, 42.0, 81.0, 229.0, 66.0, 64.0, 45.0, 230.0, 83.0, 105.0, 89.0, 150.0, 134.0, 109.0, 287.0, 75.0, 102.0, 137.0, 185.0, 89.0, 89.0, 151.0, 365.0, 187.0, 60.0, 55.0, 49.0, 139.0, 68.0, 80.0, 49.0, 158.0, 219.0, 450.0, 209.0, 150.0, 40.0, 209.0, 184.0, 5000.0, 250.0, 140.0, 165.0, 154.0, 350.0, 80.0, 85.0, 55.0, 51.0, 40.0, 210.0, 69.0, 150.0, 122.0, 118.0, 66.0, 100.0, 123.0, 85.0, 171.0, 388.0, 49.0, 84.0, 130.0, 130.0, 79.0, 72.0, 69.0, 145.0, 288.0, 119.0, 339.0, 149.0, 164.0, 83.0, 95.0, 95.0, 413.0, 130.0, 77.0, 192.0, 98.0, 131.0, 108.0, 250.0, 123.0, 105.0, 102.0, 115.0, 57.0, 50.0, 96.0, 171.0, 164.0, 69.0, 239.0, 122.0, 300.0, 111.0, 111.0, 69.0, 37.0, 50.0, 109.0, 305.0, 120.0, 399.0, 102.0, 199.0, 105.0, 100.0, 55.0, 85.0, 279.0, 86.0, 118.0, 159.0, 189.0, 66.0, 379.0, 259.0, 149.0, 60.0, 78.0, 129.0, 395.0, 118.0, 139.0, 305.0, 293.0, 170.0, 221.0, 65.0, 58.0, 157.0, 275.0, 230.0, 80.0, 90.0, 96.0, 49.0, 100.0, 88.0, 70.0, 75.0, 79.0, 179.0, 80.0, 259.0, 300.0, 139.0, 48.0, 139.0, 89.0, 204.0, 60.0, 158.0, 85.0, 550.0, 145.0, 81.0, 100.0, 90.0, 69.0, 279.0, 100.0, 281.0, 359.0, 129.0, 162.0, 45.0, 57.0, 60.0, 57.0, 85.0, 320.0, 65.0, 47.0, 197.0, 175.0, 160.0, 149.0, 168.0, 118.0, 210.0, 148.0, 60.0, 103.0, 129.0, 134.0, 137.0, 279.0, 159.0, 179.0, 175.0, 55.0, 92.0, 921.0, 187.0, 64.0, 51.0, 126.0, 90.0, 174.0, 249.0, 119.0, 172.0, 488.0, 199.0, 179.0, 188.0, 160.0, 40.0, 297.0, 150.0, 168.0, 93.0, 80.0, 49.0, 60.0, 80.0, 89.0, 69.0, 100.0, 295.0, 174.0, 174.0, 99.0, 96.0, 186.0, 171.0, 226.0, 99.0, 629.0, 180.0, 121.0, 149.0, 100.0, 90.0, 48.0, 49.0, 53.0, 194.0, 55.0, 299.0, 70.0, 182.0, 278.0, 270.0, 65.0, 261.0, 142.0, 242.0, 78.0, 49.0, 300.0, 191.0, 169.0, 100.0, 62.0, 48.0, 279.0, 300.0, 275.0, 69.0, 107.0, 125.0, 98.0, 140.0, 60.0, 418.0, 110.0, 91.0, 40.0, 80.0, 188.0, 193.0, 225.0, 225.0, 62.0, 200.0, 270.0, 58.0, 160.0, 274.0, 162.0, 168.0, 36.0, 36.0, 62.0, 75.0, 150.0, 168.0, 108.0, 245.0, 149.0, 60.0, 376.0, 289.0, 160.0, 153.0, 168.0, 71.0, 55.0, 112.0, 220.0, 49.0, 60.0, 50.0, 141.0, 35.0, 35.0, 35.0, 80.0, 118.0, 59.0, 56.0, 65.0, 103.0, 110.0, 35.0, 189.0, 125.0, 113.0, 35.0, 119.0, 75.0, 127.0, 120.0, 51.0, 35.0, 114.0, 129.0, 149.0, 110.0, 268.0, 268.0, 202.0, 218.0, 90.0, 74.0, 88.0, 42.0, 49.0, 135.0, 60.0, 113.0, 105.0, 120.0, 221.0, 85.0, 112.0, 40.0, 35.0, 103.0, 140.0, 150.0, 164.0, 113.0, 149.0, 62.0, 60.0, 240.0, 94.0, 59.0, 52.0, 249.0, 138.0, 134.0, 129.0, 169.0, 69.0, 89.0, 65.0, 35.0, 93.0, 65.0, 59.0, 1147.0, 145.0, 46.0, 161.0, 777.0, 110.0, 163.0, 179.0, 186.0, 63.0, 70.0, 119.0, 40.0, 145.0, 35.0, 150.0, 432.0, 127.0, 370.0, 65.0, 93.0, 59.0, 129.0, 91.0, 65.0, 300.0, 80.0, 80.0, 95.0, 89.0, 154.0, 116.0, 204.0, 216.0, 124.0, 91.0, 75.0, 217.0, 99.0, 100.0, 55.0, 185.0, 60.0, 229.0, 338.0, 118.0, 136.0, 99.0, 163.0, 81.0, 117.0, 149.0, 1069.0, 289.0, 618.0, 235.0, 124.0, 174.0, 130.0, 139.0, 49.0, 202.0, 94.0, 67.0, 79.0, 126.0, 135.0, 135.0, 501.0, 150.0, 682.0, 50.0, 150.0, 84.0, 158.0, 64.0, 176.0, 97.0, 204.0, 100.0, 135.0, 193.0, 55.0, 47.0, 45.0, 80.0, 196.0, 174.0, 202.0, 167.0, 95.0, 62.0, 63.0, 215.0, 49.0, 85.0, 90.0, 899.0, 48.0, 60.0, 119.0, 225.0, 269.0, 134.0, 85.0, 87.0, 115.0, 75.0, 70.0, 130.0, 130.0, 70.0, 85.0, 154.0, 121.0, 132.0, 111.0, 70.0, 60.0, 80.0, 118.0, 75.0, 800.0, 60.0, 212.0, 141.0, 135.0, 99.0, 188.0, 66.0, 750.0, 58.0, 149.0, 172.0, 80.0, 130.0, 225.0, 250.0, 84.0, 66.0, 85.0, 192.0, 309.0, 99.0, 75.0, 45.0, 143.0, 182.0, 150.0, 128.0, 77.0, 182.0, 189.0, 80.0, 179.0, 229.0, 239.0, 123.0, 600.0, 256.0, 48.0, 49.0, 201.0, 80.0, 280.0, 40.0, 175.0, 199.0, 49.0, 49.0, 97.0, 75.0, 65.0, 119.0, 72.0, 139.0, 125.0, 259.0, 40.0, 119.0, 67.0, 67.0, 62.0, 62.0, 55.0, 55.0, 114.0, 88.0, 80.0, 100.0, 72.0, 93.0, 135.0, 70.0, 179.0, 133.0, 125.0, 747.0, 131.0, 112.0, 119.0, 42.0, 36.0, 139.0, 50.0, 340.0, 50.0, 40.0, 42.0, 309.0, 40.0, 80.0, 103.0, 120.0, 80.0, 136.0, 150.0, 115.0, 549.0, 55.0, 100.0, 101.0, 49.0, 54.0, 115.0, 59.0, 144.0, 399.0, 222.0, 75.0, 150.0, 159.0, 364.0, 164.0, 33.0, 33.0, 555.0, 35.0, 579.0, 41.0, 650.0, 221.0, 58.0, 196.0, 199.0, 150.0, 192.0, 38.0, 80.0, 147.0, 179.0, 120.0, 146.0, 719.0, 129.0, 28.0, 165.0, 191.0, 52.0, 181.0, 176.0, 170.0, 75.0, 70.0, 58.0, 43.0, 128.0, 535.0, 69.0, 159.0, 100.0, 155.0, 135.0, 70.0, 695.0, 50.0, 159.0, 225.0, 70.0, 135.0, 127.0, 40.0, 108.0, 141.0, 149.0, 69.0, 99.0, 165.0, 219.0, 30.0, 75.0, 99.0, 485.0, 102.0, 225.0, 185.0, 135.0, 59.0, 111.0, 90.0, 500.0, 145.0, 1397.0, 35.0, 44.0, 57.0, 90.0, 200.0, 126.0, 49.0, 69.0, 130.0, 47.0, 85.0, 66.0, 275.0, 71.0, 334.0, 99.0, 80.0, 118.0, 158.0, 50.0, 115.0, 105.0, 200.0, 154.0, 55.0, 97.0, 229.0, 34.0, 200.0, 118.0, 95.0, 193.0, 182.0, 200.0, 346.0, 349.0, 170.0, 220.0, 220.0, 34.0, 350.0, 58.0, 43.0, 55.0, 45.0, 47.0, 156.0, 123.0, 100.0, 117.0, 48.0, 85.0, 742.0, 132.0, 156.0, 120.0, 89.0, 109.0, 163.0, 84.0, 59.0, 49.0, 51.0, 275.0, 112.0, 55.0, 139.0, 250.0, 48.0, 84.0, 50.0, 100.0, 120.0, 63.0, 132.0, 189.0, 950.0, 175.0, 45.0, 225.0, 70.0, 180.0, 140.0, 168.0, 137.0, 175.0, 163.0, 78.0, 96.0, 124.0, 175.0, 129.0, 187.0, 249.0, 56.0, 95.0, 65.0, 164.0, 100.0, 55.0, 55.0, 55.0, 99.0, 110.0, 101.0, 671.0, 45.0, 85.0, 75.0, 175.0, 225.0, 190.0, 95.0, 338.0, 170.0, 53.0, 111.0, 89.0, 250.0, 150.0, 175.0, 56.0, 56.0, 120.0, 78.0, 90.0, 96.0, 238.0, 64.0, 79.0, 90.0, 99.0, 90.0, 189.0, 48.0, 200.0, 103.0, 534.0, 154.0, 80.0, 50.0, 248.0, 53.0, 299.0, 115.0, 42.0, 118.0, 549.0, 289.0, 68.0, 58.0, 58.0, 55.0, 55.0, 120.0, 296.0, 100.0, 79.0, 44.0, 49.0, 161.0, 80.0, 195.0, 50.0, 132.0, 110.0, 71.0, 79.0, 531.0, 49.0, 166.0, 120.0, 49.0, 46.0, 40.0, 45.0, 550.0, 43.0, 209.0, 166.0, 56.0, 42.0, 40.0, 39.0, 243.0, 80.0, 139.0, 170.0, 75.0, 108.0, 128.0, 94.0, 110.0, 109.0, 195.0, 45.0, 108.0, 94.0, 45.0, 45.0, 55.0, 85.0, 31.0, 70.0, 80.0, 99.0, 52.0, 65.0, 210.0, 152.0, 650.0, 119.0, 249.0, 42.0, 125.0, 86.0, 28.0, 42.0, 99.0, 91.0, 249.0, 200.0, 300.0, 164.0, 198.0, 60.0, 50.0, 152.0, 127.0, 142.0, 124.0, 139.0, 79.0, 189.0, 175.0, 37.0, 55.0, 41.0, 46.0, 105.0, 95.0, 195.0, 45.0, 196.0, 69.0, 99.0, 125.0, 143.0, 155.0, 88.0, 75.0, 101.0, 69.0, 226.0, 150.0, 34.0, 36.0, 43.0, 35.0, 52.0, 75.0, 79.0, 72.0, 40.0, 170.0, 68.0, 198.0, 343.0, 150.0, 85.0, 160.0, 125.0, 75.0, 373.0, 137.0, 75.0, 80.0, 75.0, 125.0, 200.0, 225.0, 219.0, 104.0, 113.0, 154.0, 132.0, 38.0, 146.0, 400.0, 55.0, 129.0, 171.0, 168.0, 164.0, 65.0, 2222.0, 165.0, 90.0, 79.0, 105.0, 49.0, 50.0, 56.0, 180.0, 165.0, 55.0, 139.0, 53.0, 53.0, 65.0, 250.0, 89.0, 89.0, 250.0, 146.0, 154.0, 95.0, 140.0, 456.0, 105.0, 179.0, 70.0, 228.0, 525.0, 99.0, 77.0, 400.0, 2222.0, 294.0, 45.0, 45.0, 165.0, 99.0, 283.0, 25.0, 69.0, 88.0, 1600.0, 251.0, 113.0, 70.0, 189.0, 29.0, 211.0, 407.0, 89.0, 124.0, 89.0, 99.0, 45.0, 55.0, 35.0, 229.0, 65.0, 366.0, 98.0, 128.0, 55.0, 249.0, 125.0, 216.0, 100.0, 189.0, 45.0, 60.0, 199.0, 68.0, 246.0, 125.0, 96.0, 85.0, 45.0, 45.0, 55.0, 67.0, 48.0, 110.0, 31.0, 3000.0, 61.0, 90.0, 217.0, 33.0, 99.0, 90.0, 327.0, 219.0, 79.0, 56.0, 175.0, 500.0, 228.0, 100.0, 69.0, 58.0, 126.0, 56.0, 289.0, 173.0, 120.0, 93.0, 56.0, 115.0, 70.0, 172.0, 140.0, 80.0, 158.0, 174.0, 230.0, 179.0, 49.0, 179.0, 200.0, 171.0, 151.0, 45.0, 371.0, 695.0, 45.0, 214.0, 105.0, 193.0, 59.0, 178.0, 33.0, 220.0, 70.0, 195.0, 222.0, 225.0, 121.0, 59.0, 49.0, 118.0, 121.0, 115.0, 265.0, 45.0, 49.0, 21.0, 21.0, 19.0, 21.0, 23.0, 46.0, 50.0, 68.0, 68.0, 120.0, 65.0, 75.0, 99.0, 125.0, 191.0, 230.0, 150.0, 199.0, 101.0, 176.0, 143.0, 109.0, 59.0, 96.0, 56.0, 46.0, 100.0, 55.0, 220.0, 52.0, 150.0, 90.0, 50.0, 50.0, 45.0, 60.0, 130.0, 85.0, 139.0, 86.0, 173.0, 383.0, 38.0, 60.0, 137.0, 40.0, 237.0, 100.0, 55.0, 90.0, 70.0, 120.0, 142.0, 150.0, 55.0, 322.0, 189.0, 40.0, 46.0, 60.0, 60.0, 70.0, 192.0, 90.0, 150.0, 150.0, 50.0, 485.0, 120.0, 319.0, 39.0, 49.0, 39.0, 40.0, 50.0, 70.0, 38.0, 65.0, 169.0, 140.0, 188.0, 59.0, 80.0, 120.0, 82.0, 225.0, 193.0, 59.0, 95.0, 76.0, 103.0, 211.0, 55.0, 243.0, 58.0, 55.0, 179.0, 38.0, 57.0, 39.0, 95.0, 55.0, 55.0, 108.0, 50.0, 131.0, 133.0, 115.0, 381.0, 378.0, 70.0, 39.0, 149.0, 117.0, 104.0, 108.0, 102.0, 182.0, 50.0, 429.0, 79.0, 70.0, 39.0, 175.0, 175.0, 265.0, 99.0, 58.0, 45.0, 43.0, 300.0, 41.0, 65.0, 140.0, 80.0, 193.0, 65.0, 65.0, 65.0, 7000.0, 65.0, 230.0, 300.0, 100.0, 40.0, 38.0, 43.0, 47.0, 60.0, 38.0, 250.0, 91.0, 176.0, 122.0, 621.0, 39.0, 250.0, 201.0, 272.0, 199.0, 107.0, 75.0, 124.0, 59.0, 124.0, 33.0, 220.0, 81.0, 206.0, 36.0, 56.0, 56.0, 44.0, 56.0, 50.0, 42.0, 50.0, 215.0, 48.0, 268.0, 42.0, 211.0, 130.0, 40.0, 28.0, 279.0, 45.0, 165.0, 172.0, 172.0, 248.0, 305.0, 75.0, 62.0, 28.0, 60.0, 39.0, 32.0, 24.0, 28.0, 26.0, 30.0, 33.0, 36.0, 295.0, 31.0, 130.0, 119.0, 220.0, 189.0, 421.0, 212.0, 180.0, 200.0, 113.0, 225.0, 400.0, 270.0, 50.0, 283.0, 84.0, 105.0, 260.0, 490.0, 625.0, 510.0, 119.0, 172.0, 68.0, 78.0, 197.0, 60.0, 60.0, 58.0, 58.0, 55.0, 52.0, 1250.0, 231.0, 90.0, 193.0, 200.0, 450.0, 32.0, 145.0, 141.0, 299.0, 261.0, 84.0, 46.0, 119.0, 232.0, 121.0, 92.0, 84.0, 627.0, 70.0, 101.0, 119.0, 80.0, 150.0, 98.0, 149.0, 100.0, 112.0, 179.0, 480.0, 550.0, 149.0, 169.0, 24.0, 24.0, 25.0, 129.0, 1600.0, 119.0, 26.0, 145.0, 43.0, 25.0, 150.0, 89.0, 31.0, 30.0, 88.0, 118.0, 275.0, 235.0, 127.0, 67.0, 173.0, 70.0, 65.0, 142.0, 100.0, 49.0, 112.0, 136.0, 58.0, 528.0, 51.0, 60.0, 76.0, 143.0, 119.0, 149.0, 163.0, 60.0, 62.0, 54.0, 105.0, 41.0, 29.0, 58.0, 50.0, 175.0, 252.0, 160.0, 150.0, 110.0, 221.0, 95.0, 95.0, 45.0, 48.0, 198.0, 70.0, 65.0, 190.0, 277.0, 118.0, 130.0, 23.0, 43.0, 30.0, 25.0, 229.0, 156.0, 32.0, 341.0, 125.0, 65.0, 31.0, 95.0, 183.0, 125.0, 135.0, 130.0, 137.0, 175.0, 70.0, 150.0, 46.0, 195.0, 129.0, 438.0, 35.0, 400.0, 195.0, 76.0, 128.0, 129.0, 79.0, 56.0, 60.0, 213.0, 145.0, 109.0, 119.0, 232.0, 119.0, 239.0, 500.0, 38.0, 236.0, 69.0, 128.0, 110.0, 124.0, 173.0, 211.0, 33.0, 90.0, 65.0, 267.0, 152.0, 800.0, 79.0, 145.0, 223.0, 160.0, 130.0, 150.0, 284.0, 140.0, 145.0, 267.0, 145.0, 144.0, 100.0, 80.0, 100.0, 256.0, 196.0, 249.0, 45.0, 192.0, 227.0, 102.0, 95.0, 91.0, 40.0, 30.0, 189.0, 365.0, 49.0, 62.0, 324.0, 63.0, 80.0, 275.0, 333.0, 45.0, 49.0, 42.0, 170.0, 225.0, 95.0, 291.0, 72.0, 114.0, 75.0, 105.0, 121.0, 111.0, 59.0, 128.0, 179.0, 50.0, 110.0, 262.0, 279.0, 70.0, 149.0, 66.0, 120.0, 45.0, 150.0, 159.0, 68.0, 326.0, 130.0, 225.0, 248.0, 345.0, 128.0, 119.0, 95.0, 55.0, 251.0, 30.0, 128.0, 85.0, 35.0, 162.0, 175.0, 175.0, 423.0, 152.0, 200.0, 49.0, 115.0, 109.0, 135.0, 90.0, 170.0, 139.0, 207.0, 341.0, 323.0, 395.0, 313.0, 121.0, 145.0, 265.0, 201.0, 118.0, 305.0, 41.0, 44.0, 42.0, 204.0, 40.0, 136.0, 229.0, 248.0, 72.0, 155.0, 48.0, 120.0, 87.0, 400.0, 158.0, 65.0, 199.0, 144.0, 310.0, 449.0, 40.0, 100.0, 239.0, 145.0, 31.0, 191.0, 133.0, 163.0, 77.0, 105.0, 216.0, 247.0, 119.0, 163.0, 175.0, 28.0, 129.0, 295.0, 75.0, 222.0, 149.0, 25000.0, 275.0, 130.0, 216.0, 69.0, 75.0, 113.0, 74.0, 72.0, 25000.0, 260.0, 131.0, 59.0, 113.0, 169.0, 135.0, 145.0, 135.0, 75.0, 41.0, 171.0, 68.0, 180.0, 195.0, 42.0, 128.0, 389.0, 58.0, 76.0, 91.0, 393.0, 219.0, 105.0, 134.0, 190.0, 152.0, 399.0, 169.0, 125.0, 60.0, 119.0, 121.0, 49.0, 349.0, 67.0, 44.0, 271.0, 75.0, 119.0, 119.0, 157.0, 119.0, 119.0, 725.0, 99.0, 159.0, 40.0, 96.0, 78.0, 50.0, 69.0, 100.0, 119.0, 119.0, 93.0, 90.0, 244.0, 145.0, 135.0, 120.0, 46.0, 125.0, 123.0, 181.0, 111.0, 137.0, 123.0, 104.0, 215.0, 427.0, 485.0, 675.0, 99.0, 49.0, 250.0, 215.0, 130.0, 212.0, 220.0, 81.0, 149.0, 130.0, 185.0, 73.0, 115.0, 180.0, 160.0, 120.0, 118.0, 483.0, 34.0, 159.0, 95.0, 95.0, 200.0, 75.0, 304.0, 56.0, 173.0, 54.0, 63.0, 73.0, 66.0, 95.0, 250.0, 87.0, 227.0, 118.0, 158.0, 138.0, 90.0, 330.0, 158.0, 60.0, 159.0, 40.0, 141.0, 42.0, 64.0, 54.0, 199.0, 75.0, 130.0, 49.0, 400.0, 79.0, 133.0, 249.0, 253.0, 529.0, 219.0, 121.0, 321.0, 179.0, 594.0, 128.0, 182.0, 100.0, 237.0, 56.0, 99.0, 49.0, 49.0, 55.0, 249.0, 99.0, 284.0, 200.0, 195.0, 118.0, 160.0, 141.0, 70.0, 65.0, 124.0, 137.0, 129.0, 149.0, 65.0, 110.0, 75.0, 99.0, 145.0, 148.0, 150.0, 218.0, 118.0, 309.0, 814.0, 172.0, 91.0, 201.0, 113.0, 141.0, 115.0, 124.0, 221.0, 179.0, 92.0, 70.0, 105.0, 232.0, 119.0, 142.0, 2000.0, 36.0, 49.0, 100.0, 120.0, 163.0, 107.0, 196.0, 186.0, 110.0, 473.0, 203.0, 43.0, 93.0, 132.0, 135.0, 65.0, 42.0, 480.0, 250.0, 101.0, 90.0, 51.0, 2651.0, 64.0, 53.0, 116.0, 199.0, 162.0, 128.0, 269.0, 161.0, 157.0, 745.0, 141.0, 59.0, 150.0, 158.0, 99.0, 276.0, 481.0, 199.0, 75.0, 65.0, 120.0, 155.0, 50.0, 49.0, 178.0, 215.0, 80.0, 53.0, 180.0, 44.0, 127.0, 159.0, 140.0, 84.0, 139.0, 170.0, 500.0, 255.0, 225.0, 176.0, 35.0, 250.0, 40.0, 254.0, 125.0, 198.0, 93.0, 650.0, 112.0, 125.0, 71.0, 350.0, 250.0, 134.0, 124.0, 145.0, 42.0, 190.0, 112.0, 214.0, 239.0, 263.0, 32.0, 411.0, 30.0, 207.0, 296.0, 149.0, 131.0, 43.0, 46.0, 200.0, 119.0, 1000.0, 379.0, 189.0, 110.0, 187.0, 190.0, 425.0, 248.0, 161.0, 70.0, 176.0, 100.0, 120.0, 162.0, 123.0, 160.0, 190.0, 129.0, 132.0, 149.0, 98.0, 195.0, 230.0, 799.0, 119.0, 119.0, 119.0, 119.0, 119.0, 119.0, 228.0, 119.0, 119.0, 261.0, 75.0, 220.0, 69.0, 300.0, 49.0, 85.0, 95.0, 349.0, 349.0, 55.0, 198.0, 252.0, 159.0, 99.0, 65.0, 35.0, 190.0, 112.0, 26.0, 35.0, 35.0, 58.0, 35.0, 30.0, 146.0, 55.0, 59.0, 110.0, 45.0, 225.0, 26.0, 53.0, 100.0, 50.0, 60.0, 88.0, 31.0, 171.0, 125.0, 64.0, 75.0, 142.0, 97.0, 154.0, 153.0, 49.0, 45.0, 44.0, 50.0, 71.0, 101.0, 325.0, 35.0, 132.0, 55.0, 199.0, 132.0, 227.0, 71.0, 167.0, 69.0, 70.0, 203.0, 29.0, 119.0, 168.0, 2571.0, 69.0, 55.0, 257.0, 275.0, 155.0, 59.0, 108.0, 199.0, 111.0, 155.0, 51.0, 70.0, 48.0, 120.0, 165.0, 108.0, 280.0, 85.0, 90.0, 56.0, 160.0, 136.0, 198.0, 230.0, 163.0, 234.0, 109.0, 164.0, 157.0, 195.0, 50.0, 167.0, 46.0, 240.0, 49.0, 199.0, 255.0, 186.0, 136.0, 45.0, 45.0, 91.0, 61.0, 150.0, 140.0, 49.0, 46.0, 134.0, 44.0, 270.0, 95.0, 94.0, 188.0, 52.0, 85.0, 181.0, 99.0, 227.0, 259.0, 39.0, 130.0, 135.0, 189.0, 155.0, 199.0, 131.0, 147.0, 212.0, 79.0, 185.0, 95.0, 40.0, 40.0, 90.0, 97.0, 99.0, 110.0, 59.0, 138.0, 51.0, 175.0, 55.0, 65.0, 400.0, 113.0, 69.0, 200.0, 145.0, 262.0, 261.0, 199.0, 249.0, 69.0, 58.0, 65.0, 65.0, 198.0, 169.0, 105.0, 180.0, 35.0, 95.0, 111.0, 114.0, 49.0, 147.0, 254.0, 287.0, 104.0, 101.0, 135.0, 47.0, 249.0, 150.0, 135.0, 189.0, 55.0, 125.0, 83.0, 56.0, 685.0, 150.0, 45.0, 155.0, 220.0, 90.0, 36.0, 228.0, 104.0, 147.0, 119.0, 140.0, 57.0, 138.0, 90.0, 50.0, 151.0, 277.0, 25.0, 170.0, 141.0, 150.0, 100.0, 80.0, 143.0, 56.0, 44.0, 225.0, 45.0, 45.0, 162.0, 81.0, 27.0, 125.0, 28.0, 34.0, 56.0, 206.0, 72.0, 166.0, 399.0, 208.0, 193.0, 75.0, 125.0, 80.0, 104.0, 39.0, 39.0, 50.0, 120.0, 225.0, 182.0, 80.0, 37.0, 119.0, 23.0, 34.0, 33.0, 95.0, 206.0, 99.0, 299.0, 48.0, 23.0, 176.0, 194.0, 149.0, 279.0, 255.0, 84.0, 111.0, 132.0, 102.0, 150.0, 110.0, 2950.0, 65.0, 45.0, 45.0, 45.0, 78.0, 49.0, 142.0, 200.0, 199.0, 112.0, 170.0, 244.0, 204.0, 290.0, 257.0, 159.0, 45.0, 78.0, 85.0, 193.0, 105.0, 41.0, 84.0, 199.0, 399.0, 131.0, 190.0, 21.0, 60.0, 293.0, 1694.0, 59.0, 99.0, 45.0, 120.0, 287.0, 525.0, 95.0, 70.0, 271.0, 96.0, 93.0, 29.0, 29.0, 29.0, 35.0, 34.0, 293.0, 169.0, 129.0, 85.0, 193.0, 85.0, 129.0, 46.0, 220.0, 381.0, 167.0, 412.0, 190.0, 130.0, 190.0, 55.0, 254.0, 27.0, 41.0, 21.0, 66.0, 40.0, 148.0, 27.0, 39.0], \"y0\": \" \", \"yaxis\": \"y\"}],\n",
              "                        {\"boxmode\": \"group\", \"legend\": {\"tracegroupgap\": 0}, \"margin\": {\"t\": 60}, \"template\": {\"data\": {\"bar\": [{\"error_x\": {\"color\": \"#2a3f5f\"}, \"error_y\": {\"color\": \"#2a3f5f\"}, \"marker\": {\"line\": {\"color\": \"#E5ECF6\", \"width\": 0.5}}, \"type\": \"bar\"}], \"barpolar\": [{\"marker\": {\"line\": {\"color\": \"#E5ECF6\", \"width\": 0.5}}, \"type\": \"barpolar\"}], \"carpet\": [{\"aaxis\": {\"endlinecolor\": \"#2a3f5f\", \"gridcolor\": \"white\", \"linecolor\": \"white\", \"minorgridcolor\": \"white\", \"startlinecolor\": \"#2a3f5f\"}, \"baxis\": {\"endlinecolor\": \"#2a3f5f\", \"gridcolor\": \"white\", \"linecolor\": \"white\", \"minorgridcolor\": \"white\", \"startlinecolor\": \"#2a3f5f\"}, \"type\": \"carpet\"}], \"choropleth\": [{\"colorbar\": {\"outlinewidth\": 0, \"ticks\": \"\"}, \"type\": \"choropleth\"}], \"contour\": [{\"colorbar\": {\"outlinewidth\": 0, \"ticks\": \"\"}, \"colorscale\": [[0.0, \"#0d0887\"], [0.1111111111111111, \"#46039f\"], [0.2222222222222222, \"#7201a8\"], [0.3333333333333333, \"#9c179e\"], [0.4444444444444444, \"#bd3786\"], [0.5555555555555556, \"#d8576b\"], [0.6666666666666666, \"#ed7953\"], [0.7777777777777778, \"#fb9f3a\"], [0.8888888888888888, \"#fdca26\"], [1.0, \"#f0f921\"]], \"type\": \"contour\"}], \"contourcarpet\": [{\"colorbar\": {\"outlinewidth\": 0, \"ticks\": \"\"}, \"type\": \"contourcarpet\"}], \"heatmap\": [{\"colorbar\": {\"outlinewidth\": 0, \"ticks\": \"\"}, \"colorscale\": [[0.0, \"#0d0887\"], [0.1111111111111111, \"#46039f\"], [0.2222222222222222, \"#7201a8\"], [0.3333333333333333, \"#9c179e\"], [0.4444444444444444, \"#bd3786\"], [0.5555555555555556, \"#d8576b\"], [0.6666666666666666, \"#ed7953\"], [0.7777777777777778, \"#fb9f3a\"], [0.8888888888888888, \"#fdca26\"], [1.0, \"#f0f921\"]], \"type\": \"heatmap\"}], \"heatmapgl\": [{\"colorbar\": {\"outlinewidth\": 0, \"ticks\": \"\"}, \"colorscale\": [[0.0, \"#0d0887\"], [0.1111111111111111, \"#46039f\"], [0.2222222222222222, \"#7201a8\"], [0.3333333333333333, \"#9c179e\"], [0.4444444444444444, \"#bd3786\"], [0.5555555555555556, \"#d8576b\"], [0.6666666666666666, \"#ed7953\"], [0.7777777777777778, \"#fb9f3a\"], [0.8888888888888888, \"#fdca26\"], [1.0, \"#f0f921\"]], \"type\": \"heatmapgl\"}], \"histogram\": [{\"marker\": {\"colorbar\": {\"outlinewidth\": 0, \"ticks\": \"\"}}, \"type\": \"histogram\"}], \"histogram2d\": [{\"colorbar\": {\"outlinewidth\": 0, \"ticks\": \"\"}, \"colorscale\": [[0.0, \"#0d0887\"], [0.1111111111111111, \"#46039f\"], [0.2222222222222222, \"#7201a8\"], [0.3333333333333333, \"#9c179e\"], [0.4444444444444444, \"#bd3786\"], [0.5555555555555556, \"#d8576b\"], [0.6666666666666666, \"#ed7953\"], [0.7777777777777778, \"#fb9f3a\"], [0.8888888888888888, \"#fdca26\"], [1.0, \"#f0f921\"]], \"type\": \"histogram2d\"}], \"histogram2dcontour\": [{\"colorbar\": {\"outlinewidth\": 0, \"ticks\": \"\"}, \"colorscale\": [[0.0, \"#0d0887\"], [0.1111111111111111, \"#46039f\"], [0.2222222222222222, \"#7201a8\"], [0.3333333333333333, \"#9c179e\"], [0.4444444444444444, \"#bd3786\"], [0.5555555555555556, \"#d8576b\"], [0.6666666666666666, \"#ed7953\"], [0.7777777777777778, \"#fb9f3a\"], [0.8888888888888888, \"#fdca26\"], [1.0, \"#f0f921\"]], \"type\": \"histogram2dcontour\"}], \"mesh3d\": [{\"colorbar\": {\"outlinewidth\": 0, \"ticks\": \"\"}, \"type\": \"mesh3d\"}], \"parcoords\": [{\"line\": {\"colorbar\": {\"outlinewidth\": 0, \"ticks\": \"\"}}, \"type\": \"parcoords\"}], \"pie\": [{\"automargin\": true, \"type\": \"pie\"}], \"scatter\": [{\"marker\": {\"colorbar\": {\"outlinewidth\": 0, \"ticks\": \"\"}}, \"type\": \"scatter\"}], \"scatter3d\": [{\"line\": {\"colorbar\": {\"outlinewidth\": 0, \"ticks\": \"\"}}, \"marker\": {\"colorbar\": {\"outlinewidth\": 0, \"ticks\": \"\"}}, \"type\": \"scatter3d\"}], \"scattercarpet\": [{\"marker\": {\"colorbar\": {\"outlinewidth\": 0, \"ticks\": \"\"}}, \"type\": \"scattercarpet\"}], \"scattergeo\": [{\"marker\": {\"colorbar\": {\"outlinewidth\": 0, \"ticks\": \"\"}}, \"type\": \"scattergeo\"}], \"scattergl\": [{\"marker\": {\"colorbar\": {\"outlinewidth\": 0, \"ticks\": \"\"}}, \"type\": \"scattergl\"}], \"scattermapbox\": [{\"marker\": {\"colorbar\": {\"outlinewidth\": 0, \"ticks\": \"\"}}, \"type\": \"scattermapbox\"}], \"scatterpolar\": [{\"marker\": {\"colorbar\": {\"outlinewidth\": 0, \"ticks\": \"\"}}, \"type\": \"scatterpolar\"}], \"scatterpolargl\": [{\"marker\": {\"colorbar\": {\"outlinewidth\": 0, \"ticks\": \"\"}}, \"type\": \"scatterpolargl\"}], \"scatterternary\": [{\"marker\": {\"colorbar\": {\"outlinewidth\": 0, \"ticks\": \"\"}}, \"type\": \"scatterternary\"}], \"surface\": [{\"colorbar\": {\"outlinewidth\": 0, \"ticks\": \"\"}, \"colorscale\": [[0.0, \"#0d0887\"], [0.1111111111111111, \"#46039f\"], [0.2222222222222222, \"#7201a8\"], [0.3333333333333333, \"#9c179e\"], [0.4444444444444444, \"#bd3786\"], [0.5555555555555556, \"#d8576b\"], [0.6666666666666666, \"#ed7953\"], [0.7777777777777778, \"#fb9f3a\"], [0.8888888888888888, \"#fdca26\"], [1.0, \"#f0f921\"]], \"type\": \"surface\"}], \"table\": [{\"cells\": {\"fill\": {\"color\": \"#EBF0F8\"}, \"line\": {\"color\": \"white\"}}, \"header\": {\"fill\": {\"color\": \"#C8D4E3\"}, \"line\": {\"color\": \"white\"}}, \"type\": \"table\"}]}, \"layout\": {\"annotationdefaults\": {\"arrowcolor\": \"#2a3f5f\", \"arrowhead\": 0, \"arrowwidth\": 1}, \"coloraxis\": {\"colorbar\": {\"outlinewidth\": 0, \"ticks\": \"\"}}, \"colorscale\": {\"diverging\": [[0, \"#8e0152\"], [0.1, \"#c51b7d\"], [0.2, \"#de77ae\"], [0.3, \"#f1b6da\"], [0.4, \"#fde0ef\"], [0.5, \"#f7f7f7\"], [0.6, \"#e6f5d0\"], [0.7, \"#b8e186\"], [0.8, \"#7fbc41\"], [0.9, \"#4d9221\"], [1, \"#276419\"]], \"sequential\": [[0.0, \"#0d0887\"], [0.1111111111111111, \"#46039f\"], [0.2222222222222222, \"#7201a8\"], [0.3333333333333333, \"#9c179e\"], [0.4444444444444444, \"#bd3786\"], [0.5555555555555556, \"#d8576b\"], [0.6666666666666666, \"#ed7953\"], [0.7777777777777778, \"#fb9f3a\"], [0.8888888888888888, \"#fdca26\"], [1.0, \"#f0f921\"]], \"sequentialminus\": [[0.0, \"#0d0887\"], [0.1111111111111111, \"#46039f\"], [0.2222222222222222, \"#7201a8\"], [0.3333333333333333, \"#9c179e\"], [0.4444444444444444, \"#bd3786\"], [0.5555555555555556, \"#d8576b\"], [0.6666666666666666, \"#ed7953\"], [0.7777777777777778, \"#fb9f3a\"], [0.8888888888888888, \"#fdca26\"], [1.0, \"#f0f921\"]]}, \"colorway\": [\"#636efa\", \"#EF553B\", \"#00cc96\", \"#ab63fa\", \"#FFA15A\", \"#19d3f3\", \"#FF6692\", \"#B6E880\", \"#FF97FF\", \"#FECB52\"], \"font\": {\"color\": \"#2a3f5f\"}, \"geo\": {\"bgcolor\": \"white\", \"lakecolor\": \"white\", \"landcolor\": \"#E5ECF6\", \"showlakes\": true, \"showland\": true, \"subunitcolor\": \"white\"}, \"hoverlabel\": {\"align\": \"left\"}, \"hovermode\": \"closest\", \"mapbox\": {\"style\": \"light\"}, \"paper_bgcolor\": \"white\", \"plot_bgcolor\": \"#E5ECF6\", \"polar\": {\"angularaxis\": {\"gridcolor\": \"white\", \"linecolor\": \"white\", \"ticks\": \"\"}, \"bgcolor\": \"#E5ECF6\", \"radialaxis\": {\"gridcolor\": \"white\", \"linecolor\": \"white\", \"ticks\": \"\"}}, \"scene\": {\"xaxis\": {\"backgroundcolor\": \"#E5ECF6\", \"gridcolor\": \"white\", \"gridwidth\": 2, \"linecolor\": \"white\", \"showbackground\": true, \"ticks\": \"\", \"zerolinecolor\": \"white\"}, \"yaxis\": {\"backgroundcolor\": \"#E5ECF6\", \"gridcolor\": \"white\", \"gridwidth\": 2, \"linecolor\": \"white\", \"showbackground\": true, \"ticks\": \"\", \"zerolinecolor\": \"white\"}, \"zaxis\": {\"backgroundcolor\": \"#E5ECF6\", \"gridcolor\": \"white\", \"gridwidth\": 2, \"linecolor\": \"white\", \"showbackground\": true, \"ticks\": \"\", \"zerolinecolor\": \"white\"}}, \"shapedefaults\": {\"line\": {\"color\": \"#2a3f5f\"}}, \"ternary\": {\"aaxis\": {\"gridcolor\": \"white\", \"linecolor\": \"white\", \"ticks\": \"\"}, \"baxis\": {\"gridcolor\": \"white\", \"linecolor\": \"white\", \"ticks\": \"\"}, \"bgcolor\": \"#E5ECF6\", \"caxis\": {\"gridcolor\": \"white\", \"linecolor\": \"white\", \"ticks\": \"\"}}, \"title\": {\"x\": 0.05}, \"xaxis\": {\"automargin\": true, \"gridcolor\": \"white\", \"linecolor\": \"white\", \"ticks\": \"\", \"title\": {\"standoff\": 15}, \"zerolinecolor\": \"white\", \"zerolinewidth\": 2}, \"yaxis\": {\"automargin\": true, \"gridcolor\": \"white\", \"linecolor\": \"white\", \"ticks\": \"\", \"title\": {\"standoff\": 15}, \"zerolinecolor\": \"white\", \"zerolinewidth\": 2}}}, \"xaxis\": {\"anchor\": \"y\", \"domain\": [0.0, 1.0], \"title\": {\"text\": \"is_superhost_numeric\"}}, \"yaxis\": {\"anchor\": \"x\", \"domain\": [0.0, 1.0], \"title\": {\"text\": \"price\"}}},\n",
              "                        {\"responsive\": true}\n",
              "                    ).then(function(){\n",
              "                            \n",
              "var gd = document.getElementById('0873de36-4b91-4fe9-a9b4-427562885f60');\n",
              "var x = new MutationObserver(function (mutations, observer) {{\n",
              "        var display = window.getComputedStyle(gd).display;\n",
              "        if (!display || display === 'none') {{\n",
              "            console.log([gd, 'removed!']);\n",
              "            Plotly.purge(gd);\n",
              "            observer.disconnect();\n",
              "        }}\n",
              "}});\n",
              "\n",
              "// Listen for the removal of the full notebook cells\n",
              "var notebookContainer = gd.closest('#notebook-container');\n",
              "if (notebookContainer) {{\n",
              "    x.observe(notebookContainer, {childList: true});\n",
              "}}\n",
              "\n",
              "// Listen for the clearing of the current output cell\n",
              "var outputEl = gd.closest('.output');\n",
              "if (outputEl) {{\n",
              "    x.observe(outputEl, {childList: true});\n",
              "}}\n",
              "\n",
              "                        })\n",
              "                };\n",
              "                \n",
              "            </script>\n",
              "        </div>\n",
              "</body>\n",
              "</html>"
            ]
          },
          "metadata": {}
        }
      ],
      "source": [
        "# Analyze the distribution of average listing price by super host\n",
        "no_na_listings = listings.dropna(subset= ['is_superhost_numeric'])\n",
        "viz2 = px.strip(no_na_listings, y='price', x='is_superhost_numeric')\n",
        "viz2.show()\n"
      ]
    },
    {
      "cell_type": "markdown",
      "metadata": {
        "id": "Qa9jrPnUwKj7"
      },
      "source": [
        "**What is the distribution of room types in the dataset?**\n",
        "\n",
        "The most prolific room type is an entire home/apartment, and the least prolific appears to be the shared room.\n",
        "\n",
        "A similar trend can be observed for both graphs where both superhosts and non-superhosts have more number of listings that are entire homes and private rooms, as compared to shared rooms and hotel rooms (close to 0 for both superhosts and non-superhosts)."
      ]
    },
    {
      "cell_type": "code",
      "execution_count": null,
      "metadata": {
        "colab": {
          "base_uri": "https://localhost:8080/",
          "height": 360
        },
        "id": "b7N4mEytuYay",
        "outputId": "c67d02e0-047f-4e2b-8e11-78b804069b69"
      },
      "outputs": [
        {
          "output_type": "display_data",
          "data": {
            "image/png": "[encoded data removed]",
            "text/plain": [
              "<Figure size 720x360 with 1 Axes>"
            ]
          },
          "metadata": {
            "needs_background": "light"
          }
        }
      ],
      "source": [
        "superhost_df = listings[listings.host_is_superhost == 't']\n",
        "sns.countplot(data = superhost_df, x = 'room_type', palette=\"plasma\")\n",
        "viz4 = plt.gcf()\n",
        "viz4.set_size_inches(10, 5)\n",
        "\n",
        "plt.title('Total Number of Listings per Room Type for Superhosts',fontsize = 20)\n",
        "plt.xlabel('Room Type',fontsize = 15)\n",
        "plt.ylabel('Number of Listings',fontsize = 15)\n",
        "plt.tick_params(labelsize=10)\n",
        "plt.show();"
      ]
    },
    {
      "cell_type": "code",
      "execution_count": null,
      "metadata": {
        "colab": {
          "base_uri": "https://localhost:8080/",
          "height": 360
        },
        "id": "x4L4sxdbwg7K",
        "outputId": "8127cdb3-e39f-4d3a-b9db-32f7cfa2fee7"
      },
      "outputs": [
        {
          "output_type": "display_data",
          "data": {
            "image/png": "[encoded data removed]",
            "text/plain": [
              "<Figure size 720x360 with 1 Axes>"
            ]
          },
          "metadata": {
            "needs_background": "light"
          }
        }
      ],
      "source": [
        "not_superhost_df = listings[listings.host_is_superhost == 'f']\n",
        "sns.countplot(data = not_superhost_df, x = 'room_type', palette=\"plasma\")\n",
        "viz5 = plt.gcf()\n",
        "viz5.set_size_inches(10,5)\n",
        "\n",
        "plt.title('Total Number of Listings per Room Type for Non-Superhosts',fontsize = 20)\n",
        "plt.xlabel('Room Type',fontsize = 15)\n",
        "plt.ylabel('Number of Listings',fontsize = 15)\n",
        "plt.tick_params(labelsize=10)\n",
        "plt.show()"
      ]
    },
    {
      "cell_type": "markdown",
      "source": [
        "#### **Expensive neighborhoods**"
      ],
      "metadata": {
        "id": "9ddeb66e06Io"
      }
    },
    {
      "cell_type": "code",
      "execution_count": null,
      "metadata": {
        "colab": {
          "base_uri": "https://localhost:8080/",
          "height": 414
        },
        "id": "H9bclCWvY2Hv",
        "outputId": "ecabd7fb-3e87-4c45-963c-194b84c9662f"
      },
      "outputs": [
        {
          "output_type": "display_data",
          "data": {
            "image/png": "[encoded data removed]",
            "text/plain": [
              "<Figure size 864x432 with 1 Axes>"
            ]
          },
          "metadata": {
            "needs_background": "light"
          }
        }
      ],
      "source": [
        "plt.figure(figsize=(12,6))\n",
        "plt.title(\"Top 20 Expensive Neighborhoods\",fontsize = 20)\n",
        "sns.barplot(y=\"neighbourhood_cleansed\", x=\"price\",data= listings.groupby('neighbourhood_cleansed').agg({'price': 'mean'}).sort_values('price').reset_index().tail(20))\n",
        "plt.ioff()\n",
        "plt.xlabel('Price',fontsize=15)\n",
        "plt.ylabel(\"Neighbourhood\",fontsize=15)\n",
        "plt.tick_params(labelsize=10)\n",
        "data = listings.neighbourhood.value_counts()[:10]\n",
        "plt.show();"
      ]
    },
    {
      "cell_type": "code",
      "execution_count": null,
      "metadata": {
        "id": "sBDTziKE0Wjp"
      },
      "outputs": [],
      "source": [
        "# Remove values in availability columns equal to 0 such that it doesn't get displayed in visualizations\n",
        "hosts_availability = hosts[(hosts['availability_30'] != 0) & (hosts['availability_60'] != 0) & (hosts['availability_90'] != 0) & (hosts['availability_365'] != 0)]"
      ]
    },
    {
      "cell_type": "code",
      "execution_count": null,
      "metadata": {
        "colab": {
          "base_uri": "https://localhost:8080/",
          "height": 1056
        },
        "id": "WQ7qLXsD0eaR",
        "outputId": "6aa86ffc-c5af-458d-e17a-9cc6dca32690"
      },
      "outputs": [
        {
          "output_type": "execute_result",
          "data": {
            "text/plain": [
              "<seaborn.axisgrid.FacetGrid at 0x7f17bef5fa50>"
            ]
          },
          "metadata": {},
          "execution_count": 79
        },
        {
          "output_type": "display_data",
          "data": {
            "image/png": "[encoded data removed]",
            "text/plain": [
              "<Figure size 720x360 with 2 Axes>"
            ]
          },
          "metadata": {
            "needs_background": "light"
          }
        },
        {
          "output_type": "display_data",
          "data": {
            "image/png": "[encoded data removed]",
            "text/plain": [
              "<Figure size 720x360 with 2 Axes>"
            ]
          },
          "metadata": {
            "needs_background": "light"
          }
        },
        {
          "output_type": "display_data",
          "data": {
            "image/png": "[encoded data removed]",
            "text/plain": [
              "<Figure size 720x360 with 2 Axes>"
            ]
          },
          "metadata": {
            "needs_background": "light"
          }
        },
        {
          "output_type": "display_data",
          "data": {
            "image/png": "[encoded data removed]",
            "text/plain": [
              "<Figure size 720x360 with 2 Axes>"
            ]
          },
          "metadata": {
            "needs_background": "light"
          }
        }
      ],
      "source": [
        "sns.displot(hosts_availability, x=\"availability_30\", col=\"is_superhost_numeric\", multiple=\"dodge\")\n",
        "sns.displot(hosts_availability, x=\"availability_60\", col=\"is_superhost_numeric\", multiple=\"dodge\")\n",
        "sns.displot(hosts_availability, x=\"availability_90\", col=\"is_superhost_numeric\", multiple=\"dodge\")\n",
        "sns.displot(hosts_availability, x=\"availability_365\", col=\"is_superhost_numeric\", multiple=\"dodge\")"
      ]
    },
    {
      "cell_type": "markdown",
      "metadata": {
        "id": "lgm1K7-20r4C"
      },
      "source": [
        "\n",
        "The general trend observed across listings available across a span of 30, 60, 90 and 365 days is that more number of non-superhosts have their listings available for 30, 60, 90 and 360 days as compared to that of superhosts. We can also observe that superhosts generally don't keep their listings available for too long in the market."
      ]
    },
    {
      "cell_type": "markdown",
      "metadata": {
        "id": "--tpMT7s24Bg"
      },
      "source": [
        "### **Host Data Analysis**"
      ]
    },
    {
      "cell_type": "markdown",
      "metadata": {
        "id": "TiNel9c43PJH"
      },
      "source": [
        "**How do the number of hosts on Airbnb change from 2009 to 2020?**"
      ]
    },
    {
      "cell_type": "markdown",
      "metadata": {
        "id": "a-1G2pCA_kcU"
      },
      "source": [
        "One of the features in the data is a date indicating when a host joined Airbnb. Below I create a new dataframe that calculates the cumualative number of hosts on Airbnb. These values are graphed on the line chart below to show how the number of hosts changes over time. \n",
        "\n",
        "Every observation in our dataset has a recent date indicating when it was last scraped from the site. This means that all of the data in the graph below is from listings that were recently found to be active on Airbnb."
      ]
    },
    {
      "cell_type": "code",
      "execution_count": null,
      "metadata": {
        "id": "6EJzZaubNDEd"
      },
      "outputs": [],
      "source": [
        "is_super_df = hosts[hosts.is_superhost_numeric == 1.0]\n",
        "not_super_df = hosts[hosts.is_superhost_numeric == 0.0]"
      ]
    },
    {
      "cell_type": "code",
      "execution_count": null,
      "metadata": {
        "colab": {
          "base_uri": "https://localhost:8080/"
        },
        "id": "vIL0Io5GNDEd",
        "outputId": "ab8196ee-99e6-4b3f-fd5c-4db9744d9ab0"
      },
      "outputs": [
        {
          "output_type": "execute_result",
          "data": {
            "text/plain": [
              "901"
            ]
          },
          "metadata": {},
          "execution_count": 81
        }
      ],
      "source": [
        "len(is_super_df)"
      ]
    },
    {
      "cell_type": "code",
      "execution_count": null,
      "metadata": {
        "colab": {
          "base_uri": "https://localhost:8080/",
          "height": 206
        },
        "id": "gszihpWe3WIv",
        "outputId": "690e3c29-9f54-4d56-e2db-56b663a15274"
      },
      "outputs": [
        {
          "output_type": "execute_result",
          "data": {
            "text/html": [
              "<div>\n",
              "<style scoped>\n",
              "    .dataframe tbody tr th:only-of-type {\n",
              "        vertical-align: middle;\n",
              "    }\n",
              "\n",
              "    .dataframe tbody tr th {\n",
              "        vertical-align: top;\n",
              "    }\n",
              "\n",
              "    .dataframe thead th {\n",
              "        text-align: right;\n",
              "    }\n",
              "</style>\n",
              "<table border=\"1\" class=\"dataframe\">\n",
              "  <thead>\n",
              "    <tr style=\"text-align: right;\">\n",
              "      <th></th>\n",
              "      <th>host_since</th>\n",
              "      <th>host_since_count</th>\n",
              "      <th>host_count_cum</th>\n",
              "    </tr>\n",
              "  </thead>\n",
              "  <tbody>\n",
              "    <tr>\n",
              "      <th>0</th>\n",
              "      <td>2009-01-24</td>\n",
              "      <td>1</td>\n",
              "      <td>1</td>\n",
              "    </tr>\n",
              "    <tr>\n",
              "      <th>1</th>\n",
              "      <td>2009-05-28</td>\n",
              "      <td>1</td>\n",
              "      <td>2</td>\n",
              "    </tr>\n",
              "    <tr>\n",
              "      <th>2</th>\n",
              "      <td>2009-05-29</td>\n",
              "      <td>1</td>\n",
              "      <td>3</td>\n",
              "    </tr>\n",
              "    <tr>\n",
              "      <th>3</th>\n",
              "      <td>2009-09-18</td>\n",
              "      <td>1</td>\n",
              "      <td>4</td>\n",
              "    </tr>\n",
              "    <tr>\n",
              "      <th>4</th>\n",
              "      <td>2009-09-30</td>\n",
              "      <td>1</td>\n",
              "      <td>5</td>\n",
              "    </tr>\n",
              "  </tbody>\n",
              "</table>\n",
              "</div>"
            ],
            "text/plain": [
              "  host_since  host_since_count  host_count_cum\n",
              "0 2009-01-24                 1               1\n",
              "1 2009-05-28                 1               2\n",
              "2 2009-05-29                 1               3\n",
              "3 2009-09-18                 1               4\n",
              "4 2009-09-30                 1               5"
            ]
          },
          "metadata": {},
          "execution_count": 82
        }
      ],
      "source": [
        "# Create a dataframe with a column for the cumulative number of hosts over time\n",
        "num_host_by_date = hosts.groupby('host_since')[['host_id']].count().reset_index().rename(columns={'host_id': 'host_since_count'})\n",
        "num_host_by_date['host_count_cum'] = num_host_by_date['host_since_count'].cumsum()\n",
        "num_host_by_date.head()"
      ]
    },
    {
      "cell_type": "code",
      "execution_count": null,
      "metadata": {
        "colab": {
          "base_uri": "https://localhost:8080/",
          "height": 206
        },
        "id": "zFPknpQPNDEe",
        "outputId": "6d29853b-a789-4c5c-9dbd-905360d0e9d9"
      },
      "outputs": [
        {
          "output_type": "execute_result",
          "data": {
            "text/html": [
              "<div>\n",
              "<style scoped>\n",
              "    .dataframe tbody tr th:only-of-type {\n",
              "        vertical-align: middle;\n",
              "    }\n",
              "\n",
              "    .dataframe tbody tr th {\n",
              "        vertical-align: top;\n",
              "    }\n",
              "\n",
              "    .dataframe thead th {\n",
              "        text-align: right;\n",
              "    }\n",
              "</style>\n",
              "<table border=\"1\" class=\"dataframe\">\n",
              "  <thead>\n",
              "    <tr style=\"text-align: right;\">\n",
              "      <th></th>\n",
              "      <th>host_since</th>\n",
              "      <th>year_cum</th>\n",
              "    </tr>\n",
              "  </thead>\n",
              "  <tbody>\n",
              "    <tr>\n",
              "      <th>0</th>\n",
              "      <td>2009-12-31</td>\n",
              "      <td>6</td>\n",
              "    </tr>\n",
              "    <tr>\n",
              "      <th>1</th>\n",
              "      <td>2010-12-31</td>\n",
              "      <td>24</td>\n",
              "    </tr>\n",
              "    <tr>\n",
              "      <th>2</th>\n",
              "      <td>2011-12-31</td>\n",
              "      <td>87</td>\n",
              "    </tr>\n",
              "    <tr>\n",
              "      <th>3</th>\n",
              "      <td>2012-12-31</td>\n",
              "      <td>185</td>\n",
              "    </tr>\n",
              "    <tr>\n",
              "      <th>4</th>\n",
              "      <td>2013-12-31</td>\n",
              "      <td>342</td>\n",
              "    </tr>\n",
              "  </tbody>\n",
              "</table>\n",
              "</div>"
            ],
            "text/plain": [
              "  host_since  year_cum\n",
              "0 2009-12-31         6\n",
              "1 2010-12-31        24\n",
              "2 2011-12-31        87\n",
              "3 2012-12-31       185\n",
              "4 2013-12-31       342"
            ]
          },
          "metadata": {},
          "execution_count": 83
        }
      ],
      "source": [
        "# Create a dataframe with the number of hosts for each year\n",
        "resample_by_year = num_host_by_date.set_index('host_since').resample('Y').sum()\n",
        "resample_by_year['year_cum'] = resample_by_year['host_since_count'].cumsum()\n",
        "resample_by_year = resample_by_year[['year_cum']].reset_index()\n",
        "\n",
        "resample_by_year.head()"
      ]
    },
    {
      "cell_type": "code",
      "execution_count": null,
      "metadata": {
        "colab": {
          "base_uri": "https://localhost:8080/",
          "height": 542
        },
        "id": "_aw0B61FNDEf",
        "outputId": "fdf65ada-b6d9-4460-947b-56d328fa73ba"
      },
      "outputs": [
        {
          "output_type": "display_data",
          "data": {
            "text/html": [
              "<html>\n",
              "<head><meta charset=\"utf-8\" /></head>\n",
              "<body>\n",
              "    <div>\n",
              "            <script src=\"https://cdnjs.cloudflare.com/ajax/libs/mathjax/2.7.5/MathJax.js?config=TeX-AMS-MML_SVG\"></script><script type=\"text/javascript\">if (window.MathJax) {MathJax.Hub.Config({SVG: {font: \"STIX-Web\"}});}</script>\n",
              "                <script type=\"text/javascript\">window.PlotlyConfig = {MathJaxConfig: 'local'};</script>\n",
              "        <script src=\"https://cdn.plot.ly/plotly-latest.min.js\"></script>    \n",
              "            <div id=\"cfe0e752-619d-41e9-bf61-59f04ae0862a\" class=\"plotly-graph-div\" style=\"height:525px; width:100%;\"></div>\n",
              "            <script type=\"text/javascript\">\n",
              "                \n",
              "                    window.PLOTLYENV=window.PLOTLYENV || {};\n",
              "                    \n",
              "                if (document.getElementById(\"cfe0e752-619d-41e9-bf61-59f04ae0862a\")) {\n",
              "                    Plotly.newPlot(\n",
              "                        'cfe0e752-619d-41e9-bf61-59f04ae0862a',\n",
              "                        [{\"type\": \"scatter\", \"x\": [\"2009-12-31T00:00:00\", \"2010-12-31T00:00:00\", \"2011-12-31T00:00:00\", \"2012-12-31T00:00:00\", \"2013-12-31T00:00:00\", \"2014-12-31T00:00:00\", \"2015-12-31T00:00:00\", \"2016-12-31T00:00:00\", \"2017-12-31T00:00:00\", \"2018-12-31T00:00:00\", \"2019-12-31T00:00:00\", \"2020-12-31T00:00:00\", \"2021-12-31T00:00:00\"], \"y\": [6, 24, 87, 185, 342, 570, 919, 1190, 1391, 1575, 1739, 1817, 1891]}],\n",
              "                        {\"template\": {\"data\": {\"bar\": [{\"error_x\": {\"color\": \"#2a3f5f\"}, \"error_y\": {\"color\": \"#2a3f5f\"}, \"marker\": {\"line\": {\"color\": \"#E5ECF6\", \"width\": 0.5}}, \"type\": \"bar\"}], \"barpolar\": [{\"marker\": {\"line\": {\"color\": \"#E5ECF6\", \"width\": 0.5}}, \"type\": \"barpolar\"}], \"carpet\": [{\"aaxis\": {\"endlinecolor\": \"#2a3f5f\", \"gridcolor\": \"white\", \"linecolor\": \"white\", \"minorgridcolor\": \"white\", \"startlinecolor\": \"#2a3f5f\"}, \"baxis\": {\"endlinecolor\": \"#2a3f5f\", \"gridcolor\": \"white\", \"linecolor\": \"white\", \"minorgridcolor\": \"white\", \"startlinecolor\": \"#2a3f5f\"}, \"type\": \"carpet\"}], \"choropleth\": [{\"colorbar\": {\"outlinewidth\": 0, \"ticks\": \"\"}, \"type\": \"choropleth\"}], \"contour\": [{\"colorbar\": {\"outlinewidth\": 0, \"ticks\": \"\"}, \"colorscale\": [[0.0, \"#0d0887\"], [0.1111111111111111, \"#46039f\"], [0.2222222222222222, \"#7201a8\"], [0.3333333333333333, \"#9c179e\"], [0.4444444444444444, \"#bd3786\"], [0.5555555555555556, \"#d8576b\"], [0.6666666666666666, \"#ed7953\"], [0.7777777777777778, \"#fb9f3a\"], [0.8888888888888888, \"#fdca26\"], [1.0, \"#f0f921\"]], \"type\": \"contour\"}], \"contourcarpet\": [{\"colorbar\": {\"outlinewidth\": 0, \"ticks\": \"\"}, \"type\": \"contourcarpet\"}], \"heatmap\": [{\"colorbar\": {\"outlinewidth\": 0, \"ticks\": \"\"}, \"colorscale\": [[0.0, \"#0d0887\"], [0.1111111111111111, \"#46039f\"], [0.2222222222222222, \"#7201a8\"], [0.3333333333333333, \"#9c179e\"], [0.4444444444444444, \"#bd3786\"], [0.5555555555555556, \"#d8576b\"], [0.6666666666666666, \"#ed7953\"], [0.7777777777777778, \"#fb9f3a\"], [0.8888888888888888, \"#fdca26\"], [1.0, \"#f0f921\"]], \"type\": \"heatmap\"}], \"heatmapgl\": [{\"colorbar\": {\"outlinewidth\": 0, \"ticks\": \"\"}, \"colorscale\": [[0.0, \"#0d0887\"], [0.1111111111111111, \"#46039f\"], [0.2222222222222222, \"#7201a8\"], [0.3333333333333333, \"#9c179e\"], [0.4444444444444444, \"#bd3786\"], [0.5555555555555556, \"#d8576b\"], [0.6666666666666666, \"#ed7953\"], [0.7777777777777778, \"#fb9f3a\"], [0.8888888888888888, \"#fdca26\"], [1.0, \"#f0f921\"]], \"type\": \"heatmapgl\"}], \"histogram\": [{\"marker\": {\"colorbar\": {\"outlinewidth\": 0, \"ticks\": \"\"}}, \"type\": \"histogram\"}], \"histogram2d\": [{\"colorbar\": {\"outlinewidth\": 0, \"ticks\": \"\"}, \"colorscale\": [[0.0, \"#0d0887\"], [0.1111111111111111, \"#46039f\"], [0.2222222222222222, \"#7201a8\"], [0.3333333333333333, \"#9c179e\"], [0.4444444444444444, \"#bd3786\"], [0.5555555555555556, \"#d8576b\"], [0.6666666666666666, \"#ed7953\"], [0.7777777777777778, \"#fb9f3a\"], [0.8888888888888888, \"#fdca26\"], [1.0, \"#f0f921\"]], \"type\": \"histogram2d\"}], \"histogram2dcontour\": [{\"colorbar\": {\"outlinewidth\": 0, \"ticks\": \"\"}, \"colorscale\": [[0.0, \"#0d0887\"], [0.1111111111111111, \"#46039f\"], [0.2222222222222222, \"#7201a8\"], [0.3333333333333333, \"#9c179e\"], [0.4444444444444444, \"#bd3786\"], [0.5555555555555556, \"#d8576b\"], [0.6666666666666666, \"#ed7953\"], [0.7777777777777778, \"#fb9f3a\"], [0.8888888888888888, \"#fdca26\"], [1.0, \"#f0f921\"]], \"type\": \"histogram2dcontour\"}], \"mesh3d\": [{\"colorbar\": {\"outlinewidth\": 0, \"ticks\": \"\"}, \"type\": \"mesh3d\"}], \"parcoords\": [{\"line\": {\"colorbar\": {\"outlinewidth\": 0, \"ticks\": \"\"}}, \"type\": \"parcoords\"}], \"pie\": [{\"automargin\": true, \"type\": \"pie\"}], \"scatter\": [{\"marker\": {\"colorbar\": {\"outlinewidth\": 0, \"ticks\": \"\"}}, \"type\": \"scatter\"}], \"scatter3d\": [{\"line\": {\"colorbar\": {\"outlinewidth\": 0, \"ticks\": \"\"}}, \"marker\": {\"colorbar\": {\"outlinewidth\": 0, \"ticks\": \"\"}}, \"type\": \"scatter3d\"}], \"scattercarpet\": [{\"marker\": {\"colorbar\": {\"outlinewidth\": 0, \"ticks\": \"\"}}, \"type\": \"scattercarpet\"}], \"scattergeo\": [{\"marker\": {\"colorbar\": {\"outlinewidth\": 0, \"ticks\": \"\"}}, \"type\": \"scattergeo\"}], \"scattergl\": [{\"marker\": {\"colorbar\": {\"outlinewidth\": 0, \"ticks\": \"\"}}, \"type\": \"scattergl\"}], \"scattermapbox\": [{\"marker\": {\"colorbar\": {\"outlinewidth\": 0, \"ticks\": \"\"}}, \"type\": \"scattermapbox\"}], \"scatterpolar\": [{\"marker\": {\"colorbar\": {\"outlinewidth\": 0, \"ticks\": \"\"}}, \"type\": \"scatterpolar\"}], \"scatterpolargl\": [{\"marker\": {\"colorbar\": {\"outlinewidth\": 0, \"ticks\": \"\"}}, \"type\": \"scatterpolargl\"}], \"scatterternary\": [{\"marker\": {\"colorbar\": {\"outlinewidth\": 0, \"ticks\": \"\"}}, \"type\": \"scatterternary\"}], \"surface\": [{\"colorbar\": {\"outlinewidth\": 0, \"ticks\": \"\"}, \"colorscale\": [[0.0, \"#0d0887\"], [0.1111111111111111, \"#46039f\"], [0.2222222222222222, \"#7201a8\"], [0.3333333333333333, \"#9c179e\"], [0.4444444444444444, \"#bd3786\"], [0.5555555555555556, \"#d8576b\"], [0.6666666666666666, \"#ed7953\"], [0.7777777777777778, \"#fb9f3a\"], [0.8888888888888888, \"#fdca26\"], [1.0, \"#f0f921\"]], \"type\": \"surface\"}], \"table\": [{\"cells\": {\"fill\": {\"color\": \"#EBF0F8\"}, \"line\": {\"color\": \"white\"}}, \"header\": {\"fill\": {\"color\": \"#C8D4E3\"}, \"line\": {\"color\": \"white\"}}, \"type\": \"table\"}]}, \"layout\": {\"annotationdefaults\": {\"arrowcolor\": \"#2a3f5f\", \"arrowhead\": 0, \"arrowwidth\": 1}, \"coloraxis\": {\"colorbar\": {\"outlinewidth\": 0, \"ticks\": \"\"}}, \"colorscale\": {\"diverging\": [[0, \"#8e0152\"], [0.1, \"#c51b7d\"], [0.2, \"#de77ae\"], [0.3, \"#f1b6da\"], [0.4, \"#fde0ef\"], [0.5, \"#f7f7f7\"], [0.6, \"#e6f5d0\"], [0.7, \"#b8e186\"], [0.8, \"#7fbc41\"], [0.9, \"#4d9221\"], [1, \"#276419\"]], \"sequential\": [[0.0, \"#0d0887\"], [0.1111111111111111, \"#46039f\"], [0.2222222222222222, \"#7201a8\"], [0.3333333333333333, \"#9c179e\"], [0.4444444444444444, \"#bd3786\"], [0.5555555555555556, \"#d8576b\"], [0.6666666666666666, \"#ed7953\"], [0.7777777777777778, \"#fb9f3a\"], [0.8888888888888888, \"#fdca26\"], [1.0, \"#f0f921\"]], \"sequentialminus\": [[0.0, \"#0d0887\"], [0.1111111111111111, \"#46039f\"], [0.2222222222222222, \"#7201a8\"], [0.3333333333333333, \"#9c179e\"], [0.4444444444444444, \"#bd3786\"], [0.5555555555555556, \"#d8576b\"], [0.6666666666666666, \"#ed7953\"], [0.7777777777777778, \"#fb9f3a\"], [0.8888888888888888, \"#fdca26\"], [1.0, \"#f0f921\"]]}, \"colorway\": [\"#636efa\", \"#EF553B\", \"#00cc96\", \"#ab63fa\", \"#FFA15A\", \"#19d3f3\", \"#FF6692\", \"#B6E880\", \"#FF97FF\", \"#FECB52\"], \"font\": {\"color\": \"#2a3f5f\"}, \"geo\": {\"bgcolor\": \"white\", \"lakecolor\": \"white\", \"landcolor\": \"#E5ECF6\", \"showlakes\": true, \"showland\": true, \"subunitcolor\": \"white\"}, \"hoverlabel\": {\"align\": \"left\"}, \"hovermode\": \"closest\", \"mapbox\": {\"style\": \"light\"}, \"paper_bgcolor\": \"white\", \"plot_bgcolor\": \"#E5ECF6\", \"polar\": {\"angularaxis\": {\"gridcolor\": \"white\", \"linecolor\": \"white\", \"ticks\": \"\"}, \"bgcolor\": \"#E5ECF6\", \"radialaxis\": {\"gridcolor\": \"white\", \"linecolor\": \"white\", \"ticks\": \"\"}}, \"scene\": {\"xaxis\": {\"backgroundcolor\": \"#E5ECF6\", \"gridcolor\": \"white\", \"gridwidth\": 2, \"linecolor\": \"white\", \"showbackground\": true, \"ticks\": \"\", \"zerolinecolor\": \"white\"}, \"yaxis\": {\"backgroundcolor\": \"#E5ECF6\", \"gridcolor\": \"white\", \"gridwidth\": 2, \"linecolor\": \"white\", \"showbackground\": true, \"ticks\": \"\", \"zerolinecolor\": \"white\"}, \"zaxis\": {\"backgroundcolor\": \"#E5ECF6\", \"gridcolor\": \"white\", \"gridwidth\": 2, \"linecolor\": \"white\", \"showbackground\": true, \"ticks\": \"\", \"zerolinecolor\": \"white\"}}, \"shapedefaults\": {\"line\": {\"color\": \"#2a3f5f\"}}, \"ternary\": {\"aaxis\": {\"gridcolor\": \"white\", \"linecolor\": \"white\", \"ticks\": \"\"}, \"baxis\": {\"gridcolor\": \"white\", \"linecolor\": \"white\", \"ticks\": \"\"}, \"bgcolor\": \"#E5ECF6\", \"caxis\": {\"gridcolor\": \"white\", \"linecolor\": \"white\", \"ticks\": \"\"}}, \"title\": {\"x\": 0.05}, \"xaxis\": {\"automargin\": true, \"gridcolor\": \"white\", \"linecolor\": \"white\", \"ticks\": \"\", \"title\": {\"standoff\": 15}, \"zerolinecolor\": \"white\", \"zerolinewidth\": 2}, \"yaxis\": {\"automargin\": true, \"gridcolor\": \"white\", \"linecolor\": \"white\", \"ticks\": \"\", \"title\": {\"standoff\": 15}, \"zerolinecolor\": \"white\", \"zerolinewidth\": 2}}}, \"title\": {\"text\": \"Number of Hosts on Airbnb By Year\"}, \"xaxis\": {\"title\": {\"text\": \"Year\"}}, \"yaxis\": {\"title\": {\"text\": \"Number of Hosts\"}}},\n",
              "                        {\"responsive\": true}\n",
              "                    ).then(function(){\n",
              "                            \n",
              "var gd = document.getElementById('cfe0e752-619d-41e9-bf61-59f04ae0862a');\n",
              "var x = new MutationObserver(function (mutations, observer) {{\n",
              "        var display = window.getComputedStyle(gd).display;\n",
              "        if (!display || display === 'none') {{\n",
              "            console.log([gd, 'removed!']);\n",
              "            Plotly.purge(gd);\n",
              "            observer.disconnect();\n",
              "        }}\n",
              "}});\n",
              "\n",
              "// Listen for the removal of the full notebook cells\n",
              "var notebookContainer = gd.closest('#notebook-container');\n",
              "if (notebookContainer) {{\n",
              "    x.observe(notebookContainer, {childList: true});\n",
              "}}\n",
              "\n",
              "// Listen for the clearing of the current output cell\n",
              "var outputEl = gd.closest('.output');\n",
              "if (outputEl) {{\n",
              "    x.observe(outputEl, {childList: true});\n",
              "}}\n",
              "\n",
              "                        })\n",
              "                };\n",
              "                \n",
              "            </script>\n",
              "        </div>\n",
              "</body>\n",
              "</html>"
            ]
          },
          "metadata": {}
        }
      ],
      "source": [
        "# Display the number of total hosts over time\n",
        "viz6 = go.Figure(data=go.Scatter(x=resample_by_year['host_since'], y=resample_by_year['year_cum']))\n",
        "\n",
        "viz6.update_layout(title='Number of Hosts on Airbnb By Year',\n",
        "                   xaxis_title='Year',\n",
        "                   yaxis_title='Number of Hosts')\n",
        "\n",
        "viz6.show()"
      ]
    },
    {
      "cell_type": "code",
      "execution_count": null,
      "metadata": {
        "colab": {
          "base_uri": "https://localhost:8080/",
          "height": 206
        },
        "id": "5RL1HsIJ37ry",
        "outputId": "e5598f7f-d39a-42dc-887c-f225fa768112"
      },
      "outputs": [
        {
          "output_type": "execute_result",
          "data": {
            "text/html": [
              "<div>\n",
              "<style scoped>\n",
              "    .dataframe tbody tr th:only-of-type {\n",
              "        vertical-align: middle;\n",
              "    }\n",
              "\n",
              "    .dataframe tbody tr th {\n",
              "        vertical-align: top;\n",
              "    }\n",
              "\n",
              "    .dataframe thead th {\n",
              "        text-align: right;\n",
              "    }\n",
              "</style>\n",
              "<table border=\"1\" class=\"dataframe\">\n",
              "  <thead>\n",
              "    <tr style=\"text-align: right;\">\n",
              "      <th></th>\n",
              "      <th>host_since</th>\n",
              "      <th>year_cum</th>\n",
              "    </tr>\n",
              "  </thead>\n",
              "  <tbody>\n",
              "    <tr>\n",
              "      <th>0</th>\n",
              "      <td>2009-12-31</td>\n",
              "      <td>3</td>\n",
              "    </tr>\n",
              "    <tr>\n",
              "      <th>1</th>\n",
              "      <td>2010-12-31</td>\n",
              "      <td>13</td>\n",
              "    </tr>\n",
              "    <tr>\n",
              "      <th>2</th>\n",
              "      <td>2011-12-31</td>\n",
              "      <td>43</td>\n",
              "    </tr>\n",
              "    <tr>\n",
              "      <th>3</th>\n",
              "      <td>2012-12-31</td>\n",
              "      <td>87</td>\n",
              "    </tr>\n",
              "    <tr>\n",
              "      <th>4</th>\n",
              "      <td>2013-12-31</td>\n",
              "      <td>161</td>\n",
              "    </tr>\n",
              "  </tbody>\n",
              "</table>\n",
              "</div>"
            ],
            "text/plain": [
              "  host_since  year_cum\n",
              "0 2009-12-31         3\n",
              "1 2010-12-31        13\n",
              "2 2011-12-31        43\n",
              "3 2012-12-31        87\n",
              "4 2013-12-31       161"
            ]
          },
          "metadata": {},
          "execution_count": 85
        }
      ],
      "source": [
        "# Create a dataframe with the cumulative number of super hosts by date\n",
        "num_super_host_by_date = is_super_df.groupby('host_since')[['host_id']].count().reset_index().rename(columns={'host_id': 'host_since_count'})\n",
        "num_super_host_by_date['host_count_cum'] = num_super_host_by_date['host_since_count'].cumsum()\n",
        "\n",
        "# Resample by year\n",
        "super_host_resample_by_year = num_super_host_by_date.set_index('host_since').resample('Y').sum()\n",
        "super_host_resample_by_year['year_cum'] = super_host_resample_by_year['host_since_count'].cumsum()\n",
        "super_host_resample_by_year = super_host_resample_by_year[['year_cum']].reset_index()\n",
        "\n",
        "super_host_resample_by_year.head()"
      ]
    },
    {
      "cell_type": "code",
      "execution_count": null,
      "metadata": {
        "colab": {
          "base_uri": "https://localhost:8080/",
          "height": 206
        },
        "id": "R0zCGQxw3-v2",
        "outputId": "69bc9de5-deed-41e3-cd48-85aeebd5a695"
      },
      "outputs": [
        {
          "output_type": "execute_result",
          "data": {
            "text/html": [
              "<div>\n",
              "<style scoped>\n",
              "    .dataframe tbody tr th:only-of-type {\n",
              "        vertical-align: middle;\n",
              "    }\n",
              "\n",
              "    .dataframe tbody tr th {\n",
              "        vertical-align: top;\n",
              "    }\n",
              "\n",
              "    .dataframe thead th {\n",
              "        text-align: right;\n",
              "    }\n",
              "</style>\n",
              "<table border=\"1\" class=\"dataframe\">\n",
              "  <thead>\n",
              "    <tr style=\"text-align: right;\">\n",
              "      <th></th>\n",
              "      <th>host_since</th>\n",
              "      <th>year_cum</th>\n",
              "    </tr>\n",
              "  </thead>\n",
              "  <tbody>\n",
              "    <tr>\n",
              "      <th>0</th>\n",
              "      <td>2009-12-31</td>\n",
              "      <td>3</td>\n",
              "    </tr>\n",
              "    <tr>\n",
              "      <th>1</th>\n",
              "      <td>2010-12-31</td>\n",
              "      <td>11</td>\n",
              "    </tr>\n",
              "    <tr>\n",
              "      <th>2</th>\n",
              "      <td>2011-12-31</td>\n",
              "      <td>44</td>\n",
              "    </tr>\n",
              "    <tr>\n",
              "      <th>3</th>\n",
              "      <td>2012-12-31</td>\n",
              "      <td>98</td>\n",
              "    </tr>\n",
              "    <tr>\n",
              "      <th>4</th>\n",
              "      <td>2013-12-31</td>\n",
              "      <td>181</td>\n",
              "    </tr>\n",
              "  </tbody>\n",
              "</table>\n",
              "</div>"
            ],
            "text/plain": [
              "  host_since  year_cum\n",
              "0 2009-12-31         3\n",
              "1 2010-12-31        11\n",
              "2 2011-12-31        44\n",
              "3 2012-12-31        98\n",
              "4 2013-12-31       181"
            ]
          },
          "metadata": {},
          "execution_count": 86
        }
      ],
      "source": [
        "# Create a dataframe with the cumulative number of non super hosts by date\n",
        "not_super_host_by_date = not_super_df.groupby('host_since')[['host_id']].count().reset_index().rename(columns={'host_id': 'host_since_count'})\n",
        "not_super_host_by_date['host_count_cum'] = not_super_host_by_date['host_since_count'].cumsum()\n",
        "\n",
        "# Resample by year\n",
        "not_super_host_resample_by_year = not_super_host_by_date.set_index('host_since').resample('Y').sum()\n",
        "not_super_host_resample_by_year['year_cum'] = not_super_host_resample_by_year['host_since_count'].cumsum()\n",
        "not_super_host_resample_by_year = not_super_host_resample_by_year[['year_cum']].reset_index()\n",
        "\n",
        "not_super_host_resample_by_year.head()"
      ]
    },
    {
      "cell_type": "markdown",
      "metadata": {
        "id": "6fQbMI8u4QiI"
      },
      "source": [
        "**How do the number of superhosts vs non superhosts on Airbnb change from 2009 to 2022?**\n"
      ]
    },
    {
      "cell_type": "code",
      "execution_count": null,
      "metadata": {
        "colab": {
          "base_uri": "https://localhost:8080/",
          "height": 542
        },
        "id": "7nSrx_4B4A-x",
        "outputId": "dc90d9f8-ef0f-437b-cf6f-b3466bcc57c7"
      },
      "outputs": [
        {
          "output_type": "display_data",
          "data": {
            "text/html": [
              "<html>\n",
              "<head><meta charset=\"utf-8\" /></head>\n",
              "<body>\n",
              "    <div>\n",
              "            <script src=\"https://cdnjs.cloudflare.com/ajax/libs/mathjax/2.7.5/MathJax.js?config=TeX-AMS-MML_SVG\"></script><script type=\"text/javascript\">if (window.MathJax) {MathJax.Hub.Config({SVG: {font: \"STIX-Web\"}});}</script>\n",
              "                <script type=\"text/javascript\">window.PlotlyConfig = {MathJaxConfig: 'local'};</script>\n",
              "        <script src=\"https://cdn.plot.ly/plotly-latest.min.js\"></script>    \n",
              "            <div id=\"473ebd06-24bb-4674-81e9-c6a1c512bbf2\" class=\"plotly-graph-div\" style=\"height:525px; width:100%;\"></div>\n",
              "            <script type=\"text/javascript\">\n",
              "                \n",
              "                    window.PLOTLYENV=window.PLOTLYENV || {};\n",
              "                    \n",
              "                if (document.getElementById(\"473ebd06-24bb-4674-81e9-c6a1c512bbf2\")) {\n",
              "                    Plotly.newPlot(\n",
              "                        '473ebd06-24bb-4674-81e9-c6a1c512bbf2',\n",
              "                        [{\"name\": \"Total number of hosts\", \"type\": \"bar\", \"x\": [\"2009-12-31T00:00:00\", \"2010-12-31T00:00:00\", \"2011-12-31T00:00:00\", \"2012-12-31T00:00:00\", \"2013-12-31T00:00:00\", \"2014-12-31T00:00:00\", \"2015-12-31T00:00:00\", \"2016-12-31T00:00:00\", \"2017-12-31T00:00:00\", \"2018-12-31T00:00:00\", \"2019-12-31T00:00:00\", \"2020-12-31T00:00:00\", \"2021-12-31T00:00:00\"], \"y\": [6, 24, 87, 185, 342, 570, 919, 1190, 1391, 1575, 1739, 1817, 1891]}, {\"name\": \"Superhosts\", \"type\": \"bar\", \"x\": [\"2009-12-31T00:00:00\", \"2010-12-31T00:00:00\", \"2011-12-31T00:00:00\", \"2012-12-31T00:00:00\", \"2013-12-31T00:00:00\", \"2014-12-31T00:00:00\", \"2015-12-31T00:00:00\", \"2016-12-31T00:00:00\", \"2017-12-31T00:00:00\", \"2018-12-31T00:00:00\", \"2019-12-31T00:00:00\", \"2020-12-31T00:00:00\", \"2021-12-31T00:00:00\"], \"y\": [3, 13, 43, 87, 161, 266, 443, 583, 694, 772, 853, 879, 901]}, {\"name\": \"Not Superhosts\", \"type\": \"bar\", \"x\": [\"2009-12-31T00:00:00\", \"2010-12-31T00:00:00\", \"2011-12-31T00:00:00\", \"2012-12-31T00:00:00\", \"2013-12-31T00:00:00\", \"2014-12-31T00:00:00\", \"2015-12-31T00:00:00\", \"2016-12-31T00:00:00\", \"2017-12-31T00:00:00\", \"2018-12-31T00:00:00\", \"2019-12-31T00:00:00\", \"2020-12-31T00:00:00\", \"2021-12-31T00:00:00\"], \"y\": [3, 11, 44, 98, 181, 304, 476, 607, 697, 803, 886, 938, 990]}],\n",
              "                        {\"barmode\": \"group\", \"template\": {\"data\": {\"bar\": [{\"error_x\": {\"color\": \"#2a3f5f\"}, \"error_y\": {\"color\": \"#2a3f5f\"}, \"marker\": {\"line\": {\"color\": \"#E5ECF6\", \"width\": 0.5}}, \"type\": \"bar\"}], \"barpolar\": [{\"marker\": {\"line\": {\"color\": \"#E5ECF6\", \"width\": 0.5}}, \"type\": \"barpolar\"}], \"carpet\": [{\"aaxis\": {\"endlinecolor\": \"#2a3f5f\", \"gridcolor\": \"white\", \"linecolor\": \"white\", \"minorgridcolor\": \"white\", \"startlinecolor\": \"#2a3f5f\"}, \"baxis\": {\"endlinecolor\": \"#2a3f5f\", \"gridcolor\": \"white\", \"linecolor\": \"white\", \"minorgridcolor\": \"white\", \"startlinecolor\": \"#2a3f5f\"}, \"type\": \"carpet\"}], \"choropleth\": [{\"colorbar\": {\"outlinewidth\": 0, \"ticks\": \"\"}, \"type\": \"choropleth\"}], \"contour\": [{\"colorbar\": {\"outlinewidth\": 0, \"ticks\": \"\"}, \"colorscale\": [[0.0, \"#0d0887\"], [0.1111111111111111, \"#46039f\"], [0.2222222222222222, \"#7201a8\"], [0.3333333333333333, \"#9c179e\"], [0.4444444444444444, \"#bd3786\"], [0.5555555555555556, \"#d8576b\"], [0.6666666666666666, \"#ed7953\"], [0.7777777777777778, \"#fb9f3a\"], [0.8888888888888888, \"#fdca26\"], [1.0, \"#f0f921\"]], \"type\": \"contour\"}], \"contourcarpet\": [{\"colorbar\": {\"outlinewidth\": 0, \"ticks\": \"\"}, \"type\": \"contourcarpet\"}], \"heatmap\": [{\"colorbar\": {\"outlinewidth\": 0, \"ticks\": \"\"}, \"colorscale\": [[0.0, \"#0d0887\"], [0.1111111111111111, \"#46039f\"], [0.2222222222222222, \"#7201a8\"], [0.3333333333333333, \"#9c179e\"], [0.4444444444444444, \"#bd3786\"], [0.5555555555555556, \"#d8576b\"], [0.6666666666666666, \"#ed7953\"], [0.7777777777777778, \"#fb9f3a\"], [0.8888888888888888, \"#fdca26\"], [1.0, \"#f0f921\"]], \"type\": \"heatmap\"}], \"heatmapgl\": [{\"colorbar\": {\"outlinewidth\": 0, \"ticks\": \"\"}, \"colorscale\": [[0.0, \"#0d0887\"], [0.1111111111111111, \"#46039f\"], [0.2222222222222222, \"#7201a8\"], [0.3333333333333333, \"#9c179e\"], [0.4444444444444444, \"#bd3786\"], [0.5555555555555556, \"#d8576b\"], [0.6666666666666666, \"#ed7953\"], [0.7777777777777778, \"#fb9f3a\"], [0.8888888888888888, \"#fdca26\"], [1.0, \"#f0f921\"]], \"type\": \"heatmapgl\"}], \"histogram\": [{\"marker\": {\"colorbar\": {\"outlinewidth\": 0, \"ticks\": \"\"}}, \"type\": \"histogram\"}], \"histogram2d\": [{\"colorbar\": {\"outlinewidth\": 0, \"ticks\": \"\"}, \"colorscale\": [[0.0, \"#0d0887\"], [0.1111111111111111, \"#46039f\"], [0.2222222222222222, \"#7201a8\"], [0.3333333333333333, \"#9c179e\"], [0.4444444444444444, \"#bd3786\"], [0.5555555555555556, \"#d8576b\"], [0.6666666666666666, \"#ed7953\"], [0.7777777777777778, \"#fb9f3a\"], [0.8888888888888888, \"#fdca26\"], [1.0, \"#f0f921\"]], \"type\": \"histogram2d\"}], \"histogram2dcontour\": [{\"colorbar\": {\"outlinewidth\": 0, \"ticks\": \"\"}, \"colorscale\": [[0.0, \"#0d0887\"], [0.1111111111111111, \"#46039f\"], [0.2222222222222222, \"#7201a8\"], [0.3333333333333333, \"#9c179e\"], [0.4444444444444444, \"#bd3786\"], [0.5555555555555556, \"#d8576b\"], [0.6666666666666666, \"#ed7953\"], [0.7777777777777778, \"#fb9f3a\"], [0.8888888888888888, \"#fdca26\"], [1.0, \"#f0f921\"]], \"type\": \"histogram2dcontour\"}], \"mesh3d\": [{\"colorbar\": {\"outlinewidth\": 0, \"ticks\": \"\"}, \"type\": \"mesh3d\"}], \"parcoords\": [{\"line\": {\"colorbar\": {\"outlinewidth\": 0, \"ticks\": \"\"}}, \"type\": \"parcoords\"}], \"pie\": [{\"automargin\": true, \"type\": \"pie\"}], \"scatter\": [{\"marker\": {\"colorbar\": {\"outlinewidth\": 0, \"ticks\": \"\"}}, \"type\": \"scatter\"}], \"scatter3d\": [{\"line\": {\"colorbar\": {\"outlinewidth\": 0, \"ticks\": \"\"}}, \"marker\": {\"colorbar\": {\"outlinewidth\": 0, \"ticks\": \"\"}}, \"type\": \"scatter3d\"}], \"scattercarpet\": [{\"marker\": {\"colorbar\": {\"outlinewidth\": 0, \"ticks\": \"\"}}, \"type\": \"scattercarpet\"}], \"scattergeo\": [{\"marker\": {\"colorbar\": {\"outlinewidth\": 0, \"ticks\": \"\"}}, \"type\": \"scattergeo\"}], \"scattergl\": [{\"marker\": {\"colorbar\": {\"outlinewidth\": 0, \"ticks\": \"\"}}, \"type\": \"scattergl\"}], \"scattermapbox\": [{\"marker\": {\"colorbar\": {\"outlinewidth\": 0, \"ticks\": \"\"}}, \"type\": \"scattermapbox\"}], \"scatterpolar\": [{\"marker\": {\"colorbar\": {\"outlinewidth\": 0, \"ticks\": \"\"}}, \"type\": \"scatterpolar\"}], \"scatterpolargl\": [{\"marker\": {\"colorbar\": {\"outlinewidth\": 0, \"ticks\": \"\"}}, \"type\": \"scatterpolargl\"}], \"scatterternary\": [{\"marker\": {\"colorbar\": {\"outlinewidth\": 0, \"ticks\": \"\"}}, \"type\": \"scatterternary\"}], \"surface\": [{\"colorbar\": {\"outlinewidth\": 0, \"ticks\": \"\"}, \"colorscale\": [[0.0, \"#0d0887\"], [0.1111111111111111, \"#46039f\"], [0.2222222222222222, \"#7201a8\"], [0.3333333333333333, \"#9c179e\"], [0.4444444444444444, \"#bd3786\"], [0.5555555555555556, \"#d8576b\"], [0.6666666666666666, \"#ed7953\"], [0.7777777777777778, \"#fb9f3a\"], [0.8888888888888888, \"#fdca26\"], [1.0, \"#f0f921\"]], \"type\": \"surface\"}], \"table\": [{\"cells\": {\"fill\": {\"color\": \"#EBF0F8\"}, \"line\": {\"color\": \"white\"}}, \"header\": {\"fill\": {\"color\": \"#C8D4E3\"}, \"line\": {\"color\": \"white\"}}, \"type\": \"table\"}]}, \"layout\": {\"annotationdefaults\": {\"arrowcolor\": \"#2a3f5f\", \"arrowhead\": 0, \"arrowwidth\": 1}, \"coloraxis\": {\"colorbar\": {\"outlinewidth\": 0, \"ticks\": \"\"}}, \"colorscale\": {\"diverging\": [[0, \"#8e0152\"], [0.1, \"#c51b7d\"], [0.2, \"#de77ae\"], [0.3, \"#f1b6da\"], [0.4, \"#fde0ef\"], [0.5, \"#f7f7f7\"], [0.6, \"#e6f5d0\"], [0.7, \"#b8e186\"], [0.8, \"#7fbc41\"], [0.9, \"#4d9221\"], [1, \"#276419\"]], \"sequential\": [[0.0, \"#0d0887\"], [0.1111111111111111, \"#46039f\"], [0.2222222222222222, \"#7201a8\"], [0.3333333333333333, \"#9c179e\"], [0.4444444444444444, \"#bd3786\"], [0.5555555555555556, \"#d8576b\"], [0.6666666666666666, \"#ed7953\"], [0.7777777777777778, \"#fb9f3a\"], [0.8888888888888888, \"#fdca26\"], [1.0, \"#f0f921\"]], \"sequentialminus\": [[0.0, \"#0d0887\"], [0.1111111111111111, \"#46039f\"], [0.2222222222222222, \"#7201a8\"], [0.3333333333333333, \"#9c179e\"], [0.4444444444444444, \"#bd3786\"], [0.5555555555555556, \"#d8576b\"], [0.6666666666666666, \"#ed7953\"], [0.7777777777777778, \"#fb9f3a\"], [0.8888888888888888, \"#fdca26\"], [1.0, \"#f0f921\"]]}, \"colorway\": [\"#636efa\", \"#EF553B\", \"#00cc96\", \"#ab63fa\", \"#FFA15A\", \"#19d3f3\", \"#FF6692\", \"#B6E880\", \"#FF97FF\", \"#FECB52\"], \"font\": {\"color\": \"#2a3f5f\"}, \"geo\": {\"bgcolor\": \"white\", \"lakecolor\": \"white\", \"landcolor\": \"#E5ECF6\", \"showlakes\": true, \"showland\": true, \"subunitcolor\": \"white\"}, \"hoverlabel\": {\"align\": \"left\"}, \"hovermode\": \"closest\", \"mapbox\": {\"style\": \"light\"}, \"paper_bgcolor\": \"white\", \"plot_bgcolor\": \"#E5ECF6\", \"polar\": {\"angularaxis\": {\"gridcolor\": \"white\", \"linecolor\": \"white\", \"ticks\": \"\"}, \"bgcolor\": \"#E5ECF6\", \"radialaxis\": {\"gridcolor\": \"white\", \"linecolor\": \"white\", \"ticks\": \"\"}}, \"scene\": {\"xaxis\": {\"backgroundcolor\": \"#E5ECF6\", \"gridcolor\": \"white\", \"gridwidth\": 2, \"linecolor\": \"white\", \"showbackground\": true, \"ticks\": \"\", \"zerolinecolor\": \"white\"}, \"yaxis\": {\"backgroundcolor\": \"#E5ECF6\", \"gridcolor\": \"white\", \"gridwidth\": 2, \"linecolor\": \"white\", \"showbackground\": true, \"ticks\": \"\", \"zerolinecolor\": \"white\"}, \"zaxis\": {\"backgroundcolor\": \"#E5ECF6\", \"gridcolor\": \"white\", \"gridwidth\": 2, \"linecolor\": \"white\", \"showbackground\": true, \"ticks\": \"\", \"zerolinecolor\": \"white\"}}, \"shapedefaults\": {\"line\": {\"color\": \"#2a3f5f\"}}, \"ternary\": {\"aaxis\": {\"gridcolor\": \"white\", \"linecolor\": \"white\", \"ticks\": \"\"}, \"baxis\": {\"gridcolor\": \"white\", \"linecolor\": \"white\", \"ticks\": \"\"}, \"bgcolor\": \"#E5ECF6\", \"caxis\": {\"gridcolor\": \"white\", \"linecolor\": \"white\", \"ticks\": \"\"}}, \"title\": {\"x\": 0.05}, \"xaxis\": {\"automargin\": true, \"gridcolor\": \"white\", \"linecolor\": \"white\", \"ticks\": \"\", \"title\": {\"standoff\": 15}, \"zerolinecolor\": \"white\", \"zerolinewidth\": 2}, \"yaxis\": {\"automargin\": true, \"gridcolor\": \"white\", \"linecolor\": \"white\", \"ticks\": \"\", \"title\": {\"standoff\": 15}, \"zerolinecolor\": \"white\", \"zerolinewidth\": 2}}}, \"title\": {\"text\": \"Number of Hosts on Airbnb By The Last Day of Each Year\"}, \"xaxis\": {\"title\": {\"text\": \"Year\"}}, \"yaxis\": {\"title\": {\"text\": \"Number of Hosts\"}}},\n",
              "                        {\"responsive\": true}\n",
              "                    ).then(function(){\n",
              "                            \n",
              "var gd = document.getElementById('473ebd06-24bb-4674-81e9-c6a1c512bbf2');\n",
              "var x = new MutationObserver(function (mutations, observer) {{\n",
              "        var display = window.getComputedStyle(gd).display;\n",
              "        if (!display || display === 'none') {{\n",
              "            console.log([gd, 'removed!']);\n",
              "            Plotly.purge(gd);\n",
              "            observer.disconnect();\n",
              "        }}\n",
              "}});\n",
              "\n",
              "// Listen for the removal of the full notebook cells\n",
              "var notebookContainer = gd.closest('#notebook-container');\n",
              "if (notebookContainer) {{\n",
              "    x.observe(notebookContainer, {childList: true});\n",
              "}}\n",
              "\n",
              "// Listen for the clearing of the current output cell\n",
              "var outputEl = gd.closest('.output');\n",
              "if (outputEl) {{\n",
              "    x.observe(outputEl, {childList: true});\n",
              "}}\n",
              "\n",
              "                        })\n",
              "                };\n",
              "                \n",
              "            </script>\n",
              "        </div>\n",
              "</body>\n",
              "</html>"
            ]
          },
          "metadata": {}
        }
      ],
      "source": [
        "# Create a combined bar graph of the number of superhosts and non superhosts by year\n",
        "dates = super_host_resample_by_year['host_since']\n",
        "\n",
        "viz7 = go.Figure(data=[\n",
        "    go.Bar(name='Total number of hosts', x=dates, y=resample_by_year['year_cum']),\n",
        "    go.Bar(name='Superhosts', x=dates, y=super_host_resample_by_year['year_cum']),\n",
        "    go.Bar(name='Not Superhosts', x=dates, y=not_super_host_resample_by_year['year_cum'])\n",
        "])\n",
        "\n",
        "# Change the bar mode\n",
        "viz7.update_layout(barmode='group')\n",
        "\n",
        "viz7.update_layout(title='Number of Hosts on Airbnb By The Last Day of Each Year',\n",
        "                   xaxis_title='Year',\n",
        "                   yaxis_title='Number of Hosts')\n",
        "\n",
        "viz7.show()\n"
      ]
    },
    {
      "cell_type": "markdown",
      "source": [
        "We can see a pretty steady increase across all of the years, and then a slow leveling off towards the end of the range."
      ],
      "metadata": {
        "id": "-fhicD8-3yfJ"
      }
    },
    {
      "cell_type": "markdown",
      "metadata": {
        "id": "3ccRhUjD4i1b"
      },
      "source": [
        "**What is the percentage of confirmed vs. unverified hosts?**\n",
        "\n",
        "The majority of Airbnb hosts are verified, as can be shown. Identity verification entails a host sharing a photo of their ID to prove that they are who they claim to be. As we can see, the majority of Airbnb hosts have this extra security option."
      ]
    },
    {
      "cell_type": "code",
      "execution_count": null,
      "metadata": {
        "id": "p6ngSkL34eb8"
      },
      "outputs": [],
      "source": [
        "# find the count of hosts that have their identity verified\n",
        "identity_verified = hosts['host_identity_verified_numeric'].value_counts()\n",
        "identity_verified_df = pd.DataFrame(identity_verified).reset_index().rename(columns={'index':'verified','host_identity_verified_numeric':'host_count'})\n",
        "labels = ['Verified', 'Not Verified']"
      ]
    },
    {
      "cell_type": "code",
      "execution_count": null,
      "metadata": {
        "colab": {
          "base_uri": "https://localhost:8080/",
          "height": 542
        },
        "id": "fihnmwAp4g-W",
        "outputId": "c0b0dfe0-314b-4bb9-affc-a6410a8271a7"
      },
      "outputs": [
        {
          "output_type": "display_data",
          "data": {
            "text/html": [
              "<html>\n",
              "<head><meta charset=\"utf-8\" /></head>\n",
              "<body>\n",
              "    <div>\n",
              "            <script src=\"https://cdnjs.cloudflare.com/ajax/libs/mathjax/2.7.5/MathJax.js?config=TeX-AMS-MML_SVG\"></script><script type=\"text/javascript\">if (window.MathJax) {MathJax.Hub.Config({SVG: {font: \"STIX-Web\"}});}</script>\n",
              "                <script type=\"text/javascript\">window.PlotlyConfig = {MathJaxConfig: 'local'};</script>\n",
              "        <script src=\"https://cdn.plot.ly/plotly-latest.min.js\"></script>    \n",
              "            <div id=\"539ef2f6-f778-42ca-a669-3e95c4a2d4a7\" class=\"plotly-graph-div\" style=\"height:525px; width:100%;\"></div>\n",
              "            <script type=\"text/javascript\">\n",
              "                \n",
              "                    window.PLOTLYENV=window.PLOTLYENV || {};\n",
              "                    \n",
              "                if (document.getElementById(\"539ef2f6-f778-42ca-a669-3e95c4a2d4a7\")) {\n",
              "                    Plotly.newPlot(\n",
              "                        '539ef2f6-f778-42ca-a669-3e95c4a2d4a7',\n",
              "                        [{\"type\": \"bar\", \"x\": [\"Verified\", \"Not Verified\"], \"y\": [1516, 375]}],\n",
              "                        {\"template\": {\"data\": {\"bar\": [{\"error_x\": {\"color\": \"#2a3f5f\"}, \"error_y\": {\"color\": \"#2a3f5f\"}, \"marker\": {\"line\": {\"color\": \"#E5ECF6\", \"width\": 0.5}}, \"type\": \"bar\"}], \"barpolar\": [{\"marker\": {\"line\": {\"color\": \"#E5ECF6\", \"width\": 0.5}}, \"type\": \"barpolar\"}], \"carpet\": [{\"aaxis\": {\"endlinecolor\": \"#2a3f5f\", \"gridcolor\": \"white\", \"linecolor\": \"white\", \"minorgridcolor\": \"white\", \"startlinecolor\": \"#2a3f5f\"}, \"baxis\": {\"endlinecolor\": \"#2a3f5f\", \"gridcolor\": \"white\", \"linecolor\": \"white\", \"minorgridcolor\": \"white\", \"startlinecolor\": \"#2a3f5f\"}, \"type\": \"carpet\"}], \"choropleth\": [{\"colorbar\": {\"outlinewidth\": 0, \"ticks\": \"\"}, \"type\": \"choropleth\"}], \"contour\": [{\"colorbar\": {\"outlinewidth\": 0, \"ticks\": \"\"}, \"colorscale\": [[0.0, \"#0d0887\"], [0.1111111111111111, \"#46039f\"], [0.2222222222222222, \"#7201a8\"], [0.3333333333333333, \"#9c179e\"], [0.4444444444444444, \"#bd3786\"], [0.5555555555555556, \"#d8576b\"], [0.6666666666666666, \"#ed7953\"], [0.7777777777777778, \"#fb9f3a\"], [0.8888888888888888, \"#fdca26\"], [1.0, \"#f0f921\"]], \"type\": \"contour\"}], \"contourcarpet\": [{\"colorbar\": {\"outlinewidth\": 0, \"ticks\": \"\"}, \"type\": \"contourcarpet\"}], \"heatmap\": [{\"colorbar\": {\"outlinewidth\": 0, \"ticks\": \"\"}, \"colorscale\": [[0.0, \"#0d0887\"], [0.1111111111111111, \"#46039f\"], [0.2222222222222222, \"#7201a8\"], [0.3333333333333333, \"#9c179e\"], [0.4444444444444444, \"#bd3786\"], [0.5555555555555556, \"#d8576b\"], [0.6666666666666666, \"#ed7953\"], [0.7777777777777778, \"#fb9f3a\"], [0.8888888888888888, \"#fdca26\"], [1.0, \"#f0f921\"]], \"type\": \"heatmap\"}], \"heatmapgl\": [{\"colorbar\": {\"outlinewidth\": 0, \"ticks\": \"\"}, \"colorscale\": [[0.0, \"#0d0887\"], [0.1111111111111111, \"#46039f\"], [0.2222222222222222, \"#7201a8\"], [0.3333333333333333, \"#9c179e\"], [0.4444444444444444, \"#bd3786\"], [0.5555555555555556, \"#d8576b\"], [0.6666666666666666, \"#ed7953\"], [0.7777777777777778, \"#fb9f3a\"], [0.8888888888888888, \"#fdca26\"], [1.0, \"#f0f921\"]], \"type\": \"heatmapgl\"}], \"histogram\": [{\"marker\": {\"colorbar\": {\"outlinewidth\": 0, \"ticks\": \"\"}}, \"type\": \"histogram\"}], \"histogram2d\": [{\"colorbar\": {\"outlinewidth\": 0, \"ticks\": \"\"}, \"colorscale\": [[0.0, \"#0d0887\"], [0.1111111111111111, \"#46039f\"], [0.2222222222222222, \"#7201a8\"], [0.3333333333333333, \"#9c179e\"], [0.4444444444444444, \"#bd3786\"], [0.5555555555555556, \"#d8576b\"], [0.6666666666666666, \"#ed7953\"], [0.7777777777777778, \"#fb9f3a\"], [0.8888888888888888, \"#fdca26\"], [1.0, \"#f0f921\"]], \"type\": \"histogram2d\"}], \"histogram2dcontour\": [{\"colorbar\": {\"outlinewidth\": 0, \"ticks\": \"\"}, \"colorscale\": [[0.0, \"#0d0887\"], [0.1111111111111111, \"#46039f\"], [0.2222222222222222, \"#7201a8\"], [0.3333333333333333, \"#9c179e\"], [0.4444444444444444, \"#bd3786\"], [0.5555555555555556, \"#d8576b\"], [0.6666666666666666, \"#ed7953\"], [0.7777777777777778, \"#fb9f3a\"], [0.8888888888888888, \"#fdca26\"], [1.0, \"#f0f921\"]], \"type\": \"histogram2dcontour\"}], \"mesh3d\": [{\"colorbar\": {\"outlinewidth\": 0, \"ticks\": \"\"}, \"type\": \"mesh3d\"}], \"parcoords\": [{\"line\": {\"colorbar\": {\"outlinewidth\": 0, \"ticks\": \"\"}}, \"type\": \"parcoords\"}], \"pie\": [{\"automargin\": true, \"type\": \"pie\"}], \"scatter\": [{\"marker\": {\"colorbar\": {\"outlinewidth\": 0, \"ticks\": \"\"}}, \"type\": \"scatter\"}], \"scatter3d\": [{\"line\": {\"colorbar\": {\"outlinewidth\": 0, \"ticks\": \"\"}}, \"marker\": {\"colorbar\": {\"outlinewidth\": 0, \"ticks\": \"\"}}, \"type\": \"scatter3d\"}], \"scattercarpet\": [{\"marker\": {\"colorbar\": {\"outlinewidth\": 0, \"ticks\": \"\"}}, \"type\": \"scattercarpet\"}], \"scattergeo\": [{\"marker\": {\"colorbar\": {\"outlinewidth\": 0, \"ticks\": \"\"}}, \"type\": \"scattergeo\"}], \"scattergl\": [{\"marker\": {\"colorbar\": {\"outlinewidth\": 0, \"ticks\": \"\"}}, \"type\": \"scattergl\"}], \"scattermapbox\": [{\"marker\": {\"colorbar\": {\"outlinewidth\": 0, \"ticks\": \"\"}}, \"type\": \"scattermapbox\"}], \"scatterpolar\": [{\"marker\": {\"colorbar\": {\"outlinewidth\": 0, \"ticks\": \"\"}}, \"type\": \"scatterpolar\"}], \"scatterpolargl\": [{\"marker\": {\"colorbar\": {\"outlinewidth\": 0, \"ticks\": \"\"}}, \"type\": \"scatterpolargl\"}], \"scatterternary\": [{\"marker\": {\"colorbar\": {\"outlinewidth\": 0, \"ticks\": \"\"}}, \"type\": \"scatterternary\"}], \"surface\": [{\"colorbar\": {\"outlinewidth\": 0, \"ticks\": \"\"}, \"colorscale\": [[0.0, \"#0d0887\"], [0.1111111111111111, \"#46039f\"], [0.2222222222222222, \"#7201a8\"], [0.3333333333333333, \"#9c179e\"], [0.4444444444444444, \"#bd3786\"], [0.5555555555555556, \"#d8576b\"], [0.6666666666666666, \"#ed7953\"], [0.7777777777777778, \"#fb9f3a\"], [0.8888888888888888, \"#fdca26\"], [1.0, \"#f0f921\"]], \"type\": \"surface\"}], \"table\": [{\"cells\": {\"fill\": {\"color\": \"#EBF0F8\"}, \"line\": {\"color\": \"white\"}}, \"header\": {\"fill\": {\"color\": \"#C8D4E3\"}, \"line\": {\"color\": \"white\"}}, \"type\": \"table\"}]}, \"layout\": {\"annotationdefaults\": {\"arrowcolor\": \"#2a3f5f\", \"arrowhead\": 0, \"arrowwidth\": 1}, \"coloraxis\": {\"colorbar\": {\"outlinewidth\": 0, \"ticks\": \"\"}}, \"colorscale\": {\"diverging\": [[0, \"#8e0152\"], [0.1, \"#c51b7d\"], [0.2, \"#de77ae\"], [0.3, \"#f1b6da\"], [0.4, \"#fde0ef\"], [0.5, \"#f7f7f7\"], [0.6, \"#e6f5d0\"], [0.7, \"#b8e186\"], [0.8, \"#7fbc41\"], [0.9, \"#4d9221\"], [1, \"#276419\"]], \"sequential\": [[0.0, \"#0d0887\"], [0.1111111111111111, \"#46039f\"], [0.2222222222222222, \"#7201a8\"], [0.3333333333333333, \"#9c179e\"], [0.4444444444444444, \"#bd3786\"], [0.5555555555555556, \"#d8576b\"], [0.6666666666666666, \"#ed7953\"], [0.7777777777777778, \"#fb9f3a\"], [0.8888888888888888, \"#fdca26\"], [1.0, \"#f0f921\"]], \"sequentialminus\": [[0.0, \"#0d0887\"], [0.1111111111111111, \"#46039f\"], [0.2222222222222222, \"#7201a8\"], [0.3333333333333333, \"#9c179e\"], [0.4444444444444444, \"#bd3786\"], [0.5555555555555556, \"#d8576b\"], [0.6666666666666666, \"#ed7953\"], [0.7777777777777778, \"#fb9f3a\"], [0.8888888888888888, \"#fdca26\"], [1.0, \"#f0f921\"]]}, \"colorway\": [\"#636efa\", \"#EF553B\", \"#00cc96\", \"#ab63fa\", \"#FFA15A\", \"#19d3f3\", \"#FF6692\", \"#B6E880\", \"#FF97FF\", \"#FECB52\"], \"font\": {\"color\": \"#2a3f5f\"}, \"geo\": {\"bgcolor\": \"white\", \"lakecolor\": \"white\", \"landcolor\": \"#E5ECF6\", \"showlakes\": true, \"showland\": true, \"subunitcolor\": \"white\"}, \"hoverlabel\": {\"align\": \"left\"}, \"hovermode\": \"closest\", \"mapbox\": {\"style\": \"light\"}, \"paper_bgcolor\": \"white\", \"plot_bgcolor\": \"#E5ECF6\", \"polar\": {\"angularaxis\": {\"gridcolor\": \"white\", \"linecolor\": \"white\", \"ticks\": \"\"}, \"bgcolor\": \"#E5ECF6\", \"radialaxis\": {\"gridcolor\": \"white\", \"linecolor\": \"white\", \"ticks\": \"\"}}, \"scene\": {\"xaxis\": {\"backgroundcolor\": \"#E5ECF6\", \"gridcolor\": \"white\", \"gridwidth\": 2, \"linecolor\": \"white\", \"showbackground\": true, \"ticks\": \"\", \"zerolinecolor\": \"white\"}, \"yaxis\": {\"backgroundcolor\": \"#E5ECF6\", \"gridcolor\": \"white\", \"gridwidth\": 2, \"linecolor\": \"white\", \"showbackground\": true, \"ticks\": \"\", \"zerolinecolor\": \"white\"}, \"zaxis\": {\"backgroundcolor\": \"#E5ECF6\", \"gridcolor\": \"white\", \"gridwidth\": 2, \"linecolor\": \"white\", \"showbackground\": true, \"ticks\": \"\", \"zerolinecolor\": \"white\"}}, \"shapedefaults\": {\"line\": {\"color\": \"#2a3f5f\"}}, \"ternary\": {\"aaxis\": {\"gridcolor\": \"white\", \"linecolor\": \"white\", \"ticks\": \"\"}, \"baxis\": {\"gridcolor\": \"white\", \"linecolor\": \"white\", \"ticks\": \"\"}, \"bgcolor\": \"#E5ECF6\", \"caxis\": {\"gridcolor\": \"white\", \"linecolor\": \"white\", \"ticks\": \"\"}}, \"title\": {\"x\": 0.05}, \"xaxis\": {\"automargin\": true, \"gridcolor\": \"white\", \"linecolor\": \"white\", \"ticks\": \"\", \"title\": {\"standoff\": 15}, \"zerolinecolor\": \"white\", \"zerolinewidth\": 2}, \"yaxis\": {\"automargin\": true, \"gridcolor\": \"white\", \"linecolor\": \"white\", \"ticks\": \"\", \"title\": {\"standoff\": 15}, \"zerolinecolor\": \"white\", \"zerolinewidth\": 2}}}, \"title\": {\"text\": \"Count of Hosts With Identity Verified\"}, \"yaxis\": {\"title\": {\"text\": \"Count of Hosts\"}}},\n",
              "                        {\"responsive\": true}\n",
              "                    ).then(function(){\n",
              "                            \n",
              "var gd = document.getElementById('539ef2f6-f778-42ca-a669-3e95c4a2d4a7');\n",
              "var x = new MutationObserver(function (mutations, observer) {{\n",
              "        var display = window.getComputedStyle(gd).display;\n",
              "        if (!display || display === 'none') {{\n",
              "            console.log([gd, 'removed!']);\n",
              "            Plotly.purge(gd);\n",
              "            observer.disconnect();\n",
              "        }}\n",
              "}});\n",
              "\n",
              "// Listen for the removal of the full notebook cells\n",
              "var notebookContainer = gd.closest('#notebook-container');\n",
              "if (notebookContainer) {{\n",
              "    x.observe(notebookContainer, {childList: true});\n",
              "}}\n",
              "\n",
              "// Listen for the clearing of the current output cell\n",
              "var outputEl = gd.closest('.output');\n",
              "if (outputEl) {{\n",
              "    x.observe(outputEl, {childList: true});\n",
              "}}\n",
              "\n",
              "                        })\n",
              "                };\n",
              "                \n",
              "            </script>\n",
              "        </div>\n",
              "</body>\n",
              "</html>"
            ]
          },
          "metadata": {}
        }
      ],
      "source": [
        "viz8 = go.Figure([go.Bar(x=labels, y=identity_verified_df['host_count'])])\n",
        "\n",
        "viz8.update_layout(title='Count of Hosts With Identity Verified', yaxis_title='Count of Hosts')\n",
        "\n",
        "viz8.write_html('identity_verified_count_plot.html')\n",
        "\n",
        "viz8.show()\n"
      ]
    },
    {
      "cell_type": "markdown",
      "metadata": {
        "id": "Ul_MBgImn23v"
      },
      "source": [
        "## Reviews Analysis"
      ]
    },
    {
      "cell_type": "markdown",
      "metadata": {
        "id": "3QWiomvdiTh9"
      },
      "source": [
        "**When was the oldest comment posted and when was the latest posted?**  \n",
        "The oldest comment was posted on May 28, 2010 and the latest was posted on October 24, 2021"
      ]
    },
    {
      "cell_type": "code",
      "execution_count": null,
      "metadata": {
        "colab": {
          "base_uri": "https://localhost:8080/"
        },
        "id": "c3w5V_N_iUW9",
        "outputId": "c5271971-8e43-4e73-a9c4-91c17957aba7"
      },
      "outputs": [
        {
          "output_type": "stream",
          "name": "stdout",
          "text": [
            "2010-05-28 00:00:00\n",
            "2021-10-24 00:00:00\n"
          ]
        }
      ],
      "source": [
        "print(reviews.date.min())\n",
        "print(reviews.date.max())"
      ]
    },
    {
      "cell_type": "markdown",
      "metadata": {
        "id": "GSVplGx-iczj"
      },
      "source": [
        "**How many reviews were there in each year?**  \n",
        "We see the number of comments posted increased over time and 2019 has the most comments posted. After COVID outbreak, the number of comments posted dropped. The decrease can be resulted for the travel restrictions that were imposed."
      ]
    },
    {
      "cell_type": "code",
      "execution_count": null,
      "metadata": {
        "colab": {
          "base_uri": "https://localhost:8080/"
        },
        "id": "GpbvXbG3iiBC",
        "outputId": "0d52bd3a-7b00-458f-d259-2d36339647a1"
      },
      "outputs": [
        {
          "output_type": "execute_result",
          "data": {
            "text/plain": [
              "year\n",
              "2010        9\n",
              "2011      122\n",
              "2012      346\n",
              "2013      805\n",
              "2014     2307\n",
              "2015     5246\n",
              "2016    10797\n",
              "2017    17735\n",
              "2018    29878\n",
              "2019    41080\n",
              "2020    23409\n",
              "2021    30969\n",
              "Name: comments, dtype: int64"
            ]
          },
          "metadata": {},
          "execution_count": 91
        }
      ],
      "source": [
        "reviews.groupby('year')['comments'].count()"
      ]
    },
    {
      "cell_type": "markdown",
      "metadata": {
        "id": "g4Myg8XqlMJS"
      },
      "source": [
        "Here is a visualization of this trend. We can see a drastic change in number between 2019 and 2020."
      ]
    },
    {
      "cell_type": "code",
      "execution_count": null,
      "metadata": {
        "colab": {
          "base_uri": "https://localhost:8080/",
          "height": 400
        },
        "id": "qomcJDV6ikwg",
        "outputId": "2e4dfe04-d585-4f66-8890-dbd58a5fdaa0"
      },
      "outputs": [
        {
          "output_type": "display_data",
          "data": {
            "image/png": "[encoded data removed]",
            "text/plain": [
              "<Figure size 360x360 with 1 Axes>"
            ]
          },
          "metadata": {
            "needs_background": "light"
          }
        }
      ],
      "source": [
        "sns.catplot(x='year', data=reviews, kind='count', palette='coolwarm_r')\n",
        "plt.xticks(rotation=45)\n",
        "plt.title(\"Number of Reviews in Each Year\")\n",
        "plt.show();"
      ]
    },
    {
      "cell_type": "markdown",
      "metadata": {
        "id": "-L7UAZs0iqUW"
      },
      "source": [
        "**How many comments were posted each month in 2019 and 2020?**  \n",
        "Below is a visualization of the distribution of the number of comments posted in 2019 and 2020. We can see that September, October and December usually have the most comments posted."
      ]
    },
    {
      "cell_type": "code",
      "execution_count": null,
      "metadata": {
        "colab": {
          "base_uri": "https://localhost:8080/",
          "height": 369
        },
        "id": "LxVtafVtirIJ",
        "outputId": "cc16ac05-20ae-483f-8f61-1584d6309096"
      },
      "outputs": [
        {
          "output_type": "display_data",
          "data": {
            "image/png": "[encoded data removed]",
            "text/plain": [
              "<Figure size 720x360 with 2 Axes>"
            ]
          },
          "metadata": {
            "needs_background": "light"
          }
        }
      ],
      "source": [
        "reviews19_20 = reviews[(reviews['year']==2019) | (reviews['year']==2020)]\n",
        "sns.catplot(x='month', data=reviews19_20, kind='count', col='year', palette='copper')\n",
        "plt.show();"
      ]
    },
    {
      "cell_type": "markdown",
      "metadata": {
        "id": "gtoVOM2nixxw"
      },
      "source": [
        "# Machine Learning Models"
      ]
    },
    {
      "cell_type": "markdown",
      "metadata": {
        "id": "gEBoWZz6jPZ1"
      },
      "source": [
        "## Classification\n",
        "\n",
        "In this model, we will predict whether a host is a superhost based on the available features in the dataset."
      ]
    },
    {
      "cell_type": "code",
      "execution_count": null,
      "metadata": {
        "id": "ISo1kskp0mgq"
      },
      "outputs": [],
      "source": [
        "# make a copy of the dataframe\n",
        "modeldf = listings.copy()"
      ]
    },
    {
      "cell_type": "code",
      "execution_count": null,
      "metadata": {
        "id": "_YYh_wFi907J"
      },
      "outputs": [],
      "source": [
        "# fill any na values with 0\n",
        "modeldf.is_superhost_numeric = modeldf.is_superhost_numeric.fillna(0)"
      ]
    },
    {
      "cell_type": "markdown",
      "source": [
        "We can start by dropping columns that we think will not have any predictive power, or are duplicates of other converted columns. \n",
        "* There are a number of columns that are URL string, for example, listing_url and picture_url, both of which would not have contributed to the model. \n",
        "* A few of the columns, including host_response_rate and host_acceptance_rate have a very large number of missing values, and we do not feel that we had enough information available to impute the missing values accuratly."
      ],
      "metadata": {
        "id": "LnLvwOOw6JJ0"
      }
    },
    {
      "cell_type": "code",
      "execution_count": null,
      "metadata": {
        "id": "Vpoqo0pn09oa"
      },
      "outputs": [],
      "source": [
        "model_cols = modeldf.drop(columns=['id','listing_url','last_scraped','name','description','neighborhood_overview','picture_url','host_url','host_name','host_since','host_location','host_about','host_thumbnail_url','host_picture_url','host_neighbourhood','host_verifications','neighbourhood','neighbourhood_cleansed','property_type','bathrooms_text','amenities','first_review','last_review','price','host_identity_verified','host_has_profile_pic','host_is_superhost','host_response_rate','host_acceptance_rate','host_listings_count', 'host_identity_verified_numeric'], axis=1)\n",
        "\n",
        "df_listing_dummied = pd.get_dummies(model_cols, columns=['host_response_time','neighbourhood_group_cleansed','room_type','has_availability','instant_bookable'], drop_first=True)"
      ]
    },
    {
      "cell_type": "markdown",
      "source": [
        "* Few of the columns, including host_neighbourhood, neighbourhood and neighbourhood_cleansed, have a lot of different values which would result in a lot of additional columns when creating dummy variables, and these columns also contain messy string data.\n",
        "* There are also some datetime columns, including first_review and last_review. We chose to drop these since there are a very large number of unique values in these columns, and we don't believe that they have any predictive power."
      ],
      "metadata": {
        "id": "Fgw8hurW6yb6"
      }
    },
    {
      "cell_type": "markdown",
      "metadata": {
        "id": "LUF0qf431KvW"
      },
      "source": [
        "#### **Feature Engineering and Model Building** \n",
        "\n",
        "There are many columns that are sepcific to a listing, but not global to a host. Here we will convert a number of columns to be an aggregation per host. \n",
        "\n",
        "For example, we will find the *average_availability_30* across all of the listings for each host so that we have one value for each host.\n",
        "\n",
        "When aggregating, we chose to take the sum of some values, and the mean of others. We chose to calculate the mean for the availability related columns in order to find the average availability for each host across all their listings. \n",
        "\n",
        "For the review score features, we took the average because we felt that summing the score would not make sense in the context. We took the sum of the reviews since we felt it would make sense to calculate a total number of reviews per host."
      ]
    },
    {
      "cell_type": "code",
      "execution_count": null,
      "metadata": {
        "id": "lPUpndku1C0a"
      },
      "outputs": [],
      "source": [
        "# convert average_availability_30\n",
        "average_availability_30_per_host = df_listing_dummied.groupby('host_id')['availability_30'].mean()\n",
        "average_availability_30_per_host = pd.DataFrame(average_availability_30_per_host)\n",
        "average_availability_30_per_host = average_availability_30_per_host.reset_index()\n",
        "average_availability_30_per_host = average_availability_30_per_host.rename(columns={\"availability_30\": \"average_availability_30_per_host\"})\n",
        "\n",
        "df_listing_dummied = df_listing_dummied.merge(average_availability_30_per_host, on='host_id')\n",
        "\n",
        "df_listing_dummied = df_listing_dummied.drop(columns='availability_30', axis=1)"
      ]
    },
    {
      "cell_type": "code",
      "execution_count": null,
      "metadata": {
        "id": "KxcVNJd61cVX"
      },
      "outputs": [],
      "source": [
        "# convert average_availability_60\n",
        "average_availability_60_per_host = df_listing_dummied.groupby('host_id')['availability_60'].mean()\n",
        "average_availability_60_per_host = pd.DataFrame(average_availability_60_per_host)\n",
        "average_availability_60_per_host = average_availability_60_per_host.reset_index()\n",
        "average_availability_60_per_host = average_availability_60_per_host.rename(columns={\"availability_60\": \"average_availability_60_per_host\"})\n",
        "\n",
        "df_listing_dummied = df_listing_dummied.merge(average_availability_60_per_host, on='host_id')\n",
        "\n",
        "df_listing_dummied = df_listing_dummied.drop(columns='availability_60', axis=1)"
      ]
    },
    {
      "cell_type": "code",
      "execution_count": null,
      "metadata": {
        "id": "ElgdLjCu1d52"
      },
      "outputs": [],
      "source": [
        "# convert average_availability_90\n",
        "average_availability_90_per_host = df_listing_dummied.groupby('host_id')['availability_90'].mean()\n",
        "average_availability_90_per_host = pd.DataFrame(average_availability_90_per_host)\n",
        "average_availability_90_per_host = average_availability_90_per_host.reset_index()\n",
        "average_availability_90_per_host = average_availability_90_per_host.rename(columns={\"availability_90\": \"average_availability_90_per_host\"})\n",
        "\n",
        "df_listing_dummied = df_listing_dummied.merge(average_availability_90_per_host, on='host_id')\n",
        "\n",
        "df_listing_dummied = df_listing_dummied.drop(columns='availability_90', axis=1)"
      ]
    },
    {
      "cell_type": "code",
      "execution_count": null,
      "metadata": {
        "id": "z4L1Hihl1ghj"
      },
      "outputs": [],
      "source": [
        "# convert average_availability_365\n",
        "average_availability_365_per_host = df_listing_dummied.groupby('host_id')['availability_365'].mean()\n",
        "average_availability_365_per_host = pd.DataFrame(average_availability_365_per_host)\n",
        "average_availability_365_per_host = average_availability_365_per_host.reset_index()\n",
        "average_availability_365_per_host = average_availability_365_per_host.rename(columns={\"availability_365\": \"average_availability_365_per_host\"})\n",
        "\n",
        "df_listing_dummied = df_listing_dummied.merge(average_availability_365_per_host, on='host_id')\n",
        "\n",
        "df_listing_dummied = df_listing_dummied.drop(columns='availability_365', axis=1)"
      ]
    },
    {
      "cell_type": "code",
      "execution_count": null,
      "metadata": {
        "id": "J-V9exka1iYl"
      },
      "outputs": [],
      "source": [
        "# convert number of reviews\n",
        "total_number_of_reviews_per_host = df_listing_dummied.groupby('host_id')['number_of_reviews'].sum()\n",
        "total_number_of_reviews_per_host = pd.DataFrame(total_number_of_reviews_per_host)\n",
        "total_number_of_reviews_per_host = total_number_of_reviews_per_host.reset_index()\n",
        "total_number_of_reviews_per_host = total_number_of_reviews_per_host.rename(columns={\"number_of_reviews\": \"total_number_of_reviews_per_host\"})\n",
        "\n",
        "df_listing_dummied = df_listing_dummied.merge(total_number_of_reviews_per_host, on='host_id')\n",
        "\n",
        "df_listing_dummied = df_listing_dummied.drop(columns='number_of_reviews', axis=1)"
      ]
    },
    {
      "cell_type": "code",
      "execution_count": null,
      "metadata": {
        "id": "E4quNnx61j8k"
      },
      "outputs": [],
      "source": [
        "# convert number of reviews_ltm\n",
        "total_number_of_reviews_ltm_per_host = df_listing_dummied.groupby('host_id')['number_of_reviews_ltm'].sum()\n",
        "total_number_of_reviews_ltm_per_host = pd.DataFrame(total_number_of_reviews_ltm_per_host)\n",
        "total_number_of_reviews_ltm_per_host = total_number_of_reviews_ltm_per_host.reset_index()\n",
        "total_number_of_reviews_ltm_per_host = total_number_of_reviews_ltm_per_host.rename(columns={\"number_of_reviews_ltm\": \"total_number_of_reviews_ltm_per_host\"})\n",
        "\n",
        "df_listing_dummied = df_listing_dummied.merge(total_number_of_reviews_ltm_per_host, on='host_id')\n",
        "\n",
        "df_listing_dummied = df_listing_dummied.drop(columns='number_of_reviews_ltm', axis=1)"
      ]
    },
    {
      "cell_type": "code",
      "execution_count": null,
      "metadata": {
        "id": "cDWN1UGY1lal"
      },
      "outputs": [],
      "source": [
        "# convert number_of_reviews_l30d \n",
        "total_number_of_reviews_l30d_per_host = df_listing_dummied.groupby('host_id')['number_of_reviews_l30d'].sum()\n",
        "total_number_of_reviews_l30d_per_host = pd.DataFrame(total_number_of_reviews_l30d_per_host)\n",
        "total_number_of_reviews_l30d_per_host = total_number_of_reviews_l30d_per_host.reset_index()\n",
        "total_number_of_reviews_l30d_per_host = total_number_of_reviews_l30d_per_host.rename(columns={\"number_of_reviews_l30d\": \"total_number_of_reviews_l30d_per_host\"})\n",
        "\n",
        "df_listing_dummied = df_listing_dummied.merge(total_number_of_reviews_l30d_per_host, on='host_id')\n",
        "\n",
        "df_listing_dummied = df_listing_dummied.drop(columns='number_of_reviews_l30d', axis=1)"
      ]
    },
    {
      "cell_type": "code",
      "execution_count": null,
      "metadata": {
        "id": "_ddPI0iv1mwh"
      },
      "outputs": [],
      "source": [
        "# convert review_scores_rating\n",
        "avg_review_scores_rating_per_host = df_listing_dummied.groupby('host_id')['review_scores_rating'].mean()\n",
        "avg_review_scores_rating_per_host = pd.DataFrame(avg_review_scores_rating_per_host)\n",
        "avg_review_scores_rating_per_host = avg_review_scores_rating_per_host.reset_index()\n",
        "avg_review_scores_rating_per_host = avg_review_scores_rating_per_host.rename(columns={\"review_scores_rating\": \"avg_review_scores_rating_per_host\"})\n",
        "\n",
        "df_listing_dummied = df_listing_dummied.merge(avg_review_scores_rating_per_host, on='host_id')\n",
        "\n",
        "df_listing_dummied = df_listing_dummied.drop(columns='review_scores_rating', axis=1)"
      ]
    },
    {
      "cell_type": "code",
      "execution_count": null,
      "metadata": {
        "id": "gCX5ssH31nH3"
      },
      "outputs": [],
      "source": [
        "# convert review_scores_accuracy\n",
        "avg_review_scores_accuracy_per_host = df_listing_dummied.groupby('host_id')['review_scores_accuracy'].mean()\n",
        "avg_review_scores_accuracy_per_host = pd.DataFrame(avg_review_scores_accuracy_per_host)\n",
        "avg_review_scores_accuracy_per_host = avg_review_scores_accuracy_per_host.reset_index()\n",
        "avg_review_scores_accuracy_per_host = avg_review_scores_accuracy_per_host.rename(columns={\"review_scores_accuracy\": \"avg_review_scores_accuracy_per_host\"})\n",
        "\n",
        "df_listing_dummied = df_listing_dummied.merge(avg_review_scores_accuracy_per_host, on='host_id')\n",
        "\n",
        "df_listing_dummied = df_listing_dummied.drop(columns='review_scores_accuracy', axis=1)"
      ]
    },
    {
      "cell_type": "code",
      "execution_count": null,
      "metadata": {
        "id": "AwELKsLi1o48"
      },
      "outputs": [],
      "source": [
        "# convert review_scores_cleanliness\n",
        "avg_review_scores_cleanliness_per_host = df_listing_dummied.groupby('host_id')['review_scores_cleanliness'].mean()\n",
        "avg_review_scores_cleanliness_per_host = pd.DataFrame(avg_review_scores_cleanliness_per_host)\n",
        "avg_review_scores_cleanliness_per_host = avg_review_scores_cleanliness_per_host.reset_index()\n",
        "avg_review_scores_cleanliness_per_host = avg_review_scores_cleanliness_per_host.rename(columns={\"review_scores_cleanliness\": \"avg_review_scores_cleanliness_per_host\"})\n",
        "\n",
        "df_listing_dummied = df_listing_dummied.merge(avg_review_scores_cleanliness_per_host, on='host_id')\n",
        "\n",
        "df_listing_dummied = df_listing_dummied.drop(columns='review_scores_cleanliness', axis=1)"
      ]
    },
    {
      "cell_type": "code",
      "execution_count": null,
      "metadata": {
        "id": "D8wwZWHy1qu6"
      },
      "outputs": [],
      "source": [
        "# convert review_scores_checkin\n",
        "avg_review_scores_checkin_per_host = df_listing_dummied.groupby('host_id')['review_scores_checkin'].mean()\n",
        "avg_review_scores_checkin_per_host = pd.DataFrame(avg_review_scores_checkin_per_host)\n",
        "\n",
        "avg_review_scores_checkin_per_host = avg_review_scores_checkin_per_host.reset_index()\n",
        "\n",
        "avg_review_scores_checkin_per_host = avg_review_scores_checkin_per_host.rename(columns={\"review_scores_checkin\": \"avg_review_scores_checkin_per_host\"})\n",
        "\n",
        "df_listing_dummied = df_listing_dummied.merge(avg_review_scores_checkin_per_host, on='host_id')\n",
        "\n",
        "df_listing_dummied = df_listing_dummied.drop(columns='review_scores_checkin', axis=1)"
      ]
    },
    {
      "cell_type": "code",
      "execution_count": null,
      "metadata": {
        "id": "KlFnDTmC1sT8"
      },
      "outputs": [],
      "source": [
        "# convert review_scores_communication\n",
        "avg_review_scores_communication_per_host = df_listing_dummied.groupby('host_id')['review_scores_communication'].mean()\n",
        "avg_review_scores_communication_per_host = pd.DataFrame(avg_review_scores_communication_per_host)\n",
        "avg_review_scores_communication_per_host = avg_review_scores_communication_per_host.reset_index()\n",
        "avg_review_scores_communication_per_host = avg_review_scores_communication_per_host.rename(columns={\"review_scores_communication\": \"avg_review_scores_checkin_per_host\"})\n",
        "\n",
        "df_listing_dummied = df_listing_dummied.merge(avg_review_scores_communication_per_host, on='host_id')\n",
        "\n",
        "df_listing_dummied = df_listing_dummied.drop(columns='review_scores_communication', axis=1)"
      ]
    },
    {
      "cell_type": "code",
      "execution_count": null,
      "metadata": {
        "id": "KESdyvkI1uKb"
      },
      "outputs": [],
      "source": [
        "# convert review_scores_location\n",
        "avg_review_scores_location_per_host = df_listing_dummied.groupby('host_id')['review_scores_location'].mean()\n",
        "avg_review_scores_location_per_host = pd.DataFrame(avg_review_scores_location_per_host)\n",
        "avg_review_scores_location_per_host = avg_review_scores_location_per_host.reset_index()\n",
        "avg_review_scores_location_per_host = avg_review_scores_location_per_host.rename(columns={\"review_scores_location\": \"avg_review_scores_location_per_host\"})\n",
        "\n",
        "df_listing_dummied = df_listing_dummied.merge(avg_review_scores_location_per_host, on='host_id')\n",
        "\n",
        "df_listing_dummied = df_listing_dummied.drop(columns='review_scores_location', axis=1)"
      ]
    },
    {
      "cell_type": "code",
      "execution_count": null,
      "metadata": {
        "id": "YUU-Bq361v2Q"
      },
      "outputs": [],
      "source": [
        "# convert review_scores_value \n",
        "avg_review_scores_value_per_host = df_listing_dummied.groupby('host_id')['review_scores_value'].mean()\n",
        "avg_review_scores_value_per_host = pd.DataFrame(avg_review_scores_value_per_host)\n",
        "avg_review_scores_value_per_host = avg_review_scores_value_per_host.reset_index()\n",
        "avg_review_scores_value_per_host = avg_review_scores_value_per_host.rename(columns={\"review_scores_value\": \"avg_review_scores_value_per_host\"})\n",
        "\n",
        "df_listing_dummied = df_listing_dummied.merge(avg_review_scores_value_per_host, on='host_id')\n",
        "\n",
        "df_listing_dummied = df_listing_dummied.drop(columns='review_scores_value', axis=1)"
      ]
    },
    {
      "cell_type": "code",
      "execution_count": null,
      "metadata": {
        "id": "2CZY9CUp1xhZ"
      },
      "outputs": [],
      "source": [
        "# convert reviews_per_month\n",
        "avg_reviews_per_month_per_host = df_listing_dummied.groupby('host_id')['reviews_per_month'].mean()\n",
        "avg_reviews_per_month_per_host = pd.DataFrame(avg_reviews_per_month_per_host)\n",
        "avg_reviews_per_month_per_host = avg_reviews_per_month_per_host.reset_index()\n",
        "avg_reviews_per_month_per_host = avg_reviews_per_month_per_host.rename(columns={\"reviews_per_month\": \"avg_reviews_per_month_per_host\"})\n",
        "\n",
        "df_listing_dummied = df_listing_dummied.merge(avg_reviews_per_month_per_host, on='host_id')\n",
        "\n",
        "df_listing_dummied = df_listing_dummied.drop(columns='reviews_per_month', axis=1)"
      ]
    },
    {
      "cell_type": "code",
      "execution_count": null,
      "metadata": {
        "id": "Wn195DUs1686"
      },
      "outputs": [],
      "source": [
        "# convert room_type_Private room\n",
        "avg_room_type_Private_room_per_host = df_listing_dummied.groupby('host_id')['room_type_Private room'].mean()\n",
        "avg_room_type_Private_room_per_host = pd.DataFrame(avg_room_type_Private_room_per_host)\n",
        "avg_room_type_Private_room_per_host = avg_room_type_Private_room_per_host.reset_index()\n",
        "avg_room_type_Private_room_per_host = avg_room_type_Private_room_per_host.rename(columns={\"room_type_Private room\": \"avg_room_type_Private_room_per_host\"})\n",
        "\n",
        "df_listing_dummied = df_listing_dummied.merge(avg_room_type_Private_room_per_host, on='host_id')\n",
        "\n",
        "df_listing_dummied = df_listing_dummied.drop(columns='room_type_Private room', axis=1)"
      ]
    },
    {
      "cell_type": "code",
      "execution_count": null,
      "metadata": {
        "id": "QNVb2WD318oa"
      },
      "outputs": [],
      "source": [
        "# convert room_type_Shared room\n",
        "avg_room_type_Shared_room_per_host = df_listing_dummied.groupby('host_id')['room_type_Shared room'].mean()\n",
        "avg_room_type_Shared_room_per_host = pd.DataFrame(avg_room_type_Shared_room_per_host)\n",
        "avg_room_type_Shared_room_per_host = avg_room_type_Shared_room_per_host.reset_index()\n",
        "avg_room_type_Shared_room_per_host = avg_room_type_Shared_room_per_host.rename(columns={\"room_type_Shared room\": \"avg_room_type_Shared_room_per_host\"})\n",
        "\n",
        "df_listing_dummied = df_listing_dummied.merge(avg_room_type_Shared_room_per_host, on='host_id')\n",
        "\n",
        "df_listing_dummied = df_listing_dummied.drop(columns='room_type_Shared room', axis=1)"
      ]
    },
    {
      "cell_type": "code",
      "execution_count": null,
      "metadata": {
        "id": "9ZJujIWM1-EG"
      },
      "outputs": [],
      "source": [
        "# convert instant_bookable_t\n",
        "avg_instant_bookable_t_per_host = df_listing_dummied.groupby('host_id')['instant_bookable_t'].mean()\n",
        "avg_instant_bookable_t_per_host = pd.DataFrame(avg_instant_bookable_t_per_host)\n",
        "avg_instant_bookable_t_per_host = avg_instant_bookable_t_per_host.reset_index()\n",
        "avg_instant_bookable_t_per_host = avg_instant_bookable_t_per_host.rename(columns={\"instant_bookable_t\": \"avg_instant_bookable_t_per_host\"})\n",
        "\n",
        "df_listing_dummied = df_listing_dummied.merge(avg_instant_bookable_t_per_host, on='host_id')\n",
        "\n",
        "df_listing_dummied = df_listing_dummied.drop(columns='instant_bookable_t', axis=1)"
      ]
    },
    {
      "cell_type": "code",
      "execution_count": null,
      "metadata": {
        "id": "FcUKISdW2Fhj"
      },
      "outputs": [],
      "source": [
        "# convert from object type to category to prepare for model creation\n",
        "df_listing_dummied.is_superhost_numeric = df_listing_dummied.is_superhost_numeric.astype('category')\n",
        "# df_listing_dummied.host_identity_verified_numeric = df_listing_dummied.host_identity_verified_numeric.astype('category')"
      ]
    },
    {
      "cell_type": "code",
      "execution_count": null,
      "metadata": {
        "id": "WGQkDxAd2LCh"
      },
      "outputs": [],
      "source": [
        "# eliminate duplicate host_id\n",
        "column_name = ['host_id']\n",
        "hosts_model_df = df_listing_dummied.sort_values('host_id').drop_duplicates(subset=column_name)"
      ]
    },
    {
      "cell_type": "markdown",
      "metadata": {
        "id": "0cHLGhFB2S9o"
      },
      "source": [
        "#### **Creating a KNN model**\n",
        "\n",
        "In the first model, we chose to use all of the available features. We calculated a low sensativity score, revealing that this model is not good at differentiating between superhost and non-superhost. \n",
        "\n",
        "After running Random Forest Classifier to find the most important features. The second model can be created with only the top few features and  much higher sensativity score can be calculated."
      ]
    },
    {
      "cell_type": "markdown",
      "source": [
        "##### **Splitting the data**"
      ],
      "metadata": {
        "id": "jmKAPGOqkvKM"
      }
    },
    {
      "cell_type": "code",
      "execution_count": null,
      "metadata": {
        "id": "_UggKd4z2QPl"
      },
      "outputs": [],
      "source": [
        "# features matrix\n",
        "X = hosts_model_df.drop('is_superhost_numeric', axis=1)  \n",
        "# target vector\n",
        "y = hosts_model_df['is_superhost_numeric']\n",
        "\n",
        "# split the data into train and test sets\n",
        "Xtrain, Xtest, ytrain, ytest = train_test_split(X, y, test_size=0.3, random_state=833)"
      ]
    },
    {
      "cell_type": "code",
      "execution_count": null,
      "metadata": {
        "id": "UIulcl4G2aob"
      },
      "outputs": [],
      "source": [
        "knn = KNeighborsClassifier(n_neighbors=3)\n",
        "knn.fit(Xtrain, ytrain)\n",
        "y_model = knn.predict(Xtest)\n",
        "P = sum(ytest == 1)   # number who superhosts\n",
        "n_test = len(ytest)    # total number of hosts in the dataset\n",
        "TP = sum((ytest == 1) & (y_model == 1))    # the number that we correcty predicted as superhosts\n",
        "\n",
        "TPR = TP/P   # sensitivity"
      ]
    },
    {
      "cell_type": "code",
      "execution_count": null,
      "metadata": {
        "colab": {
          "base_uri": "https://localhost:8080/"
        },
        "id": "GCugQ9VX2b6_",
        "outputId": "b6cd2071-4ed6-43a1-eed2-9ddf84827a6c"
      },
      "outputs": [
        {
          "output_type": "execute_result",
          "data": {
            "text/plain": [
              "0.5486381322957199"
            ]
          },
          "metadata": {},
          "execution_count": 119
        }
      ],
      "source": [
        "TPR  # True Positive Rate"
      ]
    },
    {
      "cell_type": "code",
      "execution_count": null,
      "metadata": {
        "colab": {
          "base_uri": "https://localhost:8080/"
        },
        "id": "y4ANX01SKbKg",
        "outputId": "701ce052-47d0-42b1-93a1-0b6f3f1d9d34"
      },
      "outputs": [
        {
          "output_type": "execute_result",
          "data": {
            "text/plain": [
              "137"
            ]
          },
          "metadata": {},
          "execution_count": 120
        }
      ],
      "source": [
        "# the total number in the dataset that are not super hosts\n",
        "N = sum(ytest == 0)\n",
        "# true negative, or the number that we correctly identified as not super hosts\n",
        "TN = sum((ytest == 0) & (y_model == 0))\n",
        "# the true negative rate (Specificity)\n",
        "TNR = TN/N\n",
        "# a false positive (the total positives - the correclty predicted positives = the falsly predicted postives)\n",
        "FP = P-TP\n",
        "FP\n",
        "# a false negative (the total negatives - the correclty predicted negatives = the falsly predicted negatives)\n",
        "FN = N-TN\n",
        "FN"
      ]
    },
    {
      "cell_type": "code",
      "execution_count": null,
      "metadata": {
        "colab": {
          "base_uri": "https://localhost:8080/"
        },
        "id": "cA_T6CimNDE0",
        "outputId": "f5ea9276-748b-4056-ca03-a95f30106147"
      },
      "outputs": [
        {
          "output_type": "execute_result",
          "data": {
            "text/plain": [
              "0.5545774647887324"
            ]
          },
          "metadata": {},
          "execution_count": 121
        }
      ],
      "source": [
        "# Calculate an overal accuracy score\n",
        "accuracy_score(ytest, y_model)"
      ]
    },
    {
      "cell_type": "code",
      "execution_count": null,
      "metadata": {
        "colab": {
          "base_uri": "https://localhost:8080/",
          "height": 282
        },
        "id": "s6z-h5j5KeXa",
        "outputId": "873bfad5-8f84-40fc-8774-bce814b9cced"
      },
      "outputs": [
        {
          "output_type": "execute_result",
          "data": {
            "text/plain": [
              "<matplotlib.axes._subplots.AxesSubplot at 0x7f17beace8d0>"
            ]
          },
          "metadata": {},
          "execution_count": 122
        },
        {
          "output_type": "display_data",
          "data": {
            "image/png": "[encoded data removed]",
            "text/plain": [
              "<Figure size 432x288 with 2 Axes>"
            ]
          },
          "metadata": {
            "needs_background": "light"
          }
        }
      ],
      "source": [
        "data=[[TP, FN], [FP, TN]]\n",
        "heatmap_data = pd.DataFrame(data)\n",
        "heatmap_data.columns = ['Predicted Yes', 'Predicted No']\n",
        "heatmap_data.index = ['Actual Yes', 'Actual No']\n",
        "sns.heatmap(heatmap_data, annot=True, cmap=\"crest\", fmt='d')"
      ]
    },
    {
      "cell_type": "markdown",
      "metadata": {
        "id": "-eEDgeSzNDE1"
      },
      "source": [
        "The confusion matrix below displays the true positive, true negative, false negative, and false poitive rates that resulted from running the model with all of the features. There were a large number of false positive where we predicted that a host was a superhost when they were actually not. For this reason, we chose to run a Random Forest Classifier to determine the most important features required for the classification model."
      ]
    },
    {
      "cell_type": "markdown",
      "source": [
        "### **Feature Importance and Parameter tuning** "
      ],
      "metadata": {
        "id": "yxwYmeupgUg_"
      }
    },
    {
      "cell_type": "markdown",
      "metadata": {
        "id": "L-lmPPYWNDE1"
      },
      "source": [
        "The Random Forest Classifier reveals that the most important features are review related. For example, the total number of reviews that a host has in the last 12 months is the most important feature. The average number of reviews per month, as well as their cleanliness, their review score, and accuracy scores are also important. According to AirBnb ([AirBnb Superhost Requirements](https://www.airbnb.com/help/article/829/how-do-i-become-a-superhost)), a Superhost should have at least a 4.8 overall rating over the last year, and our Random Forest output reiterates this point. There is also a requirement to have at least 10 reservations in the last year. The results below are aligned with AirBnb's policies which states that  the number of reviews and quality of reviews are very important in determining if a host becomes a superhost. \n",
        "\n",
        "This analysis also reveals how important it is for AirBnb hosts to maintain glowing reviews since AirBnb will take this into account when selecting hosts to become Superhosts. Also, it is important for a host to receive a large number of reviews, and to have at least 10 reservations within the last year."
      ]
    },
    {
      "cell_type": "code",
      "execution_count": null,
      "metadata": {
        "colab": {
          "base_uri": "https://localhost:8080/",
          "height": 607
        },
        "id": "jLZKBhqX20fF",
        "outputId": "eb12ca4f-3111-458d-db87-7cc237c9f75b"
      },
      "outputs": [
        {
          "output_type": "display_data",
          "data": {
            "image/png": "[encoded data removed]",
            "text/plain": [
              "<Figure size 576x720 with 1 Axes>"
            ]
          },
          "metadata": {
            "needs_background": "light"
          }
        }
      ],
      "source": [
        "# determining the most important features using RandomForestClassifier\n",
        "params = {'random_state': 0, 'n_jobs': 4, 'n_estimators': 5000, 'max_depth': 8}\n",
        "\n",
        "# Drop redundant columns (for features with two unique values)\n",
        "drop = ['is_superhost_numeric']\n",
        "x, y = hosts_model_df.drop(drop,axis=1), hosts_model_df['is_superhost_numeric']\n",
        "# Fit RandomForest Classifier\n",
        "clf = RandomForestClassifier(**params)\n",
        "clf = clf.fit(x, y)\n",
        "# Plot features importances\n",
        "imp = pd.Series(data=clf.feature_importances_, index=x.columns).sort_values(ascending=False)\n",
        "plt.figure(figsize=(8,10))\n",
        "plt.title(\"Feature importance\")\n",
        "ax = sns.barplot(y=imp.index[:9], x=imp.values[:9], palette=\"Blues_d\", orient='h')"
      ]
    },
    {
      "cell_type": "code",
      "execution_count": null,
      "metadata": {
        "id": "G0G3e0JOKj1m"
      },
      "outputs": [],
      "source": [
        "host_count = pd.DataFrame(hosts[hosts.is_superhost_numeric == 1].groupby('neighbourhood_group_cleansed')['host_id'].count()).reset_index()\n",
        "host_count.columns = ['neighborhood','count']"
      ]
    },
    {
      "cell_type": "code",
      "execution_count": null,
      "metadata": {
        "id": "LregsmGy28DW"
      },
      "outputs": [],
      "source": [
        "# subset the df for only the most important features\n",
        "model_2_df = hosts_model_df[['is_superhost_numeric','total_number_of_reviews_ltm_per_host','avg_reviews_per_month_per_host','total_number_of_reviews_per_host','avg_review_scores_rating_per_host', 'host_response_time_within an hour','avg_review_scores_cleanliness_per_host','avg_review_scores_accuracy_per_host']]"
      ]
    },
    {
      "cell_type": "code",
      "execution_count": null,
      "metadata": {
        "id": "wqt12nP13AvE"
      },
      "outputs": [],
      "source": [
        "# features matrix\n",
        "X = model_2_df.drop('is_superhost_numeric', axis=1)  \n",
        "# target vector\n",
        "y = model_2_df['is_superhost_numeric']\n",
        "\n",
        "# split the data into train and test sets\n",
        "Xtrain, Xtest, ytrain, ytest = train_test_split(X, y, test_size=0.3, random_state=833)"
      ]
    },
    {
      "cell_type": "code",
      "execution_count": null,
      "metadata": {
        "id": "qSVIqMRZ3CO_"
      },
      "outputs": [],
      "source": [
        "knn = KNeighborsClassifier(n_neighbors=3)\n",
        "knn.fit(Xtrain, ytrain)\n",
        "y_model = knn.predict(Xtest)\n",
        "# number who are superhosts\n",
        "P = sum(ytest == 1)\n",
        "# total number of hosts in the dataset\n",
        "n_test = len(ytest)\n",
        "# the number that we correcty predicted as superhosts\n",
        "TP = sum((ytest == 1) & (y_model == 1))\n",
        "# sensativity\n",
        "TPR = TP/P"
      ]
    },
    {
      "cell_type": "code",
      "execution_count": null,
      "metadata": {
        "colab": {
          "base_uri": "https://localhost:8080/"
        },
        "id": "t1TfPzxJ3L4z",
        "outputId": "201a2d4f-0026-4f63-c686-f7e6fd8dac7c"
      },
      "outputs": [
        {
          "output_type": "execute_result",
          "data": {
            "text/plain": [
              "0.6147859922178989"
            ]
          },
          "metadata": {},
          "execution_count": 151
        }
      ],
      "source": [
        "# an improved sensitivity score of 62.96%\n",
        "TPR"
      ]
    },
    {
      "cell_type": "code",
      "execution_count": null,
      "metadata": {
        "colab": {
          "base_uri": "https://localhost:8080/"
        },
        "id": "hQYccJQ23MmH",
        "outputId": "553a764e-4272-4183-a2f5-0f9285efb4b9"
      },
      "outputs": [
        {
          "output_type": "execute_result",
          "data": {
            "text/plain": [
              "0.6197183098591549"
            ]
          },
          "metadata": {},
          "execution_count": 152
        }
      ],
      "source": [
        "accuracy_score(ytest, y_model)"
      ]
    },
    {
      "cell_type": "code",
      "execution_count": null,
      "metadata": {
        "colab": {
          "base_uri": "https://localhost:8080/"
        },
        "id": "13_NKUKr3N4I",
        "outputId": "d8fe92f6-7de2-40f4-f30d-b89e8e75bc6e"
      },
      "outputs": [
        {
          "output_type": "execute_result",
          "data": {
            "text/plain": [
              "117"
            ]
          },
          "metadata": {},
          "execution_count": 153
        }
      ],
      "source": [
        "# the total number in the dataset that are not super hosts\n",
        "N = sum(ytest == 0)\n",
        "# true negative, or the number that we correctly identified as not super hosts\n",
        "TN = sum((ytest == 0) & (y_model == 0))\n",
        "# the true negative rate (Specificity)\n",
        "TNR = TN/N\n",
        "# a false positive (the total positives - the correclty predicted positives = the falsly predicted postives)\n",
        "FP = P-TP\n",
        "FP\n",
        "# a false negative (the total negatives - the correclty predicted negatives = the falsly predicted negatives)\n",
        "FN = N-TN\n",
        "FN"
      ]
    },
    {
      "cell_type": "markdown",
      "metadata": {
        "id": "wVYQ-XIu3Z7e"
      },
      "source": [
        "#### **Model Results**\n",
        "\n",
        "By selecting only the first few most important features, we were able to improve our model. We are now able to achieve a much higher sensativity score. There were a total of 158 hosts that we correctly predicted as superhosts. The confusion matrix below displays the true positive, true negative, false negative, and false poitive rates that resulted from running the model with all of the features. The matrix displays a much lower number of false positives compared to the previous model."
      ]
    },
    {
      "cell_type": "code",
      "execution_count": null,
      "metadata": {
        "colab": {
          "base_uri": "https://localhost:8080/",
          "height": 282
        },
        "id": "WeF-87ue3P1d",
        "outputId": "f57562d5-f160-48a5-bd8a-a766db0dac2c"
      },
      "outputs": [
        {
          "output_type": "execute_result",
          "data": {
            "text/plain": [
              "<matplotlib.axes._subplots.AxesSubplot at 0x7f17bda5ef10>"
            ]
          },
          "metadata": {},
          "execution_count": 131
        },
        {
          "output_type": "display_data",
          "data": {
            "image/png": "[encoded data removed]",
            "text/plain": [
              "<Figure size 432x288 with 2 Axes>"
            ]
          },
          "metadata": {
            "needs_background": "light"
          }
        }
      ],
      "source": [
        "# create a heatmap showing the results\n",
        "data=[[TP, FN], [FP, TN]]\n",
        "heatmap_data = pd.DataFrame(data)\n",
        "heatmap_data.columns = ['Predicted Yes', 'Predicted No']\n",
        "heatmap_data.index = ['Actual Yes', 'Actual No']\n",
        "sns.heatmap(heatmap_data, annot=True, cmap=\"crest\", fmt='d')"
      ]
    },
    {
      "cell_type": "markdown",
      "metadata": {
        "id": "Vv1jSdzaNDFD"
      },
      "source": [
        "# Conclusion\n",
        "\n",
        "We noticied that there is higher competition for Airbnb hosts in Santa Clara, and that the most expensive neighborhoods (Saratoga and Palo Alto) are located near downtown. Also, there are a large number of entire home/apartment type listings in Saratoga which indicates that hosts in Saratoga might percieve Airbnb listings as a business opportunity, viz-av-z hosts in Saratoga, who would be looking to save rent/money by renting out private rooms.\n",
        "\n",
        "COVID-19 impacted the price of listings which reduced after the onset of the pandemic. The nunber of reviews also decreased as a result of the pandemic. \n",
        "\n",
        "The number of reviews plays a significant role in determining the prediction of host types, but is not significant in predicting price of listings. However, features related to accommodation, room type and neighborhoods in Palo Alto, Sacramento play an important role in determining future price of the listings. These features would be crucial for AirBnb to predict revenue.\n"
      ]
    },
    {
      "cell_type": "markdown",
      "metadata": {
        "id": "JtlISxzCNDFD"
      },
      "source": [
        "### **Observations**\n",
        "\n",
        "* Adjustment of listing prices based on the availability of competing listings within the neighborhood, especially during special circumstances such as COVID-19 \n",
        "* We observe a trend of higher listing prices for superhosts, which provides prospective hosts with a great incentive to aim for becoming superhosts\n",
        "* Airbnb hosts can place more emphasis in finding guests who are opinion leaders and bloggers who can leave positive reviews and increase exposure of the listing "
      ]
    },
    {
      "cell_type": "markdown",
      "source": [
        "### **Referrences**\n",
        "- Missingno -https://stackoverflow.com/questions/39644866/python-best-way-convey-missing-value-count/39645233#39645233\n",
        "\n",
        "- Min Arg https://stackoverflow.com/questions/27114738/min-arg-is-an-empty-sequence\n",
        "\n",
        "- Model referrence - https://www.kaggle.com/aybukehamideak/booking-prediction-ml-hyperparameter-optimization\n",
        "\n",
        "- EDA Referrence- https://www.kaggle.com/avi111297/complete-eda-pred-cancel-of-booking-94-21-acc\n",
        "\n",
        "- Superhost Requirements - https://www.airbnb.co.in/help/article/829/how-to-become-a-superhost"
      ],
      "metadata": {
        "id": "6GAvrcR8kwkl"
      }
    }
  ],
  "metadata": {
    "colab": {
      "collapsed_sections": [
        "9lUI4zGZbSoE",
        "pl17jlYmFvZv",
        "LtIK-1oXUglR",
        "AXLVTI9P-0zf",
        "kBSHZb_CeugF",
        "ZZKqXG3THHBQ",
        "xiQy70X8IWVI",
        "ptlxmrQ7I6Wb",
        "q5Ik8HPRBr6n",
        "maoWhe8HVniS",
        "sb1_3QPdb1x5",
        "aq8UUTz7edsl",
        "QfD2QlsAdtfm",
        "wCwB6FJviO0u",
        "ofsuzmNyg_t-",
        "8B-REDtqjjMs",
        "k7FGhA_zjoEH",
        "--tpMT7s24Bg",
        "Ul_MBgImn23v",
        "hPK6_bVFrKLs",
        "EbJbX_4wjRNA"
      ],
      "name": "Final 602 Project Airbnb.ipynb",
      "provenance": [],
      "include_colab_link": true
    },
    "environment": {
      "name": "common-cpu.m59",
      "type": "gcloud",
      "uri": "gcr.io/deeplearning-platform-release/base-cpu:m59"
    },
    "kernelspec": {
      "display_name": "Python 3",
      "language": "python",
      "name": "python3"
    },
    "language_info": {
      "codemirror_mode": {
        "name": "ipython",
        "version": 3
      },
      "file_extension": ".py",
      "mimetype": "text/x-python",
      "name": "python",
      "nbconvert_exporter": "python",
      "pygments_lexer": "ipython3",
      "version": "3.8.3-final"
    }
  },
  "nbformat": 4,
  "nbformat_minor": 0
}